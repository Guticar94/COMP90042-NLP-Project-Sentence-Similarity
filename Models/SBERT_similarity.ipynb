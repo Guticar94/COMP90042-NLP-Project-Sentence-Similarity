{
 "cells": [
  {
   "attachments": {},
   "cell_type": "markdown",
   "metadata": {},
   "source": [
    "# Sentence similarity - SBERT\n",
    " \n",
    "This notebook was created to calculate the similarity measure from the SBERT outputs."
   ]
  },
  {
   "cell_type": "code",
   "execution_count": 2,
   "metadata": {},
   "outputs": [],
   "source": [
    "import json\n",
    "import pandas as pd\n",
    "import numpy as np\n",
    "import torch\n",
    "import torch.nn as nn"
   ]
  },
  {
   "cell_type": "code",
   "execution_count": 3,
   "metadata": {},
   "outputs": [],
   "source": [
    "# Load evidence dataset\n",
    "# Read evidence\n",
    "with open('../data/evidence.json', 'r') as f:\n",
    "    evidence = json.load(f)\n",
    "eviden = pd.DataFrame.from_dict(evidence, orient='index', columns=['evidence'])\n",
    "\n",
    "# Read dev claims\n",
    "with open('../data/dev-claims.json', 'r') as f:\n",
    "    df_dev = pd.DataFrame(json.load(f)).transpose()\n",
    "\n",
    "# Load encoded evidence set - This dataset is the SBERT encoded matrix for the evidence\n",
    "with open('../data/SBERT_2/encoded_evidence.json', 'rb') as f:\n",
    "    enc_ev = np.load(f)\n",
    "# Load encoded dev set -  This dataset is the SBERT encoded matrix for the dev claims\n",
    "with open('../data/SBERT_2/encoded_dev_claims.json', 'rb') as f:\n",
    "    enc_dv = np.load(f)"
   ]
  },
  {
   "attachments": {},
   "cell_type": "markdown",
   "metadata": {},
   "source": [
    "### Measure similarity in dev set"
   ]
  },
  {
   "cell_type": "code",
   "execution_count": 1,
   "metadata": {},
   "outputs": [],
   "source": [
    "# Measure similarity ( This cell takes long time to run)\n",
    "cos = nn.CosineSimilarity(dim=1, eps=1e-6)\n",
    "tot = enc_dv.shape[0]\n",
    "dv_sim = []\n",
    "dv_sim_ = []\n",
    "df = pd.Series(np.array(eviden.index)).reset_index(name='id').drop(['index'], axis=1)\n",
    "for i in range(tot):\n",
    "    print(f'{i} of {tot} iterantions')\n",
    "    similarity = cos(torch.from_numpy(enc_ev), torch.from_numpy(enc_dv[i]))\n",
    "    df[df_dev.index[i]] = similarity.detach().numpy().reshape(-1)\n",
    "# Write results\n",
    "df.to_csv('../data/SBERT_2/sim.csv')"
   ]
  },
  {
   "cell_type": "code",
   "execution_count": 86,
   "metadata": {},
   "outputs": [
    {
     "name": "stdout",
     "output_type": "stream",
     "text": [
      "thresh: 990 F1: 0.0001251826994173842\n",
      "thresh: 993 F1: 0.00014719771697847464\n",
      "thresh: 996 F1: 0.00016811728171091595\n",
      "thresh: 999 F1: 0.0004276801047330198\n"
     ]
    }
   ],
   "source": [
    "#  Score the results using thresholds\n",
    "f_score = {}\n",
    "for thresh in range(990,1000, 3):\n",
    "    precision, recall, F1 = [], [], []\n",
    "    for claim in df_dev.index:\n",
    "        ds = df.set_index('id').loc[:, [claim]] \n",
    "        ds = ds[ds[claim] >= thresh/1000]\n",
    "        TP = ds[ds.index.isin(df_dev.loc[claim, 'evidences'])].shape[0]\n",
    "        FP = ds.shape[0]-TP\n",
    "        FN = len(df_dev.loc[claim, 'evidences']) - TP\n",
    "\n",
    "        precision = TP/(TP+FP + 1E-10)\n",
    "        recall = TP/(TP+FN + 1E-10)\n",
    "        F1.append((2 * precision * recall)/(precision + recall + 1E-10))\n",
    "    mn = np.mean(F1)\n",
    "    f_score[thresh] = mn\n",
    "    print(f'thresh: {thresh} F1: {mn}')"
   ]
  },
  {
   "attachments": {},
   "cell_type": "markdown",
   "metadata": {},
   "source": [
    "### Measure similarity in test set"
   ]
  },
  {
   "cell_type": "code",
   "execution_count": 60,
   "metadata": {},
   "outputs": [],
   "source": [
    "# Read test claims\n",
    "with open('../data/test-claims-unlabelled.json', 'r') as f:\n",
    "    df_test = pd.DataFrame(json.load(f)).transpose()\n",
    "\n",
    "\n",
    "# Load encoded test set -  This dataset is the SBERT encoded matrix for the test claims\n",
    "with open('../data/SBERT_2/encoded_ts_claims.json', 'rb') as f:\n",
    "    enc_ts = np.load(f)"
   ]
  },
  {
   "cell_type": "code",
   "execution_count": 2,
   "metadata": {},
   "outputs": [],
   "source": [
    "# Measure similarity ( This cell takes long time to run)\n",
    "cos = nn.CosineSimilarity(dim=1, eps=1e-6)\n",
    "tot = enc_ts.shape[0]\n",
    "dv_sim = []\n",
    "dv_sim_ = []\n",
    "df = pd.Series(np.array(eviden.index)).reset_index(name='id').drop(['index'], axis=1)\n",
    "for i in range(tot):\n",
    "    print(f'{i} of {tot} iterantions')\n",
    "    similarity = cos(torch.from_numpy(enc_ev), torch.from_numpy(enc_ts[i]))\n",
    "    df[df_test.index[i]] = similarity.detach().numpy().reshape(-1)\n",
    "# Write results\n",
    "df.to_csv('../data/SBERT_2/ts_sim.csv')"
   ]
  },
  {
   "cell_type": "code",
   "execution_count": 157,
   "metadata": {},
   "outputs": [],
   "source": [
    "# Define threshold\n",
    "pr_ev = []\n",
    "for claim in df_test.index:\n",
    "    ds = df.set_index('id').loc[:, [claim]] \n",
    "    ds = ds[ds[claim] >= 0.995]\n",
    "    pr_ev.append(list(ds.index))\n",
    "df_test['evidences'] = pr_ev\n",
    "# Write results\n",
    "df_test.to_json('evidence_test_2.json')"
   ]
  }
 ],
 "metadata": {
  "kernelspec": {
   "display_name": "venv",
   "language": "python",
   "name": "python3"
  },
  "language_info": {
   "codemirror_mode": {
    "name": "ipython",
    "version": 3
   },
   "file_extension": ".py",
   "mimetype": "text/x-python",
   "name": "python",
   "nbconvert_exporter": "python",
   "pygments_lexer": "ipython3",
   "version": "3.9.6"
  },
  "orig_nbformat": 4
 },
 "nbformat": 4,
 "nbformat_minor": 2
}
