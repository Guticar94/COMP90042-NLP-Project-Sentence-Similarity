{
 "cells": [
  {
   "cell_type": "code",
   "execution_count": 1,
   "metadata": {},
   "outputs": [],
   "source": [
    "# %pip install pandas nltk numpy torch torchvision\n",
    "# import nltk\n",
    "# nltk.download('punkt')\n",
    "# pip install torch==1.13.1+cu117 torchvision==0.14.1+cu117 --extra-index-url https://download.pytorch.org/whl/cu117 --no-cache-dir"
   ]
  },
  {
   "cell_type": "code",
   "execution_count": 2,
   "metadata": {},
   "outputs": [],
   "source": [
    "import pandas as pd\n",
    "import json\n",
    "from nltk.tokenize import word_tokenize\n",
    "import numpy as np\n",
    "import re\n",
    "import random\n",
    "import matplotlib.pyplot as plt"
   ]
  },
  {
   "cell_type": "code",
   "execution_count": 3,
   "metadata": {},
   "outputs": [
    {
     "name": "stderr",
     "output_type": "stream",
     "text": [
      "d:\\Apps\\anaconda3\\envs\\comp90042Project\\lib\\site-packages\\tqdm\\auto.py:21: TqdmWarning: IProgress not found. Please update jupyter and ipywidgets. See https://ipywidgets.readthedocs.io/en/stable/user_install.html\n",
      "  from .autonotebook import tqdm as notebook_tqdm\n"
     ]
    }
   ],
   "source": [
    "import os\n",
    "# os.environ['CUDA_LAUNCH_BLOCKING'] = \"1\"\n",
    "import torch\n",
    "from torch.utils.data import Dataset, DataLoader\n",
    "from torch import nn\n",
    "device = torch.device('cuda' if torch.cuda.is_available() else 'cpu')"
   ]
  },
  {
   "cell_type": "code",
   "execution_count": 4,
   "metadata": {},
   "outputs": [
    {
     "data": {
      "text/plain": [
       "True"
      ]
     },
     "execution_count": 4,
     "metadata": {},
     "output_type": "execute_result"
    }
   ],
   "source": [
    "torch.cuda.is_available()"
   ]
  },
  {
   "cell_type": "code",
   "execution_count": 5,
   "metadata": {},
   "outputs": [],
   "source": [
    "import math\n",
    "from tqdm import tqdm, tqdm_notebook # show progress bar\n",
    "# from sklearn.metrics import f1_score\n",
    "\n",
    "import warnings"
   ]
  },
  {
   "attachments": {},
   "cell_type": "markdown",
   "metadata": {},
   "source": [
    "# 1. Preprocess the data"
   ]
  },
  {
   "cell_type": "code",
   "execution_count": 6,
   "metadata": {},
   "outputs": [],
   "source": [
    "# Read evidence\n",
    "with open('../data/evidence.json', 'r') as f:\n",
    "    evidence = json.load(f)\n",
    "eviden = pd.DataFrame.from_dict(evidence, orient='index', columns=['evidence'])\n",
    "ev_txt = eviden['evidence'].values\n",
    "max_len = max([len(j.split()) for i,j in evidence.items()])\n",
    "\n",
    "# Read train claims\n",
    "with open('../data/train-claims.json', 'r') as f:\n",
    "    df_train = pd.DataFrame(json.load(f)).transpose()\n",
    "\n",
    "# Read dev claims\n",
    "with open('../data/dev-claims.json', 'r') as f:\n",
    "    df_dev = pd.DataFrame(json.load(f)).transpose()\n",
    "\n",
    "# Read test claims\n",
    "with open('../data/test-claims-unlabelled.json', 'r') as f:\n",
    "    df_test = pd.DataFrame(json.load(f)).transpose()"
   ]
  },
  {
   "cell_type": "code",
   "execution_count": 7,
   "metadata": {},
   "outputs": [],
   "source": [
    "# Tokenizer function (Map words to indexes)\n",
    "class token:\n",
    "    def __init__(self):\n",
    "        self.word2index = {\"[PAD]\": 0, \"[CLS]\": 1, \"[SEP]\": 2, \"[MASK]\": 3}\n",
    "        self.index2word = {0: \"[PAD]\", 1: \"[CLS]\", 2: \"[SEP]\", 3: \"[MASK]\"}\n",
    "        self.n_words = 4  # Count CLS and SEP\n",
    "\n",
    "    def addSentence(self, sentence):\n",
    "        for word in sentence.split():\n",
    "            self.addWord(word)\n",
    "\n",
    "    def addWord(self, word):\n",
    "        if word not in self.word2index:\n",
    "            self.word2index[word] = self.n_words\n",
    "            self.index2word[self.n_words] = word\n",
    "            self.n_words += 1\n",
    "\n",
    "# tokenizer function\n",
    "tokenizer = token()\n",
    "def tok(corpus):\n",
    "    [tokenizer.addSentence(i) for i in corpus]\n",
    "\n",
    "# Function to get negative relations\n",
    "def neg(claims, number):\n",
    "    # Define lists\n",
    "    tok_ev, tok_cl, label = [], [], []\n",
    "    # Get negative list\n",
    "    negative = eviden.sample(n = number)['evidence'].values\n",
    "    for cl in claims:\n",
    "        # Add negative relations to list\n",
    "        tok_ev.extend(negative)\n",
    "        tok_cl.extend([cl] *len(negative))\n",
    "        label.extend([0] * len(negative))\n",
    "    return tok_ev, tok_cl, label "
   ]
  },
  {
   "cell_type": "code",
   "execution_count": 8,
   "metadata": {},
   "outputs": [],
   "source": [
    "# Process of tokenization and string removal from evidence dataset. File saved to reduce memory usage\n",
    "if not os.path.exists('../data/evidence_tokenized.json'):\n",
    "    # Tokenize and lower text\n",
    "    ev = [word_tokenize(i.lower()) for i in ev_txt]\n",
    "    # Drop unknown characters\n",
    "    ev_txt = [' '.join([w for w in seq if re.match('^[\\w\\d]+$', w)]) for seq in ev]\n",
    "    with open('../data/evidence_tokenized.json', 'w') as f:\n",
    "        json.dump(ev_txt, f)\n",
    "else:\n",
    "    with open('../data/evidence_tokenized.json', 'r') as f:\n",
    "        ev_txt = json.load(f)\n",
    "        tok(ev_txt)\n",
    "        eviden['evidence'] = ev_txt"
   ]
  },
  {
   "cell_type": "code",
   "execution_count": 9,
   "metadata": {},
   "outputs": [
    {
     "data": {
      "text/plain": [
       "{'DISPUTED': 0, 'REFUTES': 1, 'SUPPORTS': 2, 'NOT_ENOUGH_INFO': 3}"
      ]
     },
     "execution_count": 9,
     "metadata": {},
     "output_type": "execute_result"
    }
   ],
   "source": [
    "LABEL_DICTIONARY = {}\n",
    "ID_DICTIONARY = {}\n",
    "for i, label in enumerate(df_train['claim_label'].unique()):\n",
    "    LABEL_DICTIONARY[label] = i\n",
    "    ID_DICTIONARY[i] = label\n",
    "LABEL_DICTIONARY"
   ]
  },
  {
   "cell_type": "code",
   "execution_count": 50,
   "metadata": {},
   "outputs": [
    {
     "data": {
      "image/png": "[encoded data removed]",
      "text/plain": [
       "<Figure size 1200x600 with 2 Axes>"
      ]
     },
     "metadata": {},
     "output_type": "display_data"
    }
   ],
   "source": [
    "# Label Distribution\n",
    "fig, axs = plt.subplots(1, 2, figsize=(12,6))\n",
    "\n",
    "axs[0].set_title(\"Train\")\n",
    "axs[1].set_title(\"Validation\")\n",
    "tlabel = axs[0].hist(sorted([l for l in df_train['claim_label']]))\n",
    "vlabel = axs[1].hist(sorted([l for l in df_train['claim_label']]))"
   ]
  },
  {
   "cell_type": "code",
   "execution_count": 51,
   "metadata": {},
   "outputs": [
    {
     "data": {
      "text/html": [
       "<div>\n",
       "<style scoped>\n",
       "    .dataframe tbody tr th:only-of-type {\n",
       "        vertical-align: middle;\n",
       "    }\n",
       "\n",
       "    .dataframe tbody tr th {\n",
       "        vertical-align: top;\n",
       "    }\n",
       "\n",
       "    .dataframe thead th {\n",
       "        text-align: right;\n",
       "    }\n",
       "</style>\n",
       "<table border=\"1\" class=\"dataframe\">\n",
       "  <thead>\n",
       "    <tr style=\"text-align: right;\">\n",
       "      <th></th>\n",
       "      <th>claim_text</th>\n",
       "      <th>evidences_text</th>\n",
       "      <th>label</th>\n",
       "    </tr>\n",
       "  </thead>\n",
       "  <tbody>\n",
       "    <tr>\n",
       "      <th>claim-2130</th>\n",
       "      <td>Plant stomata show higher and more variable CO...</td>\n",
       "      <td>in some places the rain fell over 50 mm in an ...</td>\n",
       "      <td>0</td>\n",
       "    </tr>\n",
       "    <tr>\n",
       "      <th>claim-44</th>\n",
       "      <td>Human-produced carbon might be one of the fact...</td>\n",
       "      <td>more recent studies of seafloor microbes cast ...</td>\n",
       "      <td>0</td>\n",
       "    </tr>\n",
       "    <tr>\n",
       "      <th>claim-1774</th>\n",
       "      <td>The CERN CLOUD experiment only tested one-thir...</td>\n",
       "      <td>This result does not support the hypothesis th...</td>\n",
       "      <td>1</td>\n",
       "    </tr>\n",
       "    <tr>\n",
       "      <th>claim-2020</th>\n",
       "      <td>Weather Channel Co-Founder John Coleman Calls ...</td>\n",
       "      <td>confused by the conflicting indications an ope...</td>\n",
       "      <td>0</td>\n",
       "    </tr>\n",
       "    <tr>\n",
       "      <th>claim-1112</th>\n",
       "      <td>“The jet stream forms a boundary between the c...</td>\n",
       "      <td>it lies south of wellington and has a populati...</td>\n",
       "      <td>0</td>\n",
       "    </tr>\n",
       "    <tr>\n",
       "      <th>...</th>\n",
       "      <td>...</td>\n",
       "      <td>...</td>\n",
       "      <td>...</td>\n",
       "    </tr>\n",
       "    <tr>\n",
       "      <th>claim-1367</th>\n",
       "      <td>But we do have other reliable indicators of te...</td>\n",
       "      <td>shortly thereafter agramunt himself was one of...</td>\n",
       "      <td>0</td>\n",
       "    </tr>\n",
       "    <tr>\n",
       "      <th>claim-450</th>\n",
       "      <td>If we double atmospheric carbon dioxide[…] we’...</td>\n",
       "      <td>globally during the 1980s one new nuclear reac...</td>\n",
       "      <td>0</td>\n",
       "    </tr>\n",
       "    <tr>\n",
       "      <th>claim-1506</th>\n",
       "      <td>Most likely the primary control knob on climat...</td>\n",
       "      <td>United States Secretary of Energy Rick Perry, ...</td>\n",
       "      <td>1</td>\n",
       "    </tr>\n",
       "    <tr>\n",
       "      <th>claim-710</th>\n",
       "      <td>With marine ice cliff instability, sea-level r...</td>\n",
       "      <td>According to the Fourth (2017) National Climat...</td>\n",
       "      <td>1</td>\n",
       "    </tr>\n",
       "    <tr>\n",
       "      <th>claim-2818</th>\n",
       "      <td>The 30,000 scientists and science graduates li...</td>\n",
       "      <td>Robinson asserted in 2008 that the petition ha...</td>\n",
       "      <td>1</td>\n",
       "    </tr>\n",
       "  </tbody>\n",
       "</table>\n",
       "<p>8244 rows × 3 columns</p>\n",
       "</div>"
      ],
      "text/plain": [
       "                                                   claim_text  \\\n",
       "claim-2130  Plant stomata show higher and more variable CO...   \n",
       "claim-44    Human-produced carbon might be one of the fact...   \n",
       "claim-1774  The CERN CLOUD experiment only tested one-thir...   \n",
       "claim-2020  Weather Channel Co-Founder John Coleman Calls ...   \n",
       "claim-1112  “The jet stream forms a boundary between the c...   \n",
       "...                                                       ...   \n",
       "claim-1367  But we do have other reliable indicators of te...   \n",
       "claim-450   If we double atmospheric carbon dioxide[…] we’...   \n",
       "claim-1506  Most likely the primary control knob on climat...   \n",
       "claim-710   With marine ice cliff instability, sea-level r...   \n",
       "claim-2818  The 30,000 scientists and science graduates li...   \n",
       "\n",
       "                                               evidences_text  label  \n",
       "claim-2130  in some places the rain fell over 50 mm in an ...      0  \n",
       "claim-44    more recent studies of seafloor microbes cast ...      0  \n",
       "claim-1774  This result does not support the hypothesis th...      1  \n",
       "claim-2020  confused by the conflicting indications an ope...      0  \n",
       "claim-1112  it lies south of wellington and has a populati...      0  \n",
       "...                                                       ...    ...  \n",
       "claim-1367  shortly thereafter agramunt himself was one of...      0  \n",
       "claim-450   globally during the 1980s one new nuclear reac...      0  \n",
       "claim-1506  United States Secretary of Energy Rick Perry, ...      1  \n",
       "claim-710   According to the Fourth (2017) National Climat...      1  \n",
       "claim-2818  Robinson asserted in 2008 that the petition ha...      1  \n",
       "\n",
       "[8244 rows x 3 columns]"
      ]
     },
     "execution_count": 51,
     "metadata": {},
     "output_type": "execute_result"
    }
   ],
   "source": [
    "# Helper function to prepare datasets\n",
    "def prepare_df(df):\n",
    "    # Support labels\n",
    "    df_1 = df.explode(\"evidences\")\n",
    "    df_1['evidences_text'] = [evidence[item] for item in df_1['evidences']]\n",
    "    df_1['label'] = 1\n",
    "    # Refuse labels\n",
    "    df_2 = df_1[['claim_text']].copy()\n",
    "    df_2['evidences_text'] = [random.choice(ev_txt) for i in range(df_2.shape[0])]\n",
    "    df_2['label'] = 0\n",
    "    df = pd.concat([df_1[['claim_text' , 'evidences_text', 'label']], df_2]).sample(frac=1)\n",
    "    return df\n",
    "\n",
    "df = prepare_df(df_train)\n",
    "df"
   ]
  },
  {
   "cell_type": "code",
   "execution_count": null,
   "metadata": {},
   "outputs": [],
   "source": [
    "# Helper function to prepare datasets\n",
    "def prepare_df(df):\n",
    "    # Support labels\n",
    "    df_1 = df.explode(\"evidences\")\n",
    "    df_1['evidences_text'] = [evidence[item] for item in df_1['evidences']]\n",
    "    df_1['label'] = 1\n",
    "    # Refuse labels\n",
    "    df_2 = df_1[['claim_text']].copy()\n",
    "    df_2['evidences_text'] = [random.choice(ev_txt) for i in range(df_2.shape[0])]\n",
    "    df_2['label'] = 0\n",
    "    df = pd.concat([df_1[['claim_text' , 'evidences_text', 'label']], df_2]).sample(frac=1)\n",
    "    return df\n",
    "\n",
    "# Select columns to work on and retrieve tokenized and preprocesed vectors \n",
    "def feature_selection(df):\n",
    "    # Prepare df\n",
    "    df_ = prepare_df(df)\n",
    "    # Set words to lower and tokenize\n",
    "    tok_evidence = [word_tokenize(i.lower()) for i in df_['evidences_text']]\n",
    "    tok_claim = [word_tokenize(i.lower()) for i in df_['claim_text']]\n",
    "    # Drop unknown characters (This may be modified depending model performance)\n",
    "    tok_evidence = [' '.join([w for w in seq if re.match('^[\\w\\d]+$', w)]) for seq in tok_evidence]\n",
    "    tok_claim = [' '.join([w for w in seq if re.match('^[\\w\\d]+$', w)]) for seq in tok_claim]\n",
    "    # Class label\n",
    "    label = df_['label']\n",
    "    return tok_claim, tok_evidence, label\n",
    "\n",
    "# Get data features\n",
    "tr_tok_cl, tr_tok_ev, tr_label = feature_selection(df_train)"
   ]
  },
  {
   "cell_type": "code",
   "execution_count": null,
   "metadata": {},
   "outputs": [],
   "source": [
    "pd.Series(tr_label).value_counts()"
   ]
  },
  {
   "cell_type": "code",
   "execution_count": null,
   "metadata": {
    "scrolled": true
   },
   "outputs": [],
   "source": [
    "# Preprocess dev set\n",
    "# Instanciate lists\n",
    "dv_tok_ev = []\n",
    "dv_tok_cl = []\n",
    "# Get positive pair relations\n",
    "positive = df_dev.explode('evidences')[['claim_text', 'evidences']]\n",
    "# Add positive relations to list\n",
    "dv_tok_ev.extend([eviden.loc[i].values[0] for i in positive['evidences']])\n",
    "dv_tok_cl.extend(positive['claim_text'].values)\n",
    "dv_label =[1] * len(positive)\n",
    "\n",
    "# Create negative relations\n",
    "negative = neg(dv_tok_cl, 1)\n",
    "dv_tok_ev.extend(negative[0])\n",
    "dv_tok_cl.extend(negative[1])\n",
    "dv_label.extend(negative[2])"
   ]
  },
  {
   "cell_type": "code",
   "execution_count": null,
   "metadata": {},
   "outputs": [],
   "source": [
    "pd.Series(dv_label).value_counts()"
   ]
  },
  {
   "cell_type": "code",
   "execution_count": null,
   "metadata": {},
   "outputs": [],
   "source": [
    "# Prepare test to tokenize\n",
    "claim_test = [word_tokenize(i.lower()) for i in df_test['claim_text']]\n",
    "claim_test = [' '.join([w for w in seq if re.match('^[\\w\\d]+$', w)]) for seq in claim_test]"
   ]
  },
  {
   "cell_type": "code",
   "execution_count": null,
   "metadata": {},
   "outputs": [],
   "source": [
    "# Add tokens to dict\n",
    "tok(ev_txt)\n",
    "tok(tr_tok_cl)\n",
    "tok(dv_tok_cl)\n",
    "tok(claim_test)"
   ]
  },
  {
   "cell_type": "markdown",
   "metadata": {},
   "source": [
    "# 2. Model the data"
   ]
  },
  {
   "attachments": {},
   "cell_type": "markdown",
   "metadata": {},
   "source": [
    "### Load the data to tensor batches"
   ]
  },
  {
   "attachments": {},
   "cell_type": "markdown",
   "metadata": {},
   "source": [
    "<center><h3> 2.1 Bert embeding</h3></center>\n",
    "\n",
    "<center><img src=../main/Images/BERT_emb.png alt=\"drawing\" width=\"500\"></center>\n",
    "<center><img src=../Images/BERT_emb_example.png alt=\"drawing\" width=\"500\"></center>"
   ]
  },
  {
   "cell_type": "code",
   "execution_count": null,
   "metadata": {},
   "outputs": [],
   "source": [
    "# Dataset class\n",
    "class Dataset(Dataset):\n",
    "    def __init__(self, texts, tokenizer, seq_len=max_len):\n",
    "        self.text = texts\n",
    "        self.tokenizer = tokenizer\n",
    "        self.seq_len = seq_len\n",
    "    def __len__(self):\n",
    "        return len(self.text)\n",
    "    def __getitem__(self, idx):\n",
    "        # Step 1: get text tokens\n",
    "        sent = [self.tokenizer.word2index[i] for i in self.text[idx].split()]\n",
    "        \n",
    "        # Step 2: replace random words in sentence with mask / random words\n",
    "        sent_mask, labels = self.masking(sent)\n",
    "\n",
    "        # Step 3: Adding CLS and SEP tokens to the start and end of sentence\n",
    "        # Adding PAD token for labels\n",
    "        sent = [self.tokenizer.word2index['[CLS]']] + sent_mask + [self.tokenizer.word2index['[SEP]']]\n",
    "        labels = [self.tokenizer.word2index['[PAD]']] + labels + [self.tokenizer.word2index['[PAD]']]\n",
    "\n",
    "        # Step 4: Add PAD tokens to make the sentence same length as seq_len\n",
    "        padding = [self.tokenizer.word2index['[PAD]'] for empty in range(self.seq_len - len(sent))]\n",
    "        sent.extend(padding)\n",
    "        labels.extend(padding)\n",
    "        return np.array(sent), np.array(labels)\n",
    "    \n",
    "    #------------------------------------------------------------------------------------------\n",
    "    # Function to mask/randomize tokens\n",
    "    def masking(self, tokens, to_replace = 0.15):\n",
    "        # tokens = input.split()\n",
    "        output = []\n",
    "        label = []\n",
    "        for token in tokens:\n",
    "            prob = random.random()\n",
    "            # 15% of the tokens would be replaced\n",
    "            if prob <= to_replace:\n",
    "                # 10% chance change token to current token\n",
    "                if prob < to_replace*.1:\n",
    "                    output.append(token)\n",
    "                # 10% chance change token to random\n",
    "                elif prob < to_replace*.1*2:\n",
    "                    output.append(random.choice(list(self.tokenizer.word2index.values())))\n",
    "                # 10% chance change token to random\n",
    "                else:\n",
    "                    output.append(self.tokenizer.word2index[\"[MASK]\"])\n",
    "                label.append(token)\n",
    "            else:\n",
    "                output.append(token)\n",
    "                label.append(0)\n",
    "        return output, label"
   ]
  },
  {
   "cell_type": "code",
   "execution_count": null,
   "metadata": {},
   "outputs": [],
   "source": [
    "# Define collate (pre_process) function\n",
    "def collate_batch(batch):\n",
    "    texts, labels = zip(*batch)\n",
    "    texts = torch.from_numpy(np.array(texts)).to(device)\n",
    "    labels = torch.from_numpy(np.array(labels)).to(device)\n",
    "    return texts, labels\n",
    "\n",
    "# Instanciate DataLoader\n",
    "bs = 32\n",
    "\n",
    "# ______________________________Traing data______________________________\n",
    "# Datasets\n",
    "tr_ev_ds = Dataset(tr_tok_ev, tokenizer)\n",
    "tr_cl_ds = Dataset(tr_tok_cl, tokenizer)\n",
    "\n",
    "# Dataloaders\n",
    "tr_ev_dl = DataLoader(tr_ev_ds, batch_size=bs, collate_fn=collate_batch)\n",
    "tr_cl_dl = DataLoader(tr_cl_ds, batch_size=bs, collate_fn=collate_batch)\n",
    "tr_y_dl = DataLoader(tr_label, batch_size=bs)\n",
    "\n",
    "# ______________________________Test data______________________________\n",
    "# Datasets\n",
    "dv_ev_ds = Dataset(dv_tok_ev, tokenizer)\n",
    "dv_cl_ds = Dataset(dv_tok_cl, tokenizer)\n",
    "\n",
    "# Dataloaders\n",
    "dv_ev_dl = DataLoader(dv_ev_ds, batch_size=bs, collate_fn=collate_batch)\n",
    "dv_cl_dl = DataLoader(dv_cl_ds, batch_size=bs, collate_fn=collate_batch)\n",
    "dv_y_dl = DataLoader(dv_label, batch_size=bs)"
   ]
  },
  {
   "attachments": {},
   "cell_type": "markdown",
   "metadata": {},
   "source": [
    "<center><h3> 2.1 Positional encoding to embed the data</h3></center>\n",
    "\n",
    "<center><img src=../Images/pos_encoder.png alt=\"drawing\" width=\"300\"></center>\n",
    "\n",
    "<center>Details on:</center>\n",
    "<center><a href=\"https://machinelearningmastery.com/a-gentle-introduction-to-positional-encoding-in-transformer-models-part-1/\"><ph>A Gentle Introduction to Positional Encoding in Transformer Models</ph></a></center>"
   ]
  },
  {
   "cell_type": "code",
   "execution_count": null,
   "metadata": {},
   "outputs": [],
   "source": [
    "# Positional embeding function\n",
    "class positionalEmbeding(nn.Module):\n",
    "    def __init__(self, embedding_dim, drop = 0.2, max_len = max_len):\n",
    "        # Inputs:\n",
    "        # embedding_dim: Length of input embeding\n",
    "        # max_len: Max number of tokens in an input sentence\n",
    "        # Return: Positional Embeding Matrix\n",
    "        super(positionalEmbeding, self).__init__()\n",
    "        self.dropout = nn.Dropout(p=drop)                                                                           # Dropout layer\n",
    "        \n",
    "        # Positional embeding matrix \n",
    "        position = torch.arange(0, max_len, dtype=torch.float).unsqueeze(1)                                         # Positional increasing vector [max_len, 1]\n",
    "        div_term = torch.exp(torch.arange(0, embedding_dim, 2).float() * (-math.log(10000.0) / embedding_dim))      # Division term for the sin/cos functions\n",
    "        pe = torch.zeros(max_len, embedding_dim).float()                                                            # Matrix of 0's [max_len, embedding_dim]\n",
    "        pe[:, 0::2] = torch.sin(position * div_term)                                                                # 0::2 means starting with index 0, step = 2\n",
    "        pe[:, 1::2] = torch.cos(position * div_term)                                                                # 1::2 means starting with index 1, step = 2\n",
    "        pe = pe.unsqueeze(0)                                                                                        # Resize pos encoder [1, max_len, embedding_dim]\n",
    "        self.register_buffer('pe', pe)                                                                              # Adds pos encoder to the model state_dict\n",
    "\n",
    "    def forward(self, x):\n",
    "        # Input:\n",
    "        # x: Embeding matrix [batch_size, text_length, embedding_dim]\n",
    "        x = x + self.pe.requires_grad_(False)                      # Sum the position embeding\n",
    "        return self.dropout(x)                                     # Apply dropout"
   ]
  },
  {
   "attachments": {},
   "cell_type": "markdown",
   "metadata": {},
   "source": [
    "<center><h3> 2.2 Multihead attention</h3></center>\n",
    "<center><img src=../Images/attention.png alt=\"drawing\" width=\"600\"></center>\n",
    "\n",
    "<center>Details on:</center>\n",
    "<center><a href=\"https://towardsdatascience.com/build-your-own-transformer-from-scratch-using-pytorch-84c850470dcb\"><ph>Build your own Transformer from scratch using Pytorch</ph></a></center>"
   ]
  },
  {
   "cell_type": "code",
   "execution_count": null,
   "metadata": {},
   "outputs": [],
   "source": [
    "class MultiHeadAttention(nn.Module):\n",
    "    def __init__(self, embedding_dim, num_heads, dropout=0.1):\n",
    "        super(MultiHeadAttention, self).__init__()\n",
    "\n",
    "        assert embedding_dim % num_heads == 0, \"in_size must be divisible by num_heads\"\n",
    "\n",
    "        self.embedding_dim = embedding_dim                      # Embeding input size\n",
    "        self.num_heads = num_heads                              # Num heads of multihead attention model\n",
    "        self.head_dim = embedding_dim // num_heads              # Embedding parameters for each head\n",
    "        \n",
    "        # Instanciate weights\n",
    "        self.W_q = nn.Linear(embedding_dim, embedding_dim)      # Query weights\n",
    "        self.W_k = nn.Linear(embedding_dim, embedding_dim)      # Key weights\n",
    "        self.W_v = nn.Linear(embedding_dim, embedding_dim)      # Values weights\n",
    "        self.linear = nn.Linear(embedding_dim, embedding_dim)\n",
    "        self.dropout = nn.Dropout(dropout)\n",
    "\n",
    "    # scaled_dot_product_attention\n",
    "    def dot_prd_attn(self, Q, K, V, mask):\n",
    "        attn_scores = torch.matmul(Q, K.transpose(-2, -1)) / math.sqrt(self.head_dim)   # MatMult (Q*K)\n",
    "\n",
    "        # Fill 0 mask with super small number so it wont affect the softmax weight\n",
    "        attn_scores = attn_scores.masked_fill(mask == 0, -1e9)     \n",
    "\n",
    "        # softmax to put attention weight for all non-pad tokens\n",
    "        attn_probs = self.dropout(torch.softmax(attn_scores, dim=-1))                   # Softmax\n",
    "        context = torch.matmul(attn_probs, V)                                           # MatMult (Probs*V)\n",
    "        return context\n",
    "    \n",
    "    # Function to split attention heads\n",
    "    def split_heads(self, x):\n",
    "        batch_size, seq_length, embedding_dim = x.size()\n",
    "        return x.view(batch_size, self.num_heads, seq_length, self.head_dim)\n",
    "    # Function to join attention heads\n",
    "    def combine_heads(self, x):\n",
    "        batch_size, num_heads, seq_length, head_dim = x.size()\n",
    "        return x.view(batch_size, seq_length, self.embedding_dim)\n",
    "    \n",
    "    def forward(self, x, mask):\n",
    "        # Weights linear pass (Random inicialization) + Split heads\n",
    "        Q = self.split_heads(self.W_q(x))\n",
    "        K = self.split_heads(self.W_k(x))\n",
    "        V = self.split_heads(self.W_v(x))\n",
    "        # Multihead attention\n",
    "        attn = self.dot_prd_attn(Q, K, V, mask)                 # scaled_dot_product_attention\n",
    "        attn = self.combine_heads(attn)                         # Concat heads\n",
    "        attn = self.linear(attn)                                # Linear pass\n",
    "        return attn"
   ]
  },
  {
   "attachments": {},
   "cell_type": "markdown",
   "metadata": {},
   "source": [
    "<center><h3> 2.3 Encoder model (Passage Ranking)</h3></center>\n",
    "<center>Source papers:</center>\n",
    "<center><a href=\"https://arxiv.org/pdf/1706.03762\"><ph>Attention Is All You Need</ph></a></center>\n",
    "<center><a href=\"https://arxiv.org/pdf/1706.03762\"><ph>Text and Code Embeddings by Contrastive Pre-Training</ph></a></center>"
   ]
  },
  {
   "attachments": {},
   "cell_type": "markdown",
   "metadata": {},
   "source": [
    "<center>Encoder:</center>\n",
    "<center><img src=../Images/encoder.png alt=\"drawing\" width=\"300\"></center>"
   ]
  },
  {
   "cell_type": "code",
   "execution_count": null,
   "metadata": {},
   "outputs": [],
   "source": [
    "# Encoder class based \n",
    "class EncoderLayer(nn.Module):\n",
    "    def __init__(self, \n",
    "                vocab_size,                            # Size of vocabulary\n",
    "                embedding_dim,                         # Embedding dimension\n",
    "                n_head,                                # Number of heads  in the multihead attention model\n",
    "                hidden_dim = 300,                      # Hiden dims for the feed forward pass\n",
    "                dropout = 0.5):\n",
    "        \n",
    "        super(EncoderLayer, self).__init__()\n",
    "        self.embedding_dim = embedding_dim\n",
    "\n",
    "        self.multihead = MultiHeadAttention(embedding_dim, n_head)              # Multihead attention layer\n",
    "        self.normalization = nn.LayerNorm(embedding_dim)                        # Normalization layer\n",
    "        self.dropout = nn.Dropout(dropout)\n",
    "        self.linear = nn.Linear(embedding_dim, 1)                               # Output layer\n",
    "\n",
    "        # Feed forward pass\n",
    "        self.feed_forward = nn.Sequential().to(device)\n",
    "        self.feed_forward.add_module('fc1', nn.Linear(embedding_dim, hidden_dim))\n",
    "        self.feed_forward.add_module('relu', nn.GELU())\n",
    "        self.feed_forward.add_module('fc2', nn.Linear(hidden_dim, embedding_dim))\n",
    "\n",
    "    def forward(self, embeding, mask):\n",
    "        attn = self.dropout(self.multihead(embeding, mask))                      # Multihead attention\n",
    "        normal = self.normalization(embeding + attn)                             # Add & Normalize pass\n",
    "        forward = self.dropout(self.feed_forward(normal))                       # Feed Forward pass\n",
    "        encoded = self.normalization(normal + forward)                          # Add & Normalize pass #2\n",
    "        return encoded"
   ]
  },
  {
   "attachments": {},
   "cell_type": "markdown",
   "metadata": {},
   "source": [
    "<center><h3> 2.4 BERT model</h3></center>\n",
    "<center><img src=../Images/BERT_enc.png alt=\"drawing\" width=\"400\"></center>"
   ]
  },
  {
   "cell_type": "code",
   "execution_count": null,
   "metadata": {},
   "outputs": [],
   "source": [
    "# Bert model\n",
    "class BERT(nn.Module):\n",
    "    # Encoder is a stack of N encoder layers. \n",
    "    def __init__(self, vocab_size, d_model, num_layers, n_head, dropout):\n",
    "        super(BERT, self).__init__()\n",
    "\n",
    "        self.d_model = d_model\n",
    "        self.n_layers = num_layers\n",
    "        self.heads = n_head\n",
    "\n",
    "        # paper noted they used 4 * hidden_size for ff_network_hidden_size\n",
    "        self.feed_forward_hidden = d_model * 4\n",
    "\n",
    "        # embedding for BERT, sum of positional and token embeddings (No sentence since it is a SBERT)\n",
    "        self.encoder = nn.Embedding(vocab_size, d_model, padding_idx=0)   # Embeding layer\n",
    "        self.pos_encoder = positionalEmbeding(d_model, dropout)           # Positional embeding\n",
    "\n",
    "        # multi-layers transformer blocks, deep network\n",
    "        self.encoder_blocks = torch.nn.ModuleList(\n",
    "            [EncoderLayer(vocab_size = vocab_size, embedding_dim = d_model, n_head = n_head, hidden_dim = 500, dropout = 0.5)\\\n",
    "                .to(device) for _ in range(num_layers)])\n",
    "        \n",
    "\n",
    "    def forward(self, text, mask):\n",
    "        mask = (text > 0).unsqueeze(1).repeat(1, text.size(1), 1).unsqueeze(1)  # Redim mask [batch_size, 1, 1, max_len]\n",
    "        encoder = self.encoder(text) * math.sqrt(self.d_model)                  # Text embeding imput\n",
    "        pos_enc = self.pos_encoder(encoder)                                     # Positional embeding + Text embeding\n",
    "        # running over multiple transformer blocks\n",
    "        for layer in self.encoder_blocks:\n",
    "            output = layer(pos_enc, mask)\n",
    "        return output"
   ]
  },
  {
   "attachments": {},
   "cell_type": "markdown",
   "metadata": {},
   "source": [
    "<center><h3> 2.5 SBERT model</h3></center>\n",
    "\n",
    "<center><img src=../Images/SBERT_classification.png alt=\"drawing\" width=\"400\"></center>"
   ]
  },
  {
   "cell_type": "code",
   "execution_count": null,
   "metadata": {},
   "outputs": [],
   "source": [
    "# Parameters\n",
    "vocab_size = len(tokenizer.word2index)+1\n",
    "d_model = 300\n",
    "n_head = 1\n",
    "dropout = 0.1\n",
    "hidden_dim = 2048\n",
    "num_layers = 3\n",
    "# Instanciate model\n",
    "model = BERT(vocab_size, d_model, num_layers, n_head, dropout).to(device)"
   ]
  },
  {
   "cell_type": "code",
   "execution_count": null,
   "metadata": {},
   "outputs": [],
   "source": [
    "# Loss fn\n",
    "loss_fn = nn.CrossEntropyLoss().to(device)\n",
    "# Optimizer\n",
    "optimizer = torch.optim.Adam(model.parameters())    # lr=2e−5"
   ]
  },
  {
   "cell_type": "code",
   "execution_count": null,
   "metadata": {},
   "outputs": [],
   "source": [
    "# Train SBERT model\n",
    "def train_model():\n",
    "    # Cosine similarity function\n",
    "    cos = nn.CosineSimilarity(dim=1, eps=1e-6)\n",
    "\n",
    "    train_loss = 0\n",
    "\n",
    "    # Iterate dataloader\n",
    "    for t1, t2, y in tqdm(zip(tr_ev_dl, tr_cl_dl, tr_y_dl)):\n",
    "        # Set parameters\n",
    "        sent_a, m1 = t1\n",
    "        sent_b, m2 = t2\n",
    "        y = y.float().to(device)\n",
    "\n",
    "        model.train()\n",
    "        \n",
    "        # Reset gradient\n",
    "        optimizer.zero_grad()\n",
    "\n",
    "        # Encoder layer\n",
    "        enc_a = model(sent_a, m1)\n",
    "        enc_b = model(sent_b, m2)\n",
    "\n",
    "        # Pooling layer mean\n",
    "        u = torch.mean(enc_a, 1) \n",
    "        v = torch.mean(enc_b, 1) \n",
    "\n",
    "        # Similarity metric\n",
    "        similarity = cos(u, v)\n",
    "\n",
    "        # Loss\n",
    "        loss = loss_fn(similarity, y)\n",
    "        acc = torch.sum((similarity>=0.5).float() == y)\n",
    "        total = y.size()[0]\n",
    "\n",
    "        # Metrics\n",
    "        train_loss += loss.item()\n",
    "        loss.backward()             # Backpropagation\n",
    "        optimizer.step()            # Update parameters\n",
    "\n",
    "    # Print results\n",
    "    d_acc = (acc)/(total)\n",
    "    loss = train_loss/len(tr_y_dl)\n",
    "\n",
    "    tqdm.write(\n",
    "        f'Train Accuracy: {d_acc:.3f}\\\n",
    "        Train Loss: {loss:.3f}',\n",
    "    )"
   ]
  },
  {
   "cell_type": "code",
   "execution_count": null,
   "metadata": {},
   "outputs": [],
   "source": [
    "def test_model():\n",
    "    cos = nn.CosineSimilarity(dim=1, eps=1e-6)\n",
    "    test_loss = 0\n",
    "    # Iterate dataloader\n",
    "    for t1, t2, y in tqdm(zip(dv_ev_dl, dv_cl_dl, dv_y_dl)):\n",
    "        # Set parameters\n",
    "        sent_a, m1 = t1\n",
    "        sent_b, m2 = t2\n",
    "        y = y.float().to(device)\n",
    "    \n",
    "        model.eval()\n",
    "    \n",
    "        # Encoder layer\n",
    "        enc_a = model(sent_a, m1)\n",
    "        enc_b = model(sent_b, m2)\n",
    "    \n",
    "        # Pooling layer mean\n",
    "        u = torch.mean(enc_a, 1) \n",
    "        v = torch.mean(enc_b, 1) \n",
    "\n",
    "        # Similarity metric\n",
    "        similarity = cos(u, v)\n",
    "    \n",
    "        # Loss\n",
    "        loss = loss_fn((similarity>=0.5).float(), y)\n",
    "        acc = torch.sum((similarity>=0.5).float() == y)\n",
    "        total = y.size()[0]\n",
    "    \n",
    "        # Metrics\n",
    "        test_loss += loss.item()\n",
    "    \n",
    "    # Print results\n",
    "    d_acc = (acc)/(total)\n",
    "    loss = test_loss/len(dv_y_dl)\n",
    "    \n",
    "    tqdm.write(\n",
    "        f'Test Accuracy: {d_acc:.3f}\\\n",
    "        Test Loss: {loss:.3f}',\n",
    "    )"
   ]
  },
  {
   "cell_type": "code",
   "execution_count": null,
   "metadata": {},
   "outputs": [],
   "source": [
    "warnings.filterwarnings(\"ignore\")\n",
    "\n",
    "# Epochs\n",
    "epochs = 10\n",
    "print(\"Training SBERT model!\")\n",
    "\n",
    "for epoch in range(epochs):\n",
    "    print('epoch: %d'% (epoch))\n",
    "    train_model()\n",
    "    test_model()"
   ]
  },
  {
   "cell_type": "markdown",
   "metadata": {},
   "source": [
    "### Test on a bigger sample"
   ]
  },
  {
   "cell_type": "code",
   "execution_count": null,
   "metadata": {},
   "outputs": [],
   "source": [
    "# Preprocess dev set\n",
    "# Instanciate lists\n",
    "dv_tok_ev = []\n",
    "dv_tok_cl = []\n",
    "# Get positive pair relations\n",
    "positive = df_dev.explode('evidences')[['claim_text', 'evidences']]\n",
    "# Add positive relations to list\n",
    "dv_tok_ev.extend([eviden.loc[i].values[0] for i in positive['evidences']])\n",
    "dv_tok_cl.extend(positive['claim_text'].values)\n",
    "dv_label =[1] * len(positive)\n",
    "\n",
    "# Create negative relations\n",
    "negative = neg(dv_tok_cl, 100)\n",
    "dv_tok_ev.extend(negative[0])\n",
    "dv_tok_cl.extend(negative[1])\n",
    "dv_label.extend(negative[2])\n",
    "\n",
    "# ______________________________Test data______________________________\n",
    "# Datasets\n",
    "dv_ev_ds = Dataset(dv_tok_ev, tokenizer)\n",
    "dv_cl_ds = Dataset(dv_tok_cl, tokenizer)\n",
    "\n",
    "# Dataloaders\n",
    "dv_ev_dl = DataLoader(dv_ev_ds, batch_size=bs, collate_fn=collate_batch)\n",
    "dv_cl_dl = DataLoader(dv_cl_ds, batch_size=bs, collate_fn=collate_batch)\n",
    "dv_y_dl = DataLoader(dv_label, batch_size=bs)\n",
    "\n",
    "# ______________________________Test data______________________________\n",
    "test_model()"
   ]
  },
  {
   "cell_type": "code",
   "execution_count": null,
   "metadata": {},
   "outputs": [],
   "source": [
    "# Save model\n",
    "torch.save(model.state_dict(), '../data/SBERT')"
   ]
  },
  {
   "attachments": {},
   "cell_type": "markdown",
   "metadata": {},
   "source": [
    "<center><h3> 3 Get embeding matrices</h3></center>"
   ]
  },
  {
   "cell_type": "code",
   "execution_count": null,
   "metadata": {},
   "outputs": [],
   "source": [
    "# Parameters\n",
    "vocab_size = len(tokenizer.word2index)+1\n",
    "d_model = 300\n",
    "n_head = 1\n",
    "dropout = 0.1\n",
    "hidden_dim = 2048\n",
    "num_layers = 3\n",
    "# Instanciate model\n",
    "model = BERT(vocab_size, d_model, num_layers, n_head, dropout).to(device)\n",
    "model.load_state_dict(torch.load('../data/SBERT'))\n",
    "cos = nn.CosineSimilarity(dim=1, eps=1e-6)"
   ]
  },
  {
   "attachments": {},
   "cell_type": "markdown",
   "metadata": {},
   "source": [
    "### Predict on evidence dataset"
   ]
  },
  {
   "cell_type": "code",
   "execution_count": null,
   "metadata": {},
   "outputs": [],
   "source": [
    "# Get evidence\n",
    "ev_claims = list(eviden['evidence'])\n",
    "# Loader\n",
    "bs = 32 * 4\n",
    "evidence_ds = Dataset(ev_claims, tokenizer)\n",
    "evidence_dl = DataLoader(evidence_ds, batch_size=bs, collate_fn=collate_batch)\n",
    "# Predict\n",
    "ev_enc = []\n",
    "for batch in tqdm(evidence_dl):\n",
    "    # Set parameters\n",
    "    sent, mask = batch\n",
    "    model.eval()\n",
    "    # Encoder\n",
    "    enc = model(sent, mask)\n",
    "    # Mean pooling\n",
    "    enc = torch.mean(enc, 1) \n",
    "    ev_enc.extend(enc.cpu().detach().numpy())\n",
    "ev_enc = np.array(ev_enc)\n",
    "print(ev_enc.shape)\n",
    "# Save to json\n",
    "with open('encoded_evidence.json', 'wb') as f:\n",
    "    np.save(f, ev_enc)\n",
    "# load file\n",
    "with open('encoded_evidence.json', 'rb') as f:\n",
    "    ev_enc_ = np.load(f)\n",
    "assert ev_enc.shape == ev_enc_.shape"
   ]
  },
  {
   "attachments": {},
   "cell_type": "markdown",
   "metadata": {},
   "source": [
    "### Predict on development claims"
   ]
  },
  {
   "cell_type": "code",
   "execution_count": null,
   "metadata": {},
   "outputs": [],
   "source": [
    "# Get claims\n",
    "dv_claims = list(df_dev['claim_text'])\n",
    "# Loader\n",
    "dv_claims_ds = Dataset(dv_claims, tokenizer)\n",
    "dv_claims_dl = DataLoader(dv_claims_ds, batch_size=bs, collate_fn=collate_batch)\n",
    "# Predict\n",
    "dv_enc = []\n",
    "for batch in tqdm(dv_claims_dl):\n",
    "    # Set parameters\n",
    "    sent, mask = batch\n",
    "    model.eval()\n",
    "    # Encoder\n",
    "    enc = model(sent, mask)\n",
    "    # Mean pooling\n",
    "    enc = torch.mean(enc, 1) \n",
    "    dv_enc.extend(enc.cpu().detach().numpy())\n",
    "dv_enc = np.array(dv_enc)\n",
    "print(dv_enc.shape)\n",
    "# Save to json\n",
    "with open('encoded_dev_claims.json', 'wb') as f:\n",
    "    np.save(f, dv_enc)\n",
    "# load file\n",
    "with open('encoded_dev_claims.json', 'rb') as f:\n",
    "    dv_enc_ = np.load(f)\n",
    "assert dv_enc.shape == dv_enc_.shape"
   ]
  },
  {
   "attachments": {},
   "cell_type": "markdown",
   "metadata": {},
   "source": [
    "### Predict on test claims"
   ]
  },
  {
   "cell_type": "code",
   "execution_count": null,
   "metadata": {},
   "outputs": [],
   "source": [
    "# Load Dataloader\n",
    "ts_cl_ds = Dataset(claim_test, tokenizer)\n",
    "ts_cl_dl = DataLoader(ts_cl_ds, batch_size=bs, collate_fn=collate_batch)\n",
    "# Predict\n",
    "ts_enc = []\n",
    "for batch in tqdm(ts_cl_dl):\n",
    "    # Set parameters\n",
    "    sent, mask = batch\n",
    "    model.eval()\n",
    "    # Encoder\n",
    "    enc = model(sent, mask)\n",
    "    # Mean pooling\n",
    "    enc = torch.mean(enc, 1) \n",
    "    ts_enc.extend(enc.cpu().detach().numpy())\n",
    "ts_enc = np.array(ts_enc)\n",
    "print(dv_enc.shape)\n",
    "# Save to json\n",
    "with open('encoded_ts_claims.json', 'wb') as f:\n",
    "    np.save(f, ts_enc)\n",
    "# load file\n",
    "with open('encoded_ts_claims.json', 'rb') as f:\n",
    "    ts_enc_ = np.load(f)\n",
    "assert ts_enc.shape == ts_enc_.shape"
   ]
  },
  {
   "cell_type": "code",
   "execution_count": null,
   "metadata": {},
   "outputs": [],
   "source": []
  }
 ],
 "metadata": {
  "kernelspec": {
   "display_name": "Python 3 (ipykernel)",
   "language": "python",
   "name": "python3"
  },
  "language_info": {
   "codemirror_mode": {
    "name": "ipython",
    "version": 3
   },
   "file_extension": ".py",
   "mimetype": "text/x-python",
   "name": "python",
   "nbconvert_exporter": "python",
   "pygments_lexer": "ipython3",
   "version": "3.8.19"
  }
 },
 "nbformat": 4,
 "nbformat_minor": 4
}
