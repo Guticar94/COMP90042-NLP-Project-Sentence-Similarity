{
 "cells": [
  {
   "cell_type": "code",
   "execution_count": 1,
   "metadata": {},
   "outputs": [],
   "source": [
    "import json\n",
    "import pandas as pd\n",
    "import numpy as np\n",
    "import torch\n",
    "import torch.nn as nn"
   ]
  },
  {
   "cell_type": "code",
   "execution_count": 2,
   "metadata": {},
   "outputs": [],
   "source": [
    "# Load evidence dataset\n",
    "# Read evidence\n",
    "with open('../data/evidence.json', 'r') as f:\n",
    "    evidence = json.load(f)\n",
    "eviden = pd.DataFrame.from_dict(evidence, orient='index', columns=['evidence'])\n",
    "\n",
    "# Read dev claims\n",
    "with open('../data/dev-claims.json', 'r') as f:\n",
    "    df_dev = pd.DataFrame(json.load(f)).transpose()\n",
    "\n",
    "# Load encoded evidence set\n",
    "with open('../data/encoded_evidence.json', 'rb') as f:\n",
    "    enc_ev = np.load(f)\n",
    "# Load encoded dev set\n",
    "with open('../data/encoded_dev_claims.json', 'rb') as f:\n",
    "    enc_dv = np.load(f)"
   ]
  },
  {
   "cell_type": "code",
   "execution_count": 100,
   "metadata": {},
   "outputs": [
    {
     "name": "stdout",
     "output_type": "stream",
     "text": [
      "0 of 154 iterantions\n",
      "1 of 154 iterantions\n",
      "2 of 154 iterantions\n",
      "3 of 154 iterantions\n",
      "4 of 154 iterantions\n",
      "5 of 154 iterantions\n",
      "6 of 154 iterantions\n",
      "7 of 154 iterantions\n",
      "8 of 154 iterantions\n",
      "9 of 154 iterantions\n",
      "10 of 154 iterantions\n",
      "11 of 154 iterantions\n",
      "12 of 154 iterantions\n",
      "13 of 154 iterantions\n",
      "14 of 154 iterantions\n",
      "15 of 154 iterantions\n",
      "16 of 154 iterantions\n",
      "17 of 154 iterantions\n",
      "18 of 154 iterantions\n",
      "19 of 154 iterantions\n",
      "20 of 154 iterantions\n",
      "21 of 154 iterantions\n",
      "22 of 154 iterantions\n",
      "23 of 154 iterantions\n",
      "24 of 154 iterantions\n",
      "25 of 154 iterantions\n",
      "26 of 154 iterantions\n",
      "27 of 154 iterantions\n",
      "28 of 154 iterantions\n",
      "29 of 154 iterantions\n",
      "30 of 154 iterantions\n",
      "31 of 154 iterantions\n",
      "32 of 154 iterantions\n",
      "33 of 154 iterantions\n",
      "34 of 154 iterantions\n",
      "35 of 154 iterantions\n",
      "36 of 154 iterantions\n",
      "37 of 154 iterantions\n",
      "38 of 154 iterantions\n",
      "39 of 154 iterantions\n",
      "40 of 154 iterantions\n",
      "41 of 154 iterantions\n",
      "42 of 154 iterantions\n",
      "43 of 154 iterantions\n",
      "44 of 154 iterantions\n",
      "45 of 154 iterantions\n",
      "46 of 154 iterantions\n",
      "47 of 154 iterantions\n",
      "48 of 154 iterantions\n",
      "49 of 154 iterantions\n",
      "50 of 154 iterantions\n",
      "51 of 154 iterantions\n",
      "52 of 154 iterantions\n",
      "53 of 154 iterantions\n",
      "54 of 154 iterantions\n",
      "55 of 154 iterantions\n",
      "56 of 154 iterantions\n",
      "57 of 154 iterantions\n",
      "58 of 154 iterantions\n",
      "59 of 154 iterantions\n",
      "60 of 154 iterantions\n",
      "61 of 154 iterantions\n",
      "62 of 154 iterantions\n",
      "63 of 154 iterantions\n",
      "64 of 154 iterantions\n",
      "65 of 154 iterantions\n",
      "66 of 154 iterantions\n",
      "67 of 154 iterantions\n",
      "68 of 154 iterantions\n",
      "69 of 154 iterantions\n",
      "70 of 154 iterantions\n",
      "71 of 154 iterantions\n",
      "72 of 154 iterantions\n",
      "73 of 154 iterantions\n",
      "74 of 154 iterantions\n",
      "75 of 154 iterantions\n",
      "76 of 154 iterantions\n",
      "77 of 154 iterantions\n",
      "78 of 154 iterantions\n",
      "79 of 154 iterantions\n",
      "80 of 154 iterantions\n",
      "81 of 154 iterantions\n",
      "82 of 154 iterantions\n",
      "83 of 154 iterantions\n",
      "84 of 154 iterantions\n",
      "85 of 154 iterantions\n",
      "86 of 154 iterantions\n",
      "87 of 154 iterantions\n",
      "88 of 154 iterantions\n",
      "89 of 154 iterantions\n",
      "90 of 154 iterantions\n",
      "91 of 154 iterantions\n",
      "92 of 154 iterantions\n",
      "93 of 154 iterantions\n",
      "94 of 154 iterantions\n",
      "95 of 154 iterantions\n",
      "96 of 154 iterantions\n",
      "97 of 154 iterantions\n",
      "98 of 154 iterantions\n",
      "99 of 154 iterantions\n",
      "100 of 154 iterantions\n",
      "101 of 154 iterantions\n",
      "102 of 154 iterantions\n",
      "103 of 154 iterantions\n",
      "104 of 154 iterantions\n",
      "105 of 154 iterantions\n",
      "106 of 154 iterantions\n",
      "107 of 154 iterantions\n",
      "108 of 154 iterantions\n",
      "109 of 154 iterantions\n",
      "110 of 154 iterantions\n",
      "111 of 154 iterantions\n",
      "112 of 154 iterantions\n",
      "113 of 154 iterantions\n",
      "114 of 154 iterantions\n",
      "115 of 154 iterantions\n",
      "116 of 154 iterantions\n",
      "117 of 154 iterantions\n",
      "118 of 154 iterantions\n",
      "119 of 154 iterantions\n",
      "120 of 154 iterantions\n",
      "121 of 154 iterantions\n",
      "122 of 154 iterantions\n",
      "123 of 154 iterantions\n",
      "124 of 154 iterantions\n",
      "125 of 154 iterantions\n",
      "126 of 154 iterantions\n",
      "127 of 154 iterantions\n",
      "128 of 154 iterantions\n",
      "129 of 154 iterantions\n",
      "130 of 154 iterantions\n",
      "131 of 154 iterantions\n",
      "132 of 154 iterantions\n",
      "133 of 154 iterantions\n",
      "134 of 154 iterantions\n",
      "135 of 154 iterantions\n",
      "136 of 154 iterantions\n",
      "137 of 154 iterantions\n",
      "138 of 154 iterantions\n",
      "139 of 154 iterantions\n",
      "140 of 154 iterantions\n",
      "141 of 154 iterantions\n",
      "142 of 154 iterantions\n",
      "143 of 154 iterantions\n",
      "144 of 154 iterantions\n",
      "145 of 154 iterantions\n",
      "146 of 154 iterantions\n",
      "147 of 154 iterantions\n",
      "148 of 154 iterantions\n",
      "149 of 154 iterantions\n",
      "150 of 154 iterantions\n",
      "151 of 154 iterantions\n",
      "152 of 154 iterantions\n",
      "153 of 154 iterantions\n"
     ]
    }
   ],
   "source": [
    "cos = nn.CosineSimilarity(dim=1, eps=1e-6)\n",
    "tot = enc_dv.shape[0]\n",
    "dv_sim = []\n",
    "for i in range(tot):\n",
    "    print(f'{i} of {tot} iterantions')\n",
    "    similarity = cos(torch.from_numpy(enc_ev), torch.from_numpy(enc_dv[i]))\n",
    "    df = pd.Series(np.array(eviden.index)).reset_index(name='id').drop(['index'], axis=1)\n",
    "    df['similarity'] = similarity.detach().numpy().reshape(-1)\n",
    "    dv_sim.append(min(df[df['id'].isin(df_dev.iloc[1]['evidences'])].similarity))"
   ]
  },
  {
   "cell_type": "code",
   "execution_count": 6,
   "metadata": {},
   "outputs": [
    {
     "data": {
      "text/html": [
       "<div>\n",
       "<style scoped>\n",
       "    .dataframe tbody tr th:only-of-type {\n",
       "        vertical-align: middle;\n",
       "    }\n",
       "\n",
       "    .dataframe tbody tr th {\n",
       "        vertical-align: top;\n",
       "    }\n",
       "\n",
       "    .dataframe thead th {\n",
       "        text-align: right;\n",
       "    }\n",
       "</style>\n",
       "<table border=\"1\" class=\"dataframe\">\n",
       "  <thead>\n",
       "    <tr style=\"text-align: right;\">\n",
       "      <th></th>\n",
       "      <th>Unnamed: 0</th>\n",
       "      <th>sim</th>\n",
       "    </tr>\n",
       "  </thead>\n",
       "  <tbody>\n",
       "    <tr>\n",
       "      <th>0</th>\n",
       "      <td>0</td>\n",
       "      <td>-0.463603</td>\n",
       "    </tr>\n",
       "    <tr>\n",
       "      <th>1</th>\n",
       "      <td>1</td>\n",
       "      <td>0.985110</td>\n",
       "    </tr>\n",
       "    <tr>\n",
       "      <th>2</th>\n",
       "      <td>2</td>\n",
       "      <td>0.891676</td>\n",
       "    </tr>\n",
       "    <tr>\n",
       "      <th>3</th>\n",
       "      <td>3</td>\n",
       "      <td>-0.737316</td>\n",
       "    </tr>\n",
       "    <tr>\n",
       "      <th>4</th>\n",
       "      <td>4</td>\n",
       "      <td>0.878401</td>\n",
       "    </tr>\n",
       "    <tr>\n",
       "      <th>...</th>\n",
       "      <td>...</td>\n",
       "      <td>...</td>\n",
       "    </tr>\n",
       "    <tr>\n",
       "      <th>149</th>\n",
       "      <td>149</td>\n",
       "      <td>-0.937499</td>\n",
       "    </tr>\n",
       "    <tr>\n",
       "      <th>150</th>\n",
       "      <td>150</td>\n",
       "      <td>0.986873</td>\n",
       "    </tr>\n",
       "    <tr>\n",
       "      <th>151</th>\n",
       "      <td>151</td>\n",
       "      <td>0.975581</td>\n",
       "    </tr>\n",
       "    <tr>\n",
       "      <th>152</th>\n",
       "      <td>152</td>\n",
       "      <td>0.976966</td>\n",
       "    </tr>\n",
       "    <tr>\n",
       "      <th>153</th>\n",
       "      <td>153</td>\n",
       "      <td>0.976541</td>\n",
       "    </tr>\n",
       "  </tbody>\n",
       "</table>\n",
       "<p>154 rows × 2 columns</p>\n",
       "</div>"
      ],
      "text/plain": [
       "     Unnamed: 0       sim\n",
       "0             0 -0.463603\n",
       "1             1  0.985110\n",
       "2             2  0.891676\n",
       "3             3 -0.737316\n",
       "4             4  0.878401\n",
       "..          ...       ...\n",
       "149         149 -0.937499\n",
       "150         150  0.986873\n",
       "151         151  0.975581\n",
       "152         152  0.976966\n",
       "153         153  0.976541\n",
       "\n",
       "[154 rows x 2 columns]"
      ]
     },
     "execution_count": 6,
     "metadata": {},
     "output_type": "execute_result"
    }
   ],
   "source": [
    "dv_sim"
   ]
  },
  {
   "cell_type": "code",
   "execution_count": 112,
   "metadata": {},
   "outputs": [
    {
     "data": {
      "text/plain": [
       "array([0.43292897, 0.76037688, 0.89154135, 0.93177317])"
      ]
     },
     "execution_count": 112,
     "metadata": {},
     "output_type": "execute_result"
    }
   ],
   "source": [
    "np.quantile(dv_sim, [.1, .15, .2, .25])"
   ]
  },
  {
   "cell_type": "code",
   "execution_count": 120,
   "metadata": {},
   "outputs": [
    {
     "data": {
      "image/png": "[encoded data removed]",
      "text/plain": [
       "<Figure size 640x480 with 1 Axes>"
      ]
     },
     "metadata": {},
     "output_type": "display_data"
    }
   ],
   "source": [
    "import matplotlib.pyplot as plt\n",
    "plt.hist(dv_sim)\n",
    "plt.show()"
   ]
  },
  {
   "cell_type": "code",
   "execution_count": 132,
   "metadata": {},
   "outputs": [
    {
     "data": {
      "image/png": "[encoded data removed]",
      "text/plain": [
       "<Figure size 640x480 with 1 Axes>"
      ]
     },
     "metadata": {},
     "output_type": "display_data"
    }
   ],
   "source": [
    "plt.boxplot(dv_sim)\n",
    "plt.show()"
   ]
  },
  {
   "cell_type": "code",
   "execution_count": 150,
   "metadata": {},
   "outputs": [],
   "source": [
    "pd.DataFrame(dv_sim, columns=['sim']).to_csv('../data/dv_similarity.csv')"
   ]
  },
  {
   "cell_type": "code",
   "execution_count": 4,
   "metadata": {},
   "outputs": [],
   "source": [
    "dv_sim = pd.read_csv('../data/dv_similarity.csv')"
   ]
  },
  {
   "cell_type": "code",
   "execution_count": 5,
   "metadata": {},
   "outputs": [
    {
     "data": {
      "application/vnd.plotly.v1+json": {
       "config": {
        "plotlyServerURL": "https://plot.ly"
       },
       "data": [
        {
         "alignmentgroup": "True",
         "hovertemplate": "sim=%{y}<extra></extra>",
         "legendgroup": "",
         "marker": {
          "color": "#636efa"
         },
         "name": "",
         "notched": false,
         "offsetgroup": "",
         "orientation": "v",
         "showlegend": false,
         "type": "box",
         "x0": " ",
         "xaxis": "x",
         "y": [
          -0.4636026322841644,
          0.985109806060791,
          0.8916756510734558,
          -0.7373155951499939,
          0.8784005641937256,
          0.9851949214935304,
          0.9414706230163574,
          0.9654099941253662,
          0.9734845757484436,
          0.9779104590415956,
          0.976719617843628,
          0.9532270431518556,
          0.9824939966201782,
          0.9753116369247437,
          -0.0394160598516464,
          0.9743337631225586,
          0.9775471091270448,
          0.9815903902053832,
          0.9643125534057616,
          0.971624195575714,
          0.9662158489227296,
          0.9762822985649108,
          0.4230440258979797,
          0.9828766584396362,
          0.9794290661811828,
          0.9767351150512696,
          0.9750489592552184,
          0.970848560333252,
          0.973727822303772,
          0.958611786365509,
          0.956972599029541,
          0.585178554058075,
          0.4559938311576843,
          0.981558918952942,
          0.971113622188568,
          -0.9739438891410828,
          0.9659384489059448,
          0.9834709167480468,
          0.982891082763672,
          -0.0746228545904159,
          0.982282280921936,
          0.9795266389846802,
          0.9780429601669312,
          0.9694641828536988,
          0.9383413195610046,
          0.978249192237854,
          0.977336883544922,
          0.9776233434677124,
          0.980163037776947,
          0.9313340187072754,
          0.9833598732948304,
          -0.6774877905845642,
          0.9793052077293396,
          0.981454610824585,
          0.9765797853469848,
          0.90926855802536,
          0.981370210647583,
          0.6683369278907776,
          0.2587482035160064,
          0.972942590713501,
          0.9794773459434508,
          0.9724433422088624,
          0.957343339920044,
          0.9654500484466552,
          0.9801082015037536,
          0.9791443943977356,
          0.9712024331092834,
          0.6941304802894592,
          0.9804208278656006,
          0.9768142700195312,
          0.980831503868103,
          0.9615671038627625,
          0.9726779460906982,
          0.936047613620758,
          -0.9750813245773317,
          0.9810609817504884,
          0.9001815915107727,
          0.947924554347992,
          0.7384662628173828,
          0.9069034457206726,
          0.2886979877948761,
          0.9671363234519958,
          0.9717097282409668,
          0.9855737686157228,
          0.985756516456604,
          0.964048147201538,
          0.9829431772232056,
          0.9789437651634216,
          0.9748845100402832,
          0.8955549001693726,
          0.9824348092079164,
          0.9823209047317504,
          0.9500657320022584,
          0.9547795057296752,
          0.958275020122528,
          0.9850735664367676,
          0.9547770023345948,
          -0.901858687400818,
          0.9671757221221924,
          0.9330906271934508,
          0.97720468044281,
          0.9675186276435852,
          0.978583574295044,
          -0.9679980278015136,
          0.891339898109436,
          0.9653644561767578,
          0.97393798828125,
          0.8482847213745117,
          0.9771043658256532,
          0.9801610708236694,
          0.977401316165924,
          0.9766438007354736,
          0.9751712679862976,
          0.9690046906471252,
          0.9760230779647828,
          0.7603882551193237,
          0.9777414798736572,
          0.9575598239898682,
          0.962902009487152,
          0.9806169271469116,
          0.9782374501228333,
          0.985081136226654,
          0.9825384616851808,
          0.7601606845855713,
          0.6949089765548706,
          0.9568646550178528,
          0.9866541624069214,
          0.9824191927909852,
          0.9752967357635498,
          0.9563299417495728,
          0.8488378524780273,
          0.9819677472114564,
          0.9773592352867126,
          0.9760733842849731,
          0.1101444512605667,
          0.8812505602836609,
          0.9736123085021972,
          0.9660265445709229,
          0.9550120830535888,
          0.9622847437858582,
          0.7730959057807922,
          0.9694886803627014,
          -0.9867877960205078,
          0.906380534172058,
          -0.987702250480652,
          0.8920358419418335,
          0.8009850978851318,
          0.975456953048706,
          0.9703798294067384,
          -0.937498927116394,
          0.9868730902671814,
          0.9755807518959044,
          0.976966142654419,
          0.9765408039093018
         ],
         "y0": " ",
         "yaxis": "y"
        }
       ],
       "layout": {
        "boxmode": "group",
        "legend": {
         "tracegroupgap": 0
        },
        "margin": {
         "t": 60
        },
        "template": {
         "data": {
          "bar": [
           {
            "error_x": {
             "color": "#2a3f5f"
            },
            "error_y": {
             "color": "#2a3f5f"
            },
            "marker": {
             "line": {
              "color": "#E5ECF6",
              "width": 0.5
             },
             "pattern": {
              "fillmode": "overlay",
              "size": 10,
              "solidity": 0.2
             }
            },
            "type": "bar"
           }
          ],
          "barpolar": [
           {
            "marker": {
             "line": {
              "color": "#E5ECF6",
              "width": 0.5
             },
             "pattern": {
              "fillmode": "overlay",
              "size": 10,
              "solidity": 0.2
             }
            },
            "type": "barpolar"
           }
          ],
          "carpet": [
           {
            "aaxis": {
             "endlinecolor": "#2a3f5f",
             "gridcolor": "white",
             "linecolor": "white",
             "minorgridcolor": "white",
             "startlinecolor": "#2a3f5f"
            },
            "baxis": {
             "endlinecolor": "#2a3f5f",
             "gridcolor": "white",
             "linecolor": "white",
             "minorgridcolor": "white",
             "startlinecolor": "#2a3f5f"
            },
            "type": "carpet"
           }
          ],
          "choropleth": [
           {
            "colorbar": {
             "outlinewidth": 0,
             "ticks": ""
            },
            "type": "choropleth"
           }
          ],
          "contour": [
           {
            "colorbar": {
             "outlinewidth": 0,
             "ticks": ""
            },
            "colorscale": [
             [
              0,
              "#0d0887"
             ],
             [
              0.1111111111111111,
              "#46039f"
             ],
             [
              0.2222222222222222,
              "#7201a8"
             ],
             [
              0.3333333333333333,
              "#9c179e"
             ],
             [
              0.4444444444444444,
              "#bd3786"
             ],
             [
              0.5555555555555556,
              "#d8576b"
             ],
             [
              0.6666666666666666,
              "#ed7953"
             ],
             [
              0.7777777777777778,
              "#fb9f3a"
             ],
             [
              0.8888888888888888,
              "#fdca26"
             ],
             [
              1,
              "#f0f921"
             ]
            ],
            "type": "contour"
           }
          ],
          "contourcarpet": [
           {
            "colorbar": {
             "outlinewidth": 0,
             "ticks": ""
            },
            "type": "contourcarpet"
           }
          ],
          "heatmap": [
           {
            "colorbar": {
             "outlinewidth": 0,
             "ticks": ""
            },
            "colorscale": [
             [
              0,
              "#0d0887"
             ],
             [
              0.1111111111111111,
              "#46039f"
             ],
             [
              0.2222222222222222,
              "#7201a8"
             ],
             [
              0.3333333333333333,
              "#9c179e"
             ],
             [
              0.4444444444444444,
              "#bd3786"
             ],
             [
              0.5555555555555556,
              "#d8576b"
             ],
             [
              0.6666666666666666,
              "#ed7953"
             ],
             [
              0.7777777777777778,
              "#fb9f3a"
             ],
             [
              0.8888888888888888,
              "#fdca26"
             ],
             [
              1,
              "#f0f921"
             ]
            ],
            "type": "heatmap"
           }
          ],
          "heatmapgl": [
           {
            "colorbar": {
             "outlinewidth": 0,
             "ticks": ""
            },
            "colorscale": [
             [
              0,
              "#0d0887"
             ],
             [
              0.1111111111111111,
              "#46039f"
             ],
             [
              0.2222222222222222,
              "#7201a8"
             ],
             [
              0.3333333333333333,
              "#9c179e"
             ],
             [
              0.4444444444444444,
              "#bd3786"
             ],
             [
              0.5555555555555556,
              "#d8576b"
             ],
             [
              0.6666666666666666,
              "#ed7953"
             ],
             [
              0.7777777777777778,
              "#fb9f3a"
             ],
             [
              0.8888888888888888,
              "#fdca26"
             ],
             [
              1,
              "#f0f921"
             ]
            ],
            "type": "heatmapgl"
           }
          ],
          "histogram": [
           {
            "marker": {
             "pattern": {
              "fillmode": "overlay",
              "size": 10,
              "solidity": 0.2
             }
            },
            "type": "histogram"
           }
          ],
          "histogram2d": [
           {
            "colorbar": {
             "outlinewidth": 0,
             "ticks": ""
            },
            "colorscale": [
             [
              0,
              "#0d0887"
             ],
             [
              0.1111111111111111,
              "#46039f"
             ],
             [
              0.2222222222222222,
              "#7201a8"
             ],
             [
              0.3333333333333333,
              "#9c179e"
             ],
             [
              0.4444444444444444,
              "#bd3786"
             ],
             [
              0.5555555555555556,
              "#d8576b"
             ],
             [
              0.6666666666666666,
              "#ed7953"
             ],
             [
              0.7777777777777778,
              "#fb9f3a"
             ],
             [
              0.8888888888888888,
              "#fdca26"
             ],
             [
              1,
              "#f0f921"
             ]
            ],
            "type": "histogram2d"
           }
          ],
          "histogram2dcontour": [
           {
            "colorbar": {
             "outlinewidth": 0,
             "ticks": ""
            },
            "colorscale": [
             [
              0,
              "#0d0887"
             ],
             [
              0.1111111111111111,
              "#46039f"
             ],
             [
              0.2222222222222222,
              "#7201a8"
             ],
             [
              0.3333333333333333,
              "#9c179e"
             ],
             [
              0.4444444444444444,
              "#bd3786"
             ],
             [
              0.5555555555555556,
              "#d8576b"
             ],
             [
              0.6666666666666666,
              "#ed7953"
             ],
             [
              0.7777777777777778,
              "#fb9f3a"
             ],
             [
              0.8888888888888888,
              "#fdca26"
             ],
             [
              1,
              "#f0f921"
             ]
            ],
            "type": "histogram2dcontour"
           }
          ],
          "mesh3d": [
           {
            "colorbar": {
             "outlinewidth": 0,
             "ticks": ""
            },
            "type": "mesh3d"
           }
          ],
          "parcoords": [
           {
            "line": {
             "colorbar": {
              "outlinewidth": 0,
              "ticks": ""
             }
            },
            "type": "parcoords"
           }
          ],
          "pie": [
           {
            "automargin": true,
            "type": "pie"
           }
          ],
          "scatter": [
           {
            "fillpattern": {
             "fillmode": "overlay",
             "size": 10,
             "solidity": 0.2
            },
            "type": "scatter"
           }
          ],
          "scatter3d": [
           {
            "line": {
             "colorbar": {
              "outlinewidth": 0,
              "ticks": ""
             }
            },
            "marker": {
             "colorbar": {
              "outlinewidth": 0,
              "ticks": ""
             }
            },
            "type": "scatter3d"
           }
          ],
          "scattercarpet": [
           {
            "marker": {
             "colorbar": {
              "outlinewidth": 0,
              "ticks": ""
             }
            },
            "type": "scattercarpet"
           }
          ],
          "scattergeo": [
           {
            "marker": {
             "colorbar": {
              "outlinewidth": 0,
              "ticks": ""
             }
            },
            "type": "scattergeo"
           }
          ],
          "scattergl": [
           {
            "marker": {
             "colorbar": {
              "outlinewidth": 0,
              "ticks": ""
             }
            },
            "type": "scattergl"
           }
          ],
          "scattermapbox": [
           {
            "marker": {
             "colorbar": {
              "outlinewidth": 0,
              "ticks": ""
             }
            },
            "type": "scattermapbox"
           }
          ],
          "scatterpolar": [
           {
            "marker": {
             "colorbar": {
              "outlinewidth": 0,
              "ticks": ""
             }
            },
            "type": "scatterpolar"
           }
          ],
          "scatterpolargl": [
           {
            "marker": {
             "colorbar": {
              "outlinewidth": 0,
              "ticks": ""
             }
            },
            "type": "scatterpolargl"
           }
          ],
          "scatterternary": [
           {
            "marker": {
             "colorbar": {
              "outlinewidth": 0,
              "ticks": ""
             }
            },
            "type": "scatterternary"
           }
          ],
          "surface": [
           {
            "colorbar": {
             "outlinewidth": 0,
             "ticks": ""
            },
            "colorscale": [
             [
              0,
              "#0d0887"
             ],
             [
              0.1111111111111111,
              "#46039f"
             ],
             [
              0.2222222222222222,
              "#7201a8"
             ],
             [
              0.3333333333333333,
              "#9c179e"
             ],
             [
              0.4444444444444444,
              "#bd3786"
             ],
             [
              0.5555555555555556,
              "#d8576b"
             ],
             [
              0.6666666666666666,
              "#ed7953"
             ],
             [
              0.7777777777777778,
              "#fb9f3a"
             ],
             [
              0.8888888888888888,
              "#fdca26"
             ],
             [
              1,
              "#f0f921"
             ]
            ],
            "type": "surface"
           }
          ],
          "table": [
           {
            "cells": {
             "fill": {
              "color": "#EBF0F8"
             },
             "line": {
              "color": "white"
             }
            },
            "header": {
             "fill": {
              "color": "#C8D4E3"
             },
             "line": {
              "color": "white"
             }
            },
            "type": "table"
           }
          ]
         },
         "layout": {
          "annotationdefaults": {
           "arrowcolor": "#2a3f5f",
           "arrowhead": 0,
           "arrowwidth": 1
          },
          "autotypenumbers": "strict",
          "coloraxis": {
           "colorbar": {
            "outlinewidth": 0,
            "ticks": ""
           }
          },
          "colorscale": {
           "diverging": [
            [
             0,
             "#8e0152"
            ],
            [
             0.1,
             "#c51b7d"
            ],
            [
             0.2,
             "#de77ae"
            ],
            [
             0.3,
             "#f1b6da"
            ],
            [
             0.4,
             "#fde0ef"
            ],
            [
             0.5,
             "#f7f7f7"
            ],
            [
             0.6,
             "#e6f5d0"
            ],
            [
             0.7,
             "#b8e186"
            ],
            [
             0.8,
             "#7fbc41"
            ],
            [
             0.9,
             "#4d9221"
            ],
            [
             1,
             "#276419"
            ]
           ],
           "sequential": [
            [
             0,
             "#0d0887"
            ],
            [
             0.1111111111111111,
             "#46039f"
            ],
            [
             0.2222222222222222,
             "#7201a8"
            ],
            [
             0.3333333333333333,
             "#9c179e"
            ],
            [
             0.4444444444444444,
             "#bd3786"
            ],
            [
             0.5555555555555556,
             "#d8576b"
            ],
            [
             0.6666666666666666,
             "#ed7953"
            ],
            [
             0.7777777777777778,
             "#fb9f3a"
            ],
            [
             0.8888888888888888,
             "#fdca26"
            ],
            [
             1,
             "#f0f921"
            ]
           ],
           "sequentialminus": [
            [
             0,
             "#0d0887"
            ],
            [
             0.1111111111111111,
             "#46039f"
            ],
            [
             0.2222222222222222,
             "#7201a8"
            ],
            [
             0.3333333333333333,
             "#9c179e"
            ],
            [
             0.4444444444444444,
             "#bd3786"
            ],
            [
             0.5555555555555556,
             "#d8576b"
            ],
            [
             0.6666666666666666,
             "#ed7953"
            ],
            [
             0.7777777777777778,
             "#fb9f3a"
            ],
            [
             0.8888888888888888,
             "#fdca26"
            ],
            [
             1,
             "#f0f921"
            ]
           ]
          },
          "colorway": [
           "#636efa",
           "#EF553B",
           "#00cc96",
           "#ab63fa",
           "#FFA15A",
           "#19d3f3",
           "#FF6692",
           "#B6E880",
           "#FF97FF",
           "#FECB52"
          ],
          "font": {
           "color": "#2a3f5f"
          },
          "geo": {
           "bgcolor": "white",
           "lakecolor": "white",
           "landcolor": "#E5ECF6",
           "showlakes": true,
           "showland": true,
           "subunitcolor": "white"
          },
          "hoverlabel": {
           "align": "left"
          },
          "hovermode": "closest",
          "mapbox": {
           "style": "light"
          },
          "paper_bgcolor": "white",
          "plot_bgcolor": "#E5ECF6",
          "polar": {
           "angularaxis": {
            "gridcolor": "white",
            "linecolor": "white",
            "ticks": ""
           },
           "bgcolor": "#E5ECF6",
           "radialaxis": {
            "gridcolor": "white",
            "linecolor": "white",
            "ticks": ""
           }
          },
          "scene": {
           "xaxis": {
            "backgroundcolor": "#E5ECF6",
            "gridcolor": "white",
            "gridwidth": 2,
            "linecolor": "white",
            "showbackground": true,
            "ticks": "",
            "zerolinecolor": "white"
           },
           "yaxis": {
            "backgroundcolor": "#E5ECF6",
            "gridcolor": "white",
            "gridwidth": 2,
            "linecolor": "white",
            "showbackground": true,
            "ticks": "",
            "zerolinecolor": "white"
           },
           "zaxis": {
            "backgroundcolor": "#E5ECF6",
            "gridcolor": "white",
            "gridwidth": 2,
            "linecolor": "white",
            "showbackground": true,
            "ticks": "",
            "zerolinecolor": "white"
           }
          },
          "shapedefaults": {
           "line": {
            "color": "#2a3f5f"
           }
          },
          "ternary": {
           "aaxis": {
            "gridcolor": "white",
            "linecolor": "white",
            "ticks": ""
           },
           "baxis": {
            "gridcolor": "white",
            "linecolor": "white",
            "ticks": ""
           },
           "bgcolor": "#E5ECF6",
           "caxis": {
            "gridcolor": "white",
            "linecolor": "white",
            "ticks": ""
           }
          },
          "title": {
           "x": 0.05
          },
          "xaxis": {
           "automargin": true,
           "gridcolor": "white",
           "linecolor": "white",
           "ticks": "",
           "title": {
            "standoff": 15
           },
           "zerolinecolor": "white",
           "zerolinewidth": 2
          },
          "yaxis": {
           "automargin": true,
           "gridcolor": "white",
           "linecolor": "white",
           "ticks": "",
           "title": {
            "standoff": 15
           },
           "zerolinecolor": "white",
           "zerolinewidth": 2
          }
         }
        },
        "xaxis": {
         "anchor": "y",
         "domain": [
          0,
          1
         ]
        },
        "yaxis": {
         "anchor": "x",
         "domain": [
          0,
          1
         ],
         "title": {
          "text": "sim"
         }
        }
       }
      }
     },
     "metadata": {},
     "output_type": "display_data"
    }
   ],
   "source": [
    "import plotly.express as px\n",
    "fig = px.box(pd.DataFrame(dv_sim, columns=['sim']), y=\"sim\")\n",
    "fig.show()"
   ]
  },
  {
   "cell_type": "code",
   "execution_count": 135,
   "metadata": {},
   "outputs": [
    {
     "data": {
      "text/plain": [
       "1856.59375"
      ]
     },
     "execution_count": 135,
     "metadata": {},
     "output_type": "execute_result"
    }
   ],
   "source": [
    "(58920+491)/32"
   ]
  },
  {
   "cell_type": "code",
   "execution_count": 143,
   "metadata": {},
   "outputs": [
    {
     "data": {
      "text/plain": [
       "1856.59375"
      ]
     },
     "execution_count": 143,
     "metadata": {},
     "output_type": "execute_result"
    }
   ],
   "source": [
    "(eviden.sample(frac=0.0001).shape[0]*491)/32"
   ]
  },
  {
   "cell_type": "code",
   "execution_count": null,
   "metadata": {},
   "outputs": [],
   "source": []
  }
 ],
 "metadata": {
  "kernelspec": {
   "display_name": "venv",
   "language": "python",
   "name": "python3"
  },
  "language_info": {
   "codemirror_mode": {
    "name": "ipython",
    "version": 3
   },
   "file_extension": ".py",
   "mimetype": "text/x-python",
   "name": "python",
   "nbconvert_exporter": "python",
   "pygments_lexer": "ipython3",
   "version": "3.9.6"
  },
  "orig_nbformat": 4
 },
 "nbformat": 4,
 "nbformat_minor": 2
}
