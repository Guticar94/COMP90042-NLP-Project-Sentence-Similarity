{
 "cells": [
  {
   "cell_type": "code",
   "execution_count": 2,
   "metadata": {},
   "outputs": [],
   "source": [
    "import json\n",
    "import pandas as pd\n",
    "import numpy as np\n",
    "import torch\n",
    "import torch.nn as nn"
   ]
  },
  {
   "cell_type": "code",
   "execution_count": 3,
   "metadata": {},
   "outputs": [],
   "source": [
    "# Load evidence dataset\n",
    "# Read evidence\n",
    "with open('../data/evidence.json', 'r') as f:\n",
    "    evidence = json.load(f)\n",
    "eviden = pd.DataFrame.from_dict(evidence, orient='index', columns=['evidence'])\n",
    "\n",
    "# Read dev claims\n",
    "with open('../data/dev-claims.json', 'r') as f:\n",
    "    df_dev = pd.DataFrame(json.load(f)).transpose()\n",
    "\n",
    "# Load encoded evidence set\n",
    "with open('../data/SBERT_2/encoded_evidence.json', 'rb') as f:\n",
    "    enc_ev = np.load(f)\n",
    "# Load encoded dev set\n",
    "with open('../data/SBERT_2/encoded_dev_claims.json', 'rb') as f:\n",
    "    enc_dv = np.load(f)"
   ]
  },
  {
   "cell_type": "code",
   "execution_count": 31,
   "metadata": {},
   "outputs": [
    {
     "name": "stdout",
     "output_type": "stream",
     "text": [
      "0 of 154 iterantions\n",
      "1 of 154 iterantions\n",
      "2 of 154 iterantions\n",
      "3 of 154 iterantions\n",
      "4 of 154 iterantions\n",
      "5 of 154 iterantions\n",
      "6 of 154 iterantions\n",
      "7 of 154 iterantions\n",
      "8 of 154 iterantions\n",
      "9 of 154 iterantions\n",
      "10 of 154 iterantions\n",
      "11 of 154 iterantions\n",
      "12 of 154 iterantions\n",
      "13 of 154 iterantions\n",
      "14 of 154 iterantions\n",
      "15 of 154 iterantions\n",
      "16 of 154 iterantions\n",
      "17 of 154 iterantions\n",
      "18 of 154 iterantions\n",
      "19 of 154 iterantions\n",
      "20 of 154 iterantions\n",
      "21 of 154 iterantions\n",
      "22 of 154 iterantions\n",
      "23 of 154 iterantions\n",
      "24 of 154 iterantions\n",
      "25 of 154 iterantions\n",
      "26 of 154 iterantions\n",
      "27 of 154 iterantions\n",
      "28 of 154 iterantions\n",
      "29 of 154 iterantions\n",
      "30 of 154 iterantions\n",
      "31 of 154 iterantions\n",
      "32 of 154 iterantions\n",
      "33 of 154 iterantions\n",
      "34 of 154 iterantions\n",
      "35 of 154 iterantions\n",
      "36 of 154 iterantions\n",
      "37 of 154 iterantions\n",
      "38 of 154 iterantions\n",
      "39 of 154 iterantions\n",
      "40 of 154 iterantions\n",
      "41 of 154 iterantions\n",
      "42 of 154 iterantions\n",
      "43 of 154 iterantions\n",
      "44 of 154 iterantions\n",
      "45 of 154 iterantions\n",
      "46 of 154 iterantions\n",
      "47 of 154 iterantions\n",
      "48 of 154 iterantions\n",
      "49 of 154 iterantions\n",
      "50 of 154 iterantions\n",
      "51 of 154 iterantions\n",
      "52 of 154 iterantions\n",
      "53 of 154 iterantions\n",
      "54 of 154 iterantions\n",
      "55 of 154 iterantions\n",
      "56 of 154 iterantions\n",
      "57 of 154 iterantions\n",
      "58 of 154 iterantions\n",
      "59 of 154 iterantions\n",
      "60 of 154 iterantions\n",
      "61 of 154 iterantions\n",
      "62 of 154 iterantions\n",
      "63 of 154 iterantions\n",
      "64 of 154 iterantions\n",
      "65 of 154 iterantions\n",
      "66 of 154 iterantions\n",
      "67 of 154 iterantions\n",
      "68 of 154 iterantions\n",
      "69 of 154 iterantions\n",
      "70 of 154 iterantions\n",
      "71 of 154 iterantions\n",
      "72 of 154 iterantions\n",
      "73 of 154 iterantions\n",
      "74 of 154 iterantions\n",
      "75 of 154 iterantions\n",
      "76 of 154 iterantions\n",
      "77 of 154 iterantions\n",
      "78 of 154 iterantions\n",
      "79 of 154 iterantions\n",
      "80 of 154 iterantions\n",
      "81 of 154 iterantions\n",
      "82 of 154 iterantions\n",
      "83 of 154 iterantions\n",
      "84 of 154 iterantions\n",
      "85 of 154 iterantions\n",
      "86 of 154 iterantions\n",
      "87 of 154 iterantions\n",
      "88 of 154 iterantions\n",
      "89 of 154 iterantions\n",
      "90 of 154 iterantions\n",
      "91 of 154 iterantions\n",
      "92 of 154 iterantions\n",
      "93 of 154 iterantions\n",
      "94 of 154 iterantions\n",
      "95 of 154 iterantions\n",
      "96 of 154 iterantions\n",
      "97 of 154 iterantions\n",
      "98 of 154 iterantions\n",
      "99 of 154 iterantions\n"
     ]
    },
    {
     "name": "stderr",
     "output_type": "stream",
     "text": [
      "/var/folders/5v/mt404vm51mvcpt_t2j5z7dbm0000gn/T/ipykernel_52628/388008328.py:9: PerformanceWarning: DataFrame is highly fragmented.  This is usually the result of calling `frame.insert` many times, which has poor performance.  Consider joining all columns at once using pd.concat(axis=1) instead. To get a de-fragmented frame, use `newframe = frame.copy()`\n",
      "  df[df_dev.index[i]] = similarity.detach().numpy().reshape(-1)\n"
     ]
    },
    {
     "name": "stdout",
     "output_type": "stream",
     "text": [
      "100 of 154 iterantions\n"
     ]
    },
    {
     "name": "stderr",
     "output_type": "stream",
     "text": [
      "/var/folders/5v/mt404vm51mvcpt_t2j5z7dbm0000gn/T/ipykernel_52628/388008328.py:9: PerformanceWarning: DataFrame is highly fragmented.  This is usually the result of calling `frame.insert` many times, which has poor performance.  Consider joining all columns at once using pd.concat(axis=1) instead. To get a de-fragmented frame, use `newframe = frame.copy()`\n",
      "  df[df_dev.index[i]] = similarity.detach().numpy().reshape(-1)\n"
     ]
    },
    {
     "name": "stdout",
     "output_type": "stream",
     "text": [
      "101 of 154 iterantions\n"
     ]
    },
    {
     "name": "stderr",
     "output_type": "stream",
     "text": [
      "/var/folders/5v/mt404vm51mvcpt_t2j5z7dbm0000gn/T/ipykernel_52628/388008328.py:9: PerformanceWarning: DataFrame is highly fragmented.  This is usually the result of calling `frame.insert` many times, which has poor performance.  Consider joining all columns at once using pd.concat(axis=1) instead. To get a de-fragmented frame, use `newframe = frame.copy()`\n",
      "  df[df_dev.index[i]] = similarity.detach().numpy().reshape(-1)\n"
     ]
    },
    {
     "name": "stdout",
     "output_type": "stream",
     "text": [
      "102 of 154 iterantions\n"
     ]
    },
    {
     "name": "stderr",
     "output_type": "stream",
     "text": [
      "/var/folders/5v/mt404vm51mvcpt_t2j5z7dbm0000gn/T/ipykernel_52628/388008328.py:9: PerformanceWarning: DataFrame is highly fragmented.  This is usually the result of calling `frame.insert` many times, which has poor performance.  Consider joining all columns at once using pd.concat(axis=1) instead. To get a de-fragmented frame, use `newframe = frame.copy()`\n",
      "  df[df_dev.index[i]] = similarity.detach().numpy().reshape(-1)\n"
     ]
    },
    {
     "name": "stdout",
     "output_type": "stream",
     "text": [
      "103 of 154 iterantions\n"
     ]
    },
    {
     "name": "stderr",
     "output_type": "stream",
     "text": [
      "/var/folders/5v/mt404vm51mvcpt_t2j5z7dbm0000gn/T/ipykernel_52628/388008328.py:9: PerformanceWarning: DataFrame is highly fragmented.  This is usually the result of calling `frame.insert` many times, which has poor performance.  Consider joining all columns at once using pd.concat(axis=1) instead. To get a de-fragmented frame, use `newframe = frame.copy()`\n",
      "  df[df_dev.index[i]] = similarity.detach().numpy().reshape(-1)\n"
     ]
    },
    {
     "name": "stdout",
     "output_type": "stream",
     "text": [
      "104 of 154 iterantions\n"
     ]
    },
    {
     "name": "stderr",
     "output_type": "stream",
     "text": [
      "/var/folders/5v/mt404vm51mvcpt_t2j5z7dbm0000gn/T/ipykernel_52628/388008328.py:9: PerformanceWarning: DataFrame is highly fragmented.  This is usually the result of calling `frame.insert` many times, which has poor performance.  Consider joining all columns at once using pd.concat(axis=1) instead. To get a de-fragmented frame, use `newframe = frame.copy()`\n",
      "  df[df_dev.index[i]] = similarity.detach().numpy().reshape(-1)\n"
     ]
    },
    {
     "name": "stdout",
     "output_type": "stream",
     "text": [
      "105 of 154 iterantions\n"
     ]
    },
    {
     "name": "stderr",
     "output_type": "stream",
     "text": [
      "/var/folders/5v/mt404vm51mvcpt_t2j5z7dbm0000gn/T/ipykernel_52628/388008328.py:9: PerformanceWarning: DataFrame is highly fragmented.  This is usually the result of calling `frame.insert` many times, which has poor performance.  Consider joining all columns at once using pd.concat(axis=1) instead. To get a de-fragmented frame, use `newframe = frame.copy()`\n",
      "  df[df_dev.index[i]] = similarity.detach().numpy().reshape(-1)\n"
     ]
    },
    {
     "name": "stdout",
     "output_type": "stream",
     "text": [
      "106 of 154 iterantions\n"
     ]
    },
    {
     "name": "stderr",
     "output_type": "stream",
     "text": [
      "/var/folders/5v/mt404vm51mvcpt_t2j5z7dbm0000gn/T/ipykernel_52628/388008328.py:9: PerformanceWarning: DataFrame is highly fragmented.  This is usually the result of calling `frame.insert` many times, which has poor performance.  Consider joining all columns at once using pd.concat(axis=1) instead. To get a de-fragmented frame, use `newframe = frame.copy()`\n",
      "  df[df_dev.index[i]] = similarity.detach().numpy().reshape(-1)\n"
     ]
    },
    {
     "name": "stdout",
     "output_type": "stream",
     "text": [
      "107 of 154 iterantions\n"
     ]
    },
    {
     "name": "stderr",
     "output_type": "stream",
     "text": [
      "/var/folders/5v/mt404vm51mvcpt_t2j5z7dbm0000gn/T/ipykernel_52628/388008328.py:9: PerformanceWarning: DataFrame is highly fragmented.  This is usually the result of calling `frame.insert` many times, which has poor performance.  Consider joining all columns at once using pd.concat(axis=1) instead. To get a de-fragmented frame, use `newframe = frame.copy()`\n",
      "  df[df_dev.index[i]] = similarity.detach().numpy().reshape(-1)\n"
     ]
    },
    {
     "name": "stdout",
     "output_type": "stream",
     "text": [
      "108 of 154 iterantions\n"
     ]
    },
    {
     "name": "stderr",
     "output_type": "stream",
     "text": [
      "/var/folders/5v/mt404vm51mvcpt_t2j5z7dbm0000gn/T/ipykernel_52628/388008328.py:9: PerformanceWarning: DataFrame is highly fragmented.  This is usually the result of calling `frame.insert` many times, which has poor performance.  Consider joining all columns at once using pd.concat(axis=1) instead. To get a de-fragmented frame, use `newframe = frame.copy()`\n",
      "  df[df_dev.index[i]] = similarity.detach().numpy().reshape(-1)\n"
     ]
    },
    {
     "name": "stdout",
     "output_type": "stream",
     "text": [
      "109 of 154 iterantions\n"
     ]
    },
    {
     "name": "stderr",
     "output_type": "stream",
     "text": [
      "/var/folders/5v/mt404vm51mvcpt_t2j5z7dbm0000gn/T/ipykernel_52628/388008328.py:9: PerformanceWarning: DataFrame is highly fragmented.  This is usually the result of calling `frame.insert` many times, which has poor performance.  Consider joining all columns at once using pd.concat(axis=1) instead. To get a de-fragmented frame, use `newframe = frame.copy()`\n",
      "  df[df_dev.index[i]] = similarity.detach().numpy().reshape(-1)\n"
     ]
    },
    {
     "name": "stdout",
     "output_type": "stream",
     "text": [
      "110 of 154 iterantions\n"
     ]
    },
    {
     "name": "stderr",
     "output_type": "stream",
     "text": [
      "/var/folders/5v/mt404vm51mvcpt_t2j5z7dbm0000gn/T/ipykernel_52628/388008328.py:9: PerformanceWarning: DataFrame is highly fragmented.  This is usually the result of calling `frame.insert` many times, which has poor performance.  Consider joining all columns at once using pd.concat(axis=1) instead. To get a de-fragmented frame, use `newframe = frame.copy()`\n",
      "  df[df_dev.index[i]] = similarity.detach().numpy().reshape(-1)\n"
     ]
    },
    {
     "name": "stdout",
     "output_type": "stream",
     "text": [
      "111 of 154 iterantions\n"
     ]
    },
    {
     "name": "stderr",
     "output_type": "stream",
     "text": [
      "/var/folders/5v/mt404vm51mvcpt_t2j5z7dbm0000gn/T/ipykernel_52628/388008328.py:9: PerformanceWarning: DataFrame is highly fragmented.  This is usually the result of calling `frame.insert` many times, which has poor performance.  Consider joining all columns at once using pd.concat(axis=1) instead. To get a de-fragmented frame, use `newframe = frame.copy()`\n",
      "  df[df_dev.index[i]] = similarity.detach().numpy().reshape(-1)\n"
     ]
    },
    {
     "name": "stdout",
     "output_type": "stream",
     "text": [
      "112 of 154 iterantions\n"
     ]
    },
    {
     "name": "stderr",
     "output_type": "stream",
     "text": [
      "/var/folders/5v/mt404vm51mvcpt_t2j5z7dbm0000gn/T/ipykernel_52628/388008328.py:9: PerformanceWarning: DataFrame is highly fragmented.  This is usually the result of calling `frame.insert` many times, which has poor performance.  Consider joining all columns at once using pd.concat(axis=1) instead. To get a de-fragmented frame, use `newframe = frame.copy()`\n",
      "  df[df_dev.index[i]] = similarity.detach().numpy().reshape(-1)\n"
     ]
    },
    {
     "name": "stdout",
     "output_type": "stream",
     "text": [
      "113 of 154 iterantions\n"
     ]
    },
    {
     "name": "stderr",
     "output_type": "stream",
     "text": [
      "/var/folders/5v/mt404vm51mvcpt_t2j5z7dbm0000gn/T/ipykernel_52628/388008328.py:9: PerformanceWarning: DataFrame is highly fragmented.  This is usually the result of calling `frame.insert` many times, which has poor performance.  Consider joining all columns at once using pd.concat(axis=1) instead. To get a de-fragmented frame, use `newframe = frame.copy()`\n",
      "  df[df_dev.index[i]] = similarity.detach().numpy().reshape(-1)\n"
     ]
    },
    {
     "name": "stdout",
     "output_type": "stream",
     "text": [
      "114 of 154 iterantions\n"
     ]
    },
    {
     "name": "stderr",
     "output_type": "stream",
     "text": [
      "/var/folders/5v/mt404vm51mvcpt_t2j5z7dbm0000gn/T/ipykernel_52628/388008328.py:9: PerformanceWarning: DataFrame is highly fragmented.  This is usually the result of calling `frame.insert` many times, which has poor performance.  Consider joining all columns at once using pd.concat(axis=1) instead. To get a de-fragmented frame, use `newframe = frame.copy()`\n",
      "  df[df_dev.index[i]] = similarity.detach().numpy().reshape(-1)\n"
     ]
    },
    {
     "name": "stdout",
     "output_type": "stream",
     "text": [
      "115 of 154 iterantions\n"
     ]
    },
    {
     "name": "stderr",
     "output_type": "stream",
     "text": [
      "/var/folders/5v/mt404vm51mvcpt_t2j5z7dbm0000gn/T/ipykernel_52628/388008328.py:9: PerformanceWarning: DataFrame is highly fragmented.  This is usually the result of calling `frame.insert` many times, which has poor performance.  Consider joining all columns at once using pd.concat(axis=1) instead. To get a de-fragmented frame, use `newframe = frame.copy()`\n",
      "  df[df_dev.index[i]] = similarity.detach().numpy().reshape(-1)\n"
     ]
    },
    {
     "name": "stdout",
     "output_type": "stream",
     "text": [
      "116 of 154 iterantions\n"
     ]
    },
    {
     "name": "stderr",
     "output_type": "stream",
     "text": [
      "/var/folders/5v/mt404vm51mvcpt_t2j5z7dbm0000gn/T/ipykernel_52628/388008328.py:9: PerformanceWarning: DataFrame is highly fragmented.  This is usually the result of calling `frame.insert` many times, which has poor performance.  Consider joining all columns at once using pd.concat(axis=1) instead. To get a de-fragmented frame, use `newframe = frame.copy()`\n",
      "  df[df_dev.index[i]] = similarity.detach().numpy().reshape(-1)\n"
     ]
    },
    {
     "name": "stdout",
     "output_type": "stream",
     "text": [
      "117 of 154 iterantions\n"
     ]
    },
    {
     "name": "stderr",
     "output_type": "stream",
     "text": [
      "/var/folders/5v/mt404vm51mvcpt_t2j5z7dbm0000gn/T/ipykernel_52628/388008328.py:9: PerformanceWarning: DataFrame is highly fragmented.  This is usually the result of calling `frame.insert` many times, which has poor performance.  Consider joining all columns at once using pd.concat(axis=1) instead. To get a de-fragmented frame, use `newframe = frame.copy()`\n",
      "  df[df_dev.index[i]] = similarity.detach().numpy().reshape(-1)\n"
     ]
    },
    {
     "name": "stdout",
     "output_type": "stream",
     "text": [
      "118 of 154 iterantions\n"
     ]
    },
    {
     "name": "stderr",
     "output_type": "stream",
     "text": [
      "/var/folders/5v/mt404vm51mvcpt_t2j5z7dbm0000gn/T/ipykernel_52628/388008328.py:9: PerformanceWarning: DataFrame is highly fragmented.  This is usually the result of calling `frame.insert` many times, which has poor performance.  Consider joining all columns at once using pd.concat(axis=1) instead. To get a de-fragmented frame, use `newframe = frame.copy()`\n",
      "  df[df_dev.index[i]] = similarity.detach().numpy().reshape(-1)\n"
     ]
    },
    {
     "name": "stdout",
     "output_type": "stream",
     "text": [
      "119 of 154 iterantions\n"
     ]
    },
    {
     "name": "stderr",
     "output_type": "stream",
     "text": [
      "/var/folders/5v/mt404vm51mvcpt_t2j5z7dbm0000gn/T/ipykernel_52628/388008328.py:9: PerformanceWarning: DataFrame is highly fragmented.  This is usually the result of calling `frame.insert` many times, which has poor performance.  Consider joining all columns at once using pd.concat(axis=1) instead. To get a de-fragmented frame, use `newframe = frame.copy()`\n",
      "  df[df_dev.index[i]] = similarity.detach().numpy().reshape(-1)\n"
     ]
    },
    {
     "name": "stdout",
     "output_type": "stream",
     "text": [
      "120 of 154 iterantions\n"
     ]
    },
    {
     "name": "stderr",
     "output_type": "stream",
     "text": [
      "/var/folders/5v/mt404vm51mvcpt_t2j5z7dbm0000gn/T/ipykernel_52628/388008328.py:9: PerformanceWarning: DataFrame is highly fragmented.  This is usually the result of calling `frame.insert` many times, which has poor performance.  Consider joining all columns at once using pd.concat(axis=1) instead. To get a de-fragmented frame, use `newframe = frame.copy()`\n",
      "  df[df_dev.index[i]] = similarity.detach().numpy().reshape(-1)\n"
     ]
    },
    {
     "name": "stdout",
     "output_type": "stream",
     "text": [
      "121 of 154 iterantions\n"
     ]
    },
    {
     "name": "stderr",
     "output_type": "stream",
     "text": [
      "/var/folders/5v/mt404vm51mvcpt_t2j5z7dbm0000gn/T/ipykernel_52628/388008328.py:9: PerformanceWarning: DataFrame is highly fragmented.  This is usually the result of calling `frame.insert` many times, which has poor performance.  Consider joining all columns at once using pd.concat(axis=1) instead. To get a de-fragmented frame, use `newframe = frame.copy()`\n",
      "  df[df_dev.index[i]] = similarity.detach().numpy().reshape(-1)\n"
     ]
    },
    {
     "name": "stdout",
     "output_type": "stream",
     "text": [
      "122 of 154 iterantions\n"
     ]
    },
    {
     "name": "stderr",
     "output_type": "stream",
     "text": [
      "/var/folders/5v/mt404vm51mvcpt_t2j5z7dbm0000gn/T/ipykernel_52628/388008328.py:9: PerformanceWarning: DataFrame is highly fragmented.  This is usually the result of calling `frame.insert` many times, which has poor performance.  Consider joining all columns at once using pd.concat(axis=1) instead. To get a de-fragmented frame, use `newframe = frame.copy()`\n",
      "  df[df_dev.index[i]] = similarity.detach().numpy().reshape(-1)\n"
     ]
    },
    {
     "name": "stdout",
     "output_type": "stream",
     "text": [
      "123 of 154 iterantions\n"
     ]
    },
    {
     "name": "stderr",
     "output_type": "stream",
     "text": [
      "/var/folders/5v/mt404vm51mvcpt_t2j5z7dbm0000gn/T/ipykernel_52628/388008328.py:9: PerformanceWarning: DataFrame is highly fragmented.  This is usually the result of calling `frame.insert` many times, which has poor performance.  Consider joining all columns at once using pd.concat(axis=1) instead. To get a de-fragmented frame, use `newframe = frame.copy()`\n",
      "  df[df_dev.index[i]] = similarity.detach().numpy().reshape(-1)\n"
     ]
    },
    {
     "name": "stdout",
     "output_type": "stream",
     "text": [
      "124 of 154 iterantions\n"
     ]
    },
    {
     "name": "stderr",
     "output_type": "stream",
     "text": [
      "/var/folders/5v/mt404vm51mvcpt_t2j5z7dbm0000gn/T/ipykernel_52628/388008328.py:9: PerformanceWarning: DataFrame is highly fragmented.  This is usually the result of calling `frame.insert` many times, which has poor performance.  Consider joining all columns at once using pd.concat(axis=1) instead. To get a de-fragmented frame, use `newframe = frame.copy()`\n",
      "  df[df_dev.index[i]] = similarity.detach().numpy().reshape(-1)\n"
     ]
    },
    {
     "name": "stdout",
     "output_type": "stream",
     "text": [
      "125 of 154 iterantions\n"
     ]
    },
    {
     "name": "stderr",
     "output_type": "stream",
     "text": [
      "/var/folders/5v/mt404vm51mvcpt_t2j5z7dbm0000gn/T/ipykernel_52628/388008328.py:9: PerformanceWarning: DataFrame is highly fragmented.  This is usually the result of calling `frame.insert` many times, which has poor performance.  Consider joining all columns at once using pd.concat(axis=1) instead. To get a de-fragmented frame, use `newframe = frame.copy()`\n",
      "  df[df_dev.index[i]] = similarity.detach().numpy().reshape(-1)\n"
     ]
    },
    {
     "name": "stdout",
     "output_type": "stream",
     "text": [
      "126 of 154 iterantions\n"
     ]
    },
    {
     "name": "stderr",
     "output_type": "stream",
     "text": [
      "/var/folders/5v/mt404vm51mvcpt_t2j5z7dbm0000gn/T/ipykernel_52628/388008328.py:9: PerformanceWarning: DataFrame is highly fragmented.  This is usually the result of calling `frame.insert` many times, which has poor performance.  Consider joining all columns at once using pd.concat(axis=1) instead. To get a de-fragmented frame, use `newframe = frame.copy()`\n",
      "  df[df_dev.index[i]] = similarity.detach().numpy().reshape(-1)\n"
     ]
    },
    {
     "name": "stdout",
     "output_type": "stream",
     "text": [
      "127 of 154 iterantions\n"
     ]
    },
    {
     "name": "stderr",
     "output_type": "stream",
     "text": [
      "/var/folders/5v/mt404vm51mvcpt_t2j5z7dbm0000gn/T/ipykernel_52628/388008328.py:9: PerformanceWarning: DataFrame is highly fragmented.  This is usually the result of calling `frame.insert` many times, which has poor performance.  Consider joining all columns at once using pd.concat(axis=1) instead. To get a de-fragmented frame, use `newframe = frame.copy()`\n",
      "  df[df_dev.index[i]] = similarity.detach().numpy().reshape(-1)\n"
     ]
    },
    {
     "name": "stdout",
     "output_type": "stream",
     "text": [
      "128 of 154 iterantions\n"
     ]
    },
    {
     "name": "stderr",
     "output_type": "stream",
     "text": [
      "/var/folders/5v/mt404vm51mvcpt_t2j5z7dbm0000gn/T/ipykernel_52628/388008328.py:9: PerformanceWarning: DataFrame is highly fragmented.  This is usually the result of calling `frame.insert` many times, which has poor performance.  Consider joining all columns at once using pd.concat(axis=1) instead. To get a de-fragmented frame, use `newframe = frame.copy()`\n",
      "  df[df_dev.index[i]] = similarity.detach().numpy().reshape(-1)\n"
     ]
    },
    {
     "name": "stdout",
     "output_type": "stream",
     "text": [
      "129 of 154 iterantions\n"
     ]
    },
    {
     "name": "stderr",
     "output_type": "stream",
     "text": [
      "/var/folders/5v/mt404vm51mvcpt_t2j5z7dbm0000gn/T/ipykernel_52628/388008328.py:9: PerformanceWarning: DataFrame is highly fragmented.  This is usually the result of calling `frame.insert` many times, which has poor performance.  Consider joining all columns at once using pd.concat(axis=1) instead. To get a de-fragmented frame, use `newframe = frame.copy()`\n",
      "  df[df_dev.index[i]] = similarity.detach().numpy().reshape(-1)\n"
     ]
    },
    {
     "name": "stdout",
     "output_type": "stream",
     "text": [
      "130 of 154 iterantions\n"
     ]
    },
    {
     "name": "stderr",
     "output_type": "stream",
     "text": [
      "/var/folders/5v/mt404vm51mvcpt_t2j5z7dbm0000gn/T/ipykernel_52628/388008328.py:9: PerformanceWarning: DataFrame is highly fragmented.  This is usually the result of calling `frame.insert` many times, which has poor performance.  Consider joining all columns at once using pd.concat(axis=1) instead. To get a de-fragmented frame, use `newframe = frame.copy()`\n",
      "  df[df_dev.index[i]] = similarity.detach().numpy().reshape(-1)\n"
     ]
    },
    {
     "name": "stdout",
     "output_type": "stream",
     "text": [
      "131 of 154 iterantions\n"
     ]
    },
    {
     "name": "stderr",
     "output_type": "stream",
     "text": [
      "/var/folders/5v/mt404vm51mvcpt_t2j5z7dbm0000gn/T/ipykernel_52628/388008328.py:9: PerformanceWarning: DataFrame is highly fragmented.  This is usually the result of calling `frame.insert` many times, which has poor performance.  Consider joining all columns at once using pd.concat(axis=1) instead. To get a de-fragmented frame, use `newframe = frame.copy()`\n",
      "  df[df_dev.index[i]] = similarity.detach().numpy().reshape(-1)\n"
     ]
    },
    {
     "name": "stdout",
     "output_type": "stream",
     "text": [
      "132 of 154 iterantions\n"
     ]
    },
    {
     "name": "stderr",
     "output_type": "stream",
     "text": [
      "/var/folders/5v/mt404vm51mvcpt_t2j5z7dbm0000gn/T/ipykernel_52628/388008328.py:9: PerformanceWarning: DataFrame is highly fragmented.  This is usually the result of calling `frame.insert` many times, which has poor performance.  Consider joining all columns at once using pd.concat(axis=1) instead. To get a de-fragmented frame, use `newframe = frame.copy()`\n",
      "  df[df_dev.index[i]] = similarity.detach().numpy().reshape(-1)\n"
     ]
    },
    {
     "name": "stdout",
     "output_type": "stream",
     "text": [
      "133 of 154 iterantions\n"
     ]
    },
    {
     "name": "stderr",
     "output_type": "stream",
     "text": [
      "/var/folders/5v/mt404vm51mvcpt_t2j5z7dbm0000gn/T/ipykernel_52628/388008328.py:9: PerformanceWarning: DataFrame is highly fragmented.  This is usually the result of calling `frame.insert` many times, which has poor performance.  Consider joining all columns at once using pd.concat(axis=1) instead. To get a de-fragmented frame, use `newframe = frame.copy()`\n",
      "  df[df_dev.index[i]] = similarity.detach().numpy().reshape(-1)\n"
     ]
    },
    {
     "name": "stdout",
     "output_type": "stream",
     "text": [
      "134 of 154 iterantions\n"
     ]
    },
    {
     "name": "stderr",
     "output_type": "stream",
     "text": [
      "/var/folders/5v/mt404vm51mvcpt_t2j5z7dbm0000gn/T/ipykernel_52628/388008328.py:9: PerformanceWarning: DataFrame is highly fragmented.  This is usually the result of calling `frame.insert` many times, which has poor performance.  Consider joining all columns at once using pd.concat(axis=1) instead. To get a de-fragmented frame, use `newframe = frame.copy()`\n",
      "  df[df_dev.index[i]] = similarity.detach().numpy().reshape(-1)\n"
     ]
    },
    {
     "name": "stdout",
     "output_type": "stream",
     "text": [
      "135 of 154 iterantions\n"
     ]
    },
    {
     "name": "stderr",
     "output_type": "stream",
     "text": [
      "/var/folders/5v/mt404vm51mvcpt_t2j5z7dbm0000gn/T/ipykernel_52628/388008328.py:9: PerformanceWarning: DataFrame is highly fragmented.  This is usually the result of calling `frame.insert` many times, which has poor performance.  Consider joining all columns at once using pd.concat(axis=1) instead. To get a de-fragmented frame, use `newframe = frame.copy()`\n",
      "  df[df_dev.index[i]] = similarity.detach().numpy().reshape(-1)\n"
     ]
    },
    {
     "name": "stdout",
     "output_type": "stream",
     "text": [
      "136 of 154 iterantions\n"
     ]
    },
    {
     "name": "stderr",
     "output_type": "stream",
     "text": [
      "/var/folders/5v/mt404vm51mvcpt_t2j5z7dbm0000gn/T/ipykernel_52628/388008328.py:9: PerformanceWarning: DataFrame is highly fragmented.  This is usually the result of calling `frame.insert` many times, which has poor performance.  Consider joining all columns at once using pd.concat(axis=1) instead. To get a de-fragmented frame, use `newframe = frame.copy()`\n",
      "  df[df_dev.index[i]] = similarity.detach().numpy().reshape(-1)\n"
     ]
    },
    {
     "name": "stdout",
     "output_type": "stream",
     "text": [
      "137 of 154 iterantions\n"
     ]
    },
    {
     "name": "stderr",
     "output_type": "stream",
     "text": [
      "/var/folders/5v/mt404vm51mvcpt_t2j5z7dbm0000gn/T/ipykernel_52628/388008328.py:9: PerformanceWarning: DataFrame is highly fragmented.  This is usually the result of calling `frame.insert` many times, which has poor performance.  Consider joining all columns at once using pd.concat(axis=1) instead. To get a de-fragmented frame, use `newframe = frame.copy()`\n",
      "  df[df_dev.index[i]] = similarity.detach().numpy().reshape(-1)\n"
     ]
    },
    {
     "name": "stdout",
     "output_type": "stream",
     "text": [
      "138 of 154 iterantions\n"
     ]
    },
    {
     "name": "stderr",
     "output_type": "stream",
     "text": [
      "/var/folders/5v/mt404vm51mvcpt_t2j5z7dbm0000gn/T/ipykernel_52628/388008328.py:9: PerformanceWarning: DataFrame is highly fragmented.  This is usually the result of calling `frame.insert` many times, which has poor performance.  Consider joining all columns at once using pd.concat(axis=1) instead. To get a de-fragmented frame, use `newframe = frame.copy()`\n",
      "  df[df_dev.index[i]] = similarity.detach().numpy().reshape(-1)\n"
     ]
    },
    {
     "name": "stdout",
     "output_type": "stream",
     "text": [
      "139 of 154 iterantions\n"
     ]
    },
    {
     "name": "stderr",
     "output_type": "stream",
     "text": [
      "/var/folders/5v/mt404vm51mvcpt_t2j5z7dbm0000gn/T/ipykernel_52628/388008328.py:9: PerformanceWarning: DataFrame is highly fragmented.  This is usually the result of calling `frame.insert` many times, which has poor performance.  Consider joining all columns at once using pd.concat(axis=1) instead. To get a de-fragmented frame, use `newframe = frame.copy()`\n",
      "  df[df_dev.index[i]] = similarity.detach().numpy().reshape(-1)\n"
     ]
    },
    {
     "name": "stdout",
     "output_type": "stream",
     "text": [
      "140 of 154 iterantions\n"
     ]
    },
    {
     "name": "stderr",
     "output_type": "stream",
     "text": [
      "/var/folders/5v/mt404vm51mvcpt_t2j5z7dbm0000gn/T/ipykernel_52628/388008328.py:9: PerformanceWarning: DataFrame is highly fragmented.  This is usually the result of calling `frame.insert` many times, which has poor performance.  Consider joining all columns at once using pd.concat(axis=1) instead. To get a de-fragmented frame, use `newframe = frame.copy()`\n",
      "  df[df_dev.index[i]] = similarity.detach().numpy().reshape(-1)\n"
     ]
    },
    {
     "name": "stdout",
     "output_type": "stream",
     "text": [
      "141 of 154 iterantions\n"
     ]
    },
    {
     "name": "stderr",
     "output_type": "stream",
     "text": [
      "/var/folders/5v/mt404vm51mvcpt_t2j5z7dbm0000gn/T/ipykernel_52628/388008328.py:9: PerformanceWarning: DataFrame is highly fragmented.  This is usually the result of calling `frame.insert` many times, which has poor performance.  Consider joining all columns at once using pd.concat(axis=1) instead. To get a de-fragmented frame, use `newframe = frame.copy()`\n",
      "  df[df_dev.index[i]] = similarity.detach().numpy().reshape(-1)\n"
     ]
    },
    {
     "name": "stdout",
     "output_type": "stream",
     "text": [
      "142 of 154 iterantions\n"
     ]
    },
    {
     "name": "stderr",
     "output_type": "stream",
     "text": [
      "/var/folders/5v/mt404vm51mvcpt_t2j5z7dbm0000gn/T/ipykernel_52628/388008328.py:9: PerformanceWarning: DataFrame is highly fragmented.  This is usually the result of calling `frame.insert` many times, which has poor performance.  Consider joining all columns at once using pd.concat(axis=1) instead. To get a de-fragmented frame, use `newframe = frame.copy()`\n",
      "  df[df_dev.index[i]] = similarity.detach().numpy().reshape(-1)\n"
     ]
    },
    {
     "name": "stdout",
     "output_type": "stream",
     "text": [
      "143 of 154 iterantions\n"
     ]
    },
    {
     "name": "stderr",
     "output_type": "stream",
     "text": [
      "/var/folders/5v/mt404vm51mvcpt_t2j5z7dbm0000gn/T/ipykernel_52628/388008328.py:9: PerformanceWarning: DataFrame is highly fragmented.  This is usually the result of calling `frame.insert` many times, which has poor performance.  Consider joining all columns at once using pd.concat(axis=1) instead. To get a de-fragmented frame, use `newframe = frame.copy()`\n",
      "  df[df_dev.index[i]] = similarity.detach().numpy().reshape(-1)\n"
     ]
    },
    {
     "name": "stdout",
     "output_type": "stream",
     "text": [
      "144 of 154 iterantions\n"
     ]
    },
    {
     "name": "stderr",
     "output_type": "stream",
     "text": [
      "/var/folders/5v/mt404vm51mvcpt_t2j5z7dbm0000gn/T/ipykernel_52628/388008328.py:9: PerformanceWarning: DataFrame is highly fragmented.  This is usually the result of calling `frame.insert` many times, which has poor performance.  Consider joining all columns at once using pd.concat(axis=1) instead. To get a de-fragmented frame, use `newframe = frame.copy()`\n",
      "  df[df_dev.index[i]] = similarity.detach().numpy().reshape(-1)\n"
     ]
    },
    {
     "name": "stdout",
     "output_type": "stream",
     "text": [
      "145 of 154 iterantions\n"
     ]
    },
    {
     "name": "stderr",
     "output_type": "stream",
     "text": [
      "/var/folders/5v/mt404vm51mvcpt_t2j5z7dbm0000gn/T/ipykernel_52628/388008328.py:9: PerformanceWarning: DataFrame is highly fragmented.  This is usually the result of calling `frame.insert` many times, which has poor performance.  Consider joining all columns at once using pd.concat(axis=1) instead. To get a de-fragmented frame, use `newframe = frame.copy()`\n",
      "  df[df_dev.index[i]] = similarity.detach().numpy().reshape(-1)\n"
     ]
    },
    {
     "name": "stdout",
     "output_type": "stream",
     "text": [
      "146 of 154 iterantions\n"
     ]
    },
    {
     "name": "stderr",
     "output_type": "stream",
     "text": [
      "/var/folders/5v/mt404vm51mvcpt_t2j5z7dbm0000gn/T/ipykernel_52628/388008328.py:9: PerformanceWarning: DataFrame is highly fragmented.  This is usually the result of calling `frame.insert` many times, which has poor performance.  Consider joining all columns at once using pd.concat(axis=1) instead. To get a de-fragmented frame, use `newframe = frame.copy()`\n",
      "  df[df_dev.index[i]] = similarity.detach().numpy().reshape(-1)\n"
     ]
    },
    {
     "name": "stdout",
     "output_type": "stream",
     "text": [
      "147 of 154 iterantions\n"
     ]
    },
    {
     "name": "stderr",
     "output_type": "stream",
     "text": [
      "/var/folders/5v/mt404vm51mvcpt_t2j5z7dbm0000gn/T/ipykernel_52628/388008328.py:9: PerformanceWarning: DataFrame is highly fragmented.  This is usually the result of calling `frame.insert` many times, which has poor performance.  Consider joining all columns at once using pd.concat(axis=1) instead. To get a de-fragmented frame, use `newframe = frame.copy()`\n",
      "  df[df_dev.index[i]] = similarity.detach().numpy().reshape(-1)\n"
     ]
    },
    {
     "name": "stdout",
     "output_type": "stream",
     "text": [
      "148 of 154 iterantions\n"
     ]
    },
    {
     "name": "stderr",
     "output_type": "stream",
     "text": [
      "/var/folders/5v/mt404vm51mvcpt_t2j5z7dbm0000gn/T/ipykernel_52628/388008328.py:9: PerformanceWarning: DataFrame is highly fragmented.  This is usually the result of calling `frame.insert` many times, which has poor performance.  Consider joining all columns at once using pd.concat(axis=1) instead. To get a de-fragmented frame, use `newframe = frame.copy()`\n",
      "  df[df_dev.index[i]] = similarity.detach().numpy().reshape(-1)\n"
     ]
    },
    {
     "name": "stdout",
     "output_type": "stream",
     "text": [
      "149 of 154 iterantions\n"
     ]
    },
    {
     "name": "stderr",
     "output_type": "stream",
     "text": [
      "/var/folders/5v/mt404vm51mvcpt_t2j5z7dbm0000gn/T/ipykernel_52628/388008328.py:9: PerformanceWarning: DataFrame is highly fragmented.  This is usually the result of calling `frame.insert` many times, which has poor performance.  Consider joining all columns at once using pd.concat(axis=1) instead. To get a de-fragmented frame, use `newframe = frame.copy()`\n",
      "  df[df_dev.index[i]] = similarity.detach().numpy().reshape(-1)\n"
     ]
    },
    {
     "name": "stdout",
     "output_type": "stream",
     "text": [
      "150 of 154 iterantions\n"
     ]
    },
    {
     "name": "stderr",
     "output_type": "stream",
     "text": [
      "/var/folders/5v/mt404vm51mvcpt_t2j5z7dbm0000gn/T/ipykernel_52628/388008328.py:9: PerformanceWarning: DataFrame is highly fragmented.  This is usually the result of calling `frame.insert` many times, which has poor performance.  Consider joining all columns at once using pd.concat(axis=1) instead. To get a de-fragmented frame, use `newframe = frame.copy()`\n",
      "  df[df_dev.index[i]] = similarity.detach().numpy().reshape(-1)\n"
     ]
    },
    {
     "name": "stdout",
     "output_type": "stream",
     "text": [
      "151 of 154 iterantions\n"
     ]
    },
    {
     "name": "stderr",
     "output_type": "stream",
     "text": [
      "/var/folders/5v/mt404vm51mvcpt_t2j5z7dbm0000gn/T/ipykernel_52628/388008328.py:9: PerformanceWarning: DataFrame is highly fragmented.  This is usually the result of calling `frame.insert` many times, which has poor performance.  Consider joining all columns at once using pd.concat(axis=1) instead. To get a de-fragmented frame, use `newframe = frame.copy()`\n",
      "  df[df_dev.index[i]] = similarity.detach().numpy().reshape(-1)\n"
     ]
    },
    {
     "name": "stdout",
     "output_type": "stream",
     "text": [
      "152 of 154 iterantions\n"
     ]
    },
    {
     "name": "stderr",
     "output_type": "stream",
     "text": [
      "/var/folders/5v/mt404vm51mvcpt_t2j5z7dbm0000gn/T/ipykernel_52628/388008328.py:9: PerformanceWarning: DataFrame is highly fragmented.  This is usually the result of calling `frame.insert` many times, which has poor performance.  Consider joining all columns at once using pd.concat(axis=1) instead. To get a de-fragmented frame, use `newframe = frame.copy()`\n",
      "  df[df_dev.index[i]] = similarity.detach().numpy().reshape(-1)\n"
     ]
    },
    {
     "name": "stdout",
     "output_type": "stream",
     "text": [
      "153 of 154 iterantions\n"
     ]
    },
    {
     "name": "stderr",
     "output_type": "stream",
     "text": [
      "/var/folders/5v/mt404vm51mvcpt_t2j5z7dbm0000gn/T/ipykernel_52628/388008328.py:9: PerformanceWarning: DataFrame is highly fragmented.  This is usually the result of calling `frame.insert` many times, which has poor performance.  Consider joining all columns at once using pd.concat(axis=1) instead. To get a de-fragmented frame, use `newframe = frame.copy()`\n",
      "  df[df_dev.index[i]] = similarity.detach().numpy().reshape(-1)\n"
     ]
    }
   ],
   "source": [
    "cos = nn.CosineSimilarity(dim=1, eps=1e-6)\n",
    "tot = enc_dv.shape[0]\n",
    "dv_sim = []\n",
    "dv_sim_ = []\n",
    "df = pd.Series(np.array(eviden.index)).reset_index(name='id').drop(['index'], axis=1)\n",
    "for i in range(tot):\n",
    "    print(f'{i} of {tot} iterantions')\n",
    "    similarity = cos(torch.from_numpy(enc_ev), torch.from_numpy(enc_dv[i]))\n",
    "    df[df_dev.index[i]] = similarity.detach().numpy().reshape(-1)"
   ]
  },
  {
   "cell_type": "code",
   "execution_count": 32,
   "metadata": {},
   "outputs": [
    {
     "data": {
      "text/html": [
       "<div>\n",
       "<style scoped>\n",
       "    .dataframe tbody tr th:only-of-type {\n",
       "        vertical-align: middle;\n",
       "    }\n",
       "\n",
       "    .dataframe tbody tr th {\n",
       "        vertical-align: top;\n",
       "    }\n",
       "\n",
       "    .dataframe thead th {\n",
       "        text-align: right;\n",
       "    }\n",
       "</style>\n",
       "<table border=\"1\" class=\"dataframe\">\n",
       "  <thead>\n",
       "    <tr style=\"text-align: right;\">\n",
       "      <th></th>\n",
       "      <th>id</th>\n",
       "      <th>claim-752</th>\n",
       "      <th>claim-375</th>\n",
       "      <th>claim-1266</th>\n",
       "      <th>claim-871</th>\n",
       "      <th>claim-2164</th>\n",
       "      <th>claim-1607</th>\n",
       "      <th>claim-761</th>\n",
       "      <th>claim-1718</th>\n",
       "      <th>claim-1273</th>\n",
       "      <th>...</th>\n",
       "      <th>claim-530</th>\n",
       "      <th>claim-2979</th>\n",
       "      <th>claim-665</th>\n",
       "      <th>claim-199</th>\n",
       "      <th>claim-490</th>\n",
       "      <th>claim-2400</th>\n",
       "      <th>claim-204</th>\n",
       "      <th>claim-1426</th>\n",
       "      <th>claim-698</th>\n",
       "      <th>claim-1021</th>\n",
       "    </tr>\n",
       "  </thead>\n",
       "  <tbody>\n",
       "    <tr>\n",
       "      <th>0</th>\n",
       "      <td>evidence-0</td>\n",
       "      <td>0.920275</td>\n",
       "      <td>0.655468</td>\n",
       "      <td>0.985084</td>\n",
       "      <td>0.527866</td>\n",
       "      <td>0.733992</td>\n",
       "      <td>0.647238</td>\n",
       "      <td>-0.155715</td>\n",
       "      <td>-0.462399</td>\n",
       "      <td>0.672091</td>\n",
       "      <td>...</td>\n",
       "      <td>-0.414640</td>\n",
       "      <td>0.618615</td>\n",
       "      <td>0.848770</td>\n",
       "      <td>0.651630</td>\n",
       "      <td>0.605739</td>\n",
       "      <td>0.814369</td>\n",
       "      <td>0.689088</td>\n",
       "      <td>0.800785</td>\n",
       "      <td>0.742398</td>\n",
       "      <td>0.981039</td>\n",
       "    </tr>\n",
       "    <tr>\n",
       "      <th>1</th>\n",
       "      <td>evidence-1</td>\n",
       "      <td>-0.440379</td>\n",
       "      <td>-0.982104</td>\n",
       "      <td>-0.768651</td>\n",
       "      <td>0.163122</td>\n",
       "      <td>-0.984385</td>\n",
       "      <td>-0.979251</td>\n",
       "      <td>0.769822</td>\n",
       "      <td>0.912332</td>\n",
       "      <td>-0.984241</td>\n",
       "      <td>...</td>\n",
       "      <td>0.908974</td>\n",
       "      <td>-0.972980</td>\n",
       "      <td>-0.960200</td>\n",
       "      <td>-0.974219</td>\n",
       "      <td>0.089181</td>\n",
       "      <td>-0.976255</td>\n",
       "      <td>-0.984056</td>\n",
       "      <td>-0.909748</td>\n",
       "      <td>-0.988843</td>\n",
       "      <td>-0.776417</td>\n",
       "    </tr>\n",
       "    <tr>\n",
       "      <th>2</th>\n",
       "      <td>evidence-2</td>\n",
       "      <td>-0.371895</td>\n",
       "      <td>-0.969249</td>\n",
       "      <td>-0.715300</td>\n",
       "      <td>0.298355</td>\n",
       "      <td>-0.965718</td>\n",
       "      <td>-0.954089</td>\n",
       "      <td>0.831383</td>\n",
       "      <td>0.968812</td>\n",
       "      <td>-0.975579</td>\n",
       "      <td>...</td>\n",
       "      <td>0.906314</td>\n",
       "      <td>-0.963241</td>\n",
       "      <td>-0.931879</td>\n",
       "      <td>-0.932708</td>\n",
       "      <td>0.158093</td>\n",
       "      <td>-0.925239</td>\n",
       "      <td>-0.972153</td>\n",
       "      <td>-0.824171</td>\n",
       "      <td>-0.967376</td>\n",
       "      <td>-0.684735</td>\n",
       "    </tr>\n",
       "    <tr>\n",
       "      <th>3</th>\n",
       "      <td>evidence-3</td>\n",
       "      <td>-0.179234</td>\n",
       "      <td>0.766087</td>\n",
       "      <td>0.173368</td>\n",
       "      <td>-0.713741</td>\n",
       "      <td>0.700091</td>\n",
       "      <td>0.763673</td>\n",
       "      <td>-0.784633</td>\n",
       "      <td>-0.789259</td>\n",
       "      <td>0.748830</td>\n",
       "      <td>...</td>\n",
       "      <td>-0.816271</td>\n",
       "      <td>0.793544</td>\n",
       "      <td>0.547288</td>\n",
       "      <td>0.739090</td>\n",
       "      <td>-0.598837</td>\n",
       "      <td>0.583458</td>\n",
       "      <td>0.738751</td>\n",
       "      <td>0.474578</td>\n",
       "      <td>0.682050</td>\n",
       "      <td>0.152342</td>\n",
       "    </tr>\n",
       "    <tr>\n",
       "      <th>4</th>\n",
       "      <td>evidence-4</td>\n",
       "      <td>-0.115849</td>\n",
       "      <td>-0.906719</td>\n",
       "      <td>-0.488031</td>\n",
       "      <td>0.376394</td>\n",
       "      <td>-0.875274</td>\n",
       "      <td>-0.923123</td>\n",
       "      <td>0.835778</td>\n",
       "      <td>0.842307</td>\n",
       "      <td>-0.892138</td>\n",
       "      <td>...</td>\n",
       "      <td>0.959892</td>\n",
       "      <td>-0.912055</td>\n",
       "      <td>-0.788011</td>\n",
       "      <td>-0.931081</td>\n",
       "      <td>0.377254</td>\n",
       "      <td>-0.842622</td>\n",
       "      <td>-0.888571</td>\n",
       "      <td>-0.795488</td>\n",
       "      <td>-0.870927</td>\n",
       "      <td>-0.531699</td>\n",
       "    </tr>\n",
       "    <tr>\n",
       "      <th>...</th>\n",
       "      <td>...</td>\n",
       "      <td>...</td>\n",
       "      <td>...</td>\n",
       "      <td>...</td>\n",
       "      <td>...</td>\n",
       "      <td>...</td>\n",
       "      <td>...</td>\n",
       "      <td>...</td>\n",
       "      <td>...</td>\n",
       "      <td>...</td>\n",
       "      <td>...</td>\n",
       "      <td>...</td>\n",
       "      <td>...</td>\n",
       "      <td>...</td>\n",
       "      <td>...</td>\n",
       "      <td>...</td>\n",
       "      <td>...</td>\n",
       "      <td>...</td>\n",
       "      <td>...</td>\n",
       "      <td>...</td>\n",
       "      <td>...</td>\n",
       "    </tr>\n",
       "    <tr>\n",
       "      <th>1208822</th>\n",
       "      <td>evidence-1208822</td>\n",
       "      <td>0.901981</td>\n",
       "      <td>0.696361</td>\n",
       "      <td>0.979610</td>\n",
       "      <td>0.459796</td>\n",
       "      <td>0.773904</td>\n",
       "      <td>0.690556</td>\n",
       "      <td>-0.228903</td>\n",
       "      <td>-0.471098</td>\n",
       "      <td>0.711938</td>\n",
       "      <td>...</td>\n",
       "      <td>-0.510098</td>\n",
       "      <td>0.662426</td>\n",
       "      <td>0.879611</td>\n",
       "      <td>0.712044</td>\n",
       "      <td>0.569121</td>\n",
       "      <td>0.837853</td>\n",
       "      <td>0.728846</td>\n",
       "      <td>0.864888</td>\n",
       "      <td>0.777982</td>\n",
       "      <td>0.964133</td>\n",
       "    </tr>\n",
       "    <tr>\n",
       "      <th>1208823</th>\n",
       "      <td>evidence-1208823</td>\n",
       "      <td>-0.299017</td>\n",
       "      <td>-0.982896</td>\n",
       "      <td>-0.655169</td>\n",
       "      <td>0.347981</td>\n",
       "      <td>-0.967468</td>\n",
       "      <td>-0.977084</td>\n",
       "      <td>0.862365</td>\n",
       "      <td>0.943150</td>\n",
       "      <td>-0.981964</td>\n",
       "      <td>...</td>\n",
       "      <td>0.961122</td>\n",
       "      <td>-0.981042</td>\n",
       "      <td>-0.911603</td>\n",
       "      <td>-0.970887</td>\n",
       "      <td>0.243140</td>\n",
       "      <td>-0.927029</td>\n",
       "      <td>-0.978123</td>\n",
       "      <td>-0.841433</td>\n",
       "      <td>-0.968092</td>\n",
       "      <td>-0.641716</td>\n",
       "    </tr>\n",
       "    <tr>\n",
       "      <th>1208824</th>\n",
       "      <td>evidence-1208824</td>\n",
       "      <td>-0.217660</td>\n",
       "      <td>-0.971217</td>\n",
       "      <td>-0.590341</td>\n",
       "      <td>0.400211</td>\n",
       "      <td>-0.948799</td>\n",
       "      <td>-0.970840</td>\n",
       "      <td>0.874355</td>\n",
       "      <td>0.942032</td>\n",
       "      <td>-0.966673</td>\n",
       "      <td>...</td>\n",
       "      <td>0.978526</td>\n",
       "      <td>-0.975015</td>\n",
       "      <td>-0.876475</td>\n",
       "      <td>-0.960109</td>\n",
       "      <td>0.319018</td>\n",
       "      <td>-0.896225</td>\n",
       "      <td>-0.963287</td>\n",
       "      <td>-0.821100</td>\n",
       "      <td>-0.945045</td>\n",
       "      <td>-0.594891</td>\n",
       "    </tr>\n",
       "    <tr>\n",
       "      <th>1208825</th>\n",
       "      <td>evidence-1208825</td>\n",
       "      <td>0.304737</td>\n",
       "      <td>-0.688599</td>\n",
       "      <td>-0.079199</td>\n",
       "      <td>0.735092</td>\n",
       "      <td>-0.611867</td>\n",
       "      <td>-0.688757</td>\n",
       "      <td>0.840675</td>\n",
       "      <td>0.793888</td>\n",
       "      <td>-0.666911</td>\n",
       "      <td>...</td>\n",
       "      <td>0.773926</td>\n",
       "      <td>-0.705919</td>\n",
       "      <td>-0.458687</td>\n",
       "      <td>-0.664151</td>\n",
       "      <td>0.731353</td>\n",
       "      <td>-0.519207</td>\n",
       "      <td>-0.654781</td>\n",
       "      <td>-0.359091</td>\n",
       "      <td>-0.604218</td>\n",
       "      <td>-0.075778</td>\n",
       "    </tr>\n",
       "    <tr>\n",
       "      <th>1208826</th>\n",
       "      <td>evidence-1208826</td>\n",
       "      <td>0.757811</td>\n",
       "      <td>0.287833</td>\n",
       "      <td>0.685828</td>\n",
       "      <td>0.704830</td>\n",
       "      <td>0.370235</td>\n",
       "      <td>0.307901</td>\n",
       "      <td>0.201907</td>\n",
       "      <td>0.052783</td>\n",
       "      <td>0.287882</td>\n",
       "      <td>...</td>\n",
       "      <td>-0.160517</td>\n",
       "      <td>0.258564</td>\n",
       "      <td>0.487372</td>\n",
       "      <td>0.372261</td>\n",
       "      <td>0.692870</td>\n",
       "      <td>0.474968</td>\n",
       "      <td>0.309413</td>\n",
       "      <td>0.596652</td>\n",
       "      <td>0.365475</td>\n",
       "      <td>0.720421</td>\n",
       "    </tr>\n",
       "  </tbody>\n",
       "</table>\n",
       "<p>1208827 rows × 155 columns</p>\n",
       "</div>"
      ],
      "text/plain": [
       "                       id  claim-752  claim-375  claim-1266  claim-871  \\\n",
       "0              evidence-0   0.920275   0.655468    0.985084   0.527866   \n",
       "1              evidence-1  -0.440379  -0.982104   -0.768651   0.163122   \n",
       "2              evidence-2  -0.371895  -0.969249   -0.715300   0.298355   \n",
       "3              evidence-3  -0.179234   0.766087    0.173368  -0.713741   \n",
       "4              evidence-4  -0.115849  -0.906719   -0.488031   0.376394   \n",
       "...                   ...        ...        ...         ...        ...   \n",
       "1208822  evidence-1208822   0.901981   0.696361    0.979610   0.459796   \n",
       "1208823  evidence-1208823  -0.299017  -0.982896   -0.655169   0.347981   \n",
       "1208824  evidence-1208824  -0.217660  -0.971217   -0.590341   0.400211   \n",
       "1208825  evidence-1208825   0.304737  -0.688599   -0.079199   0.735092   \n",
       "1208826  evidence-1208826   0.757811   0.287833    0.685828   0.704830   \n",
       "\n",
       "         claim-2164  claim-1607  claim-761  claim-1718  claim-1273  ...  \\\n",
       "0          0.733992    0.647238  -0.155715   -0.462399    0.672091  ...   \n",
       "1         -0.984385   -0.979251   0.769822    0.912332   -0.984241  ...   \n",
       "2         -0.965718   -0.954089   0.831383    0.968812   -0.975579  ...   \n",
       "3          0.700091    0.763673  -0.784633   -0.789259    0.748830  ...   \n",
       "4         -0.875274   -0.923123   0.835778    0.842307   -0.892138  ...   \n",
       "...             ...         ...        ...         ...         ...  ...   \n",
       "1208822    0.773904    0.690556  -0.228903   -0.471098    0.711938  ...   \n",
       "1208823   -0.967468   -0.977084   0.862365    0.943150   -0.981964  ...   \n",
       "1208824   -0.948799   -0.970840   0.874355    0.942032   -0.966673  ...   \n",
       "1208825   -0.611867   -0.688757   0.840675    0.793888   -0.666911  ...   \n",
       "1208826    0.370235    0.307901   0.201907    0.052783    0.287882  ...   \n",
       "\n",
       "         claim-530  claim-2979  claim-665  claim-199  claim-490  claim-2400  \\\n",
       "0        -0.414640    0.618615   0.848770   0.651630   0.605739    0.814369   \n",
       "1         0.908974   -0.972980  -0.960200  -0.974219   0.089181   -0.976255   \n",
       "2         0.906314   -0.963241  -0.931879  -0.932708   0.158093   -0.925239   \n",
       "3        -0.816271    0.793544   0.547288   0.739090  -0.598837    0.583458   \n",
       "4         0.959892   -0.912055  -0.788011  -0.931081   0.377254   -0.842622   \n",
       "...            ...         ...        ...        ...        ...         ...   \n",
       "1208822  -0.510098    0.662426   0.879611   0.712044   0.569121    0.837853   \n",
       "1208823   0.961122   -0.981042  -0.911603  -0.970887   0.243140   -0.927029   \n",
       "1208824   0.978526   -0.975015  -0.876475  -0.960109   0.319018   -0.896225   \n",
       "1208825   0.773926   -0.705919  -0.458687  -0.664151   0.731353   -0.519207   \n",
       "1208826  -0.160517    0.258564   0.487372   0.372261   0.692870    0.474968   \n",
       "\n",
       "         claim-204  claim-1426  claim-698  claim-1021  \n",
       "0         0.689088    0.800785   0.742398    0.981039  \n",
       "1        -0.984056   -0.909748  -0.988843   -0.776417  \n",
       "2        -0.972153   -0.824171  -0.967376   -0.684735  \n",
       "3         0.738751    0.474578   0.682050    0.152342  \n",
       "4        -0.888571   -0.795488  -0.870927   -0.531699  \n",
       "...            ...         ...        ...         ...  \n",
       "1208822   0.728846    0.864888   0.777982    0.964133  \n",
       "1208823  -0.978123   -0.841433  -0.968092   -0.641716  \n",
       "1208824  -0.963287   -0.821100  -0.945045   -0.594891  \n",
       "1208825  -0.654781   -0.359091  -0.604218   -0.075778  \n",
       "1208826   0.309413    0.596652   0.365475    0.720421  \n",
       "\n",
       "[1208827 rows x 155 columns]"
      ]
     },
     "execution_count": 32,
     "metadata": {},
     "output_type": "execute_result"
    }
   ],
   "source": [
    "df"
   ]
  },
  {
   "cell_type": "code",
   "execution_count": 82,
   "metadata": {},
   "outputs": [],
   "source": [
    "df.to_csv('../data/SBERT_2/sim.csv')"
   ]
  },
  {
   "cell_type": "code",
   "execution_count": 86,
   "metadata": {},
   "outputs": [
    {
     "name": "stdout",
     "output_type": "stream",
     "text": [
      "thresh: 990 F1: 0.0001251826994173842\n",
      "thresh: 993 F1: 0.00014719771697847464\n",
      "thresh: 996 F1: 0.00016811728171091595\n",
      "thresh: 999 F1: 0.0004276801047330198\n"
     ]
    }
   ],
   "source": [
    "f_score = {}\n",
    "for thresh in range(990,1000, 3):\n",
    "    precision, recall, F1 = [], [], []\n",
    "    for claim in df_dev.index:\n",
    "        ds = df.set_index('id').loc[:, [claim]] \n",
    "        ds = ds[ds[claim] >= thresh/1000]\n",
    "        TP = ds[ds.index.isin(df_dev.loc[claim, 'evidences'])].shape[0]\n",
    "        FP = ds.shape[0]-TP\n",
    "        FN = len(df_dev.loc[claim, 'evidences']) - TP\n",
    "\n",
    "        precision = TP/(TP+FP + 1E-10)\n",
    "        recall = TP/(TP+FN + 1E-10)\n",
    "        F1.append((2 * precision * recall)/(precision + recall + 1E-10))\n",
    "    mn = np.mean(F1)\n",
    "    f_score[thresh] = mn\n",
    "    print(f'thresh: {thresh} F1: {mn}')"
   ]
  },
  {
   "cell_type": "code",
   "execution_count": 89,
   "metadata": {},
   "outputs": [
    {
     "name": "stdout",
     "output_type": "stream",
     "text": [
      "thresh: 0.9999 F1: 0.000851058613136259\n"
     ]
    }
   ],
   "source": [
    "f_score = {}\n",
    "for thresh in range(9999,10000):\n",
    "    precision, recall, F1 = [], [], []\n",
    "    for claim in df_dev.index:\n",
    "        ds = df.set_index('id').loc[:, [claim]] \n",
    "        ds = ds[ds[claim] >= thresh/10000]\n",
    "        TP = ds[ds.index.isin(df_dev.loc[claim, 'evidences'])].shape[0]\n",
    "        FP = ds.shape[0]-TP\n",
    "        FN = len(df_dev.loc[claim, 'evidences']) - TP\n",
    "\n",
    "        precision = TP/(TP+FP + 1E-10)\n",
    "        recall = TP/(TP+FN + 1E-10)\n",
    "        F1.append((2 * precision * recall)/(precision + recall + 1E-10))\n",
    "    mn = np.mean(F1)\n",
    "    f_score[thresh] = mn\n",
    "    print(f'thresh: {thresh/10000} F1: {mn}')"
   ]
  },
  {
   "cell_type": "code",
   "execution_count": 60,
   "metadata": {},
   "outputs": [],
   "source": [
    "# Read dev claims\n",
    "with open('../data/test-claims-unlabelled.json', 'r') as f:\n",
    "    df_test = pd.DataFrame(json.load(f)).transpose()\n",
    "\n",
    "\n",
    "# Load encoded test set\n",
    "with open('../data/SBERT_2/encoded_ts_claims.json', 'rb') as f:\n",
    "    enc_ts = np.load(f)"
   ]
  },
  {
   "cell_type": "code",
   "execution_count": 106,
   "metadata": {},
   "outputs": [
    {
     "name": "stdout",
     "output_type": "stream",
     "text": [
      "0 of 153 iterantions\n",
      "1 of 153 iterantions\n",
      "2 of 153 iterantions\n",
      "3 of 153 iterantions\n",
      "4 of 153 iterantions\n",
      "5 of 153 iterantions\n",
      "6 of 153 iterantions\n",
      "7 of 153 iterantions\n",
      "8 of 153 iterantions\n",
      "9 of 153 iterantions\n",
      "10 of 153 iterantions\n",
      "11 of 153 iterantions\n",
      "12 of 153 iterantions\n",
      "13 of 153 iterantions\n",
      "14 of 153 iterantions\n",
      "15 of 153 iterantions\n",
      "16 of 153 iterantions\n",
      "17 of 153 iterantions\n",
      "18 of 153 iterantions\n",
      "19 of 153 iterantions\n",
      "20 of 153 iterantions\n",
      "21 of 153 iterantions\n",
      "22 of 153 iterantions\n",
      "23 of 153 iterantions\n",
      "24 of 153 iterantions\n",
      "25 of 153 iterantions\n",
      "26 of 153 iterantions\n",
      "27 of 153 iterantions\n",
      "28 of 153 iterantions\n",
      "29 of 153 iterantions\n",
      "30 of 153 iterantions\n",
      "31 of 153 iterantions\n",
      "32 of 153 iterantions\n",
      "33 of 153 iterantions\n",
      "34 of 153 iterantions\n",
      "35 of 153 iterantions\n",
      "36 of 153 iterantions\n",
      "37 of 153 iterantions\n",
      "38 of 153 iterantions\n",
      "39 of 153 iterantions\n",
      "40 of 153 iterantions\n",
      "41 of 153 iterantions\n",
      "42 of 153 iterantions\n",
      "43 of 153 iterantions\n",
      "44 of 153 iterantions\n",
      "45 of 153 iterantions\n",
      "46 of 153 iterantions\n",
      "47 of 153 iterantions\n",
      "48 of 153 iterantions\n",
      "49 of 153 iterantions\n",
      "50 of 153 iterantions\n",
      "51 of 153 iterantions\n",
      "52 of 153 iterantions\n",
      "53 of 153 iterantions\n",
      "54 of 153 iterantions\n",
      "55 of 153 iterantions\n",
      "56 of 153 iterantions\n",
      "57 of 153 iterantions\n",
      "58 of 153 iterantions\n",
      "59 of 153 iterantions\n",
      "60 of 153 iterantions\n",
      "61 of 153 iterantions\n",
      "62 of 153 iterantions\n",
      "63 of 153 iterantions\n",
      "64 of 153 iterantions\n",
      "65 of 153 iterantions\n",
      "66 of 153 iterantions\n",
      "67 of 153 iterantions\n",
      "68 of 153 iterantions\n",
      "69 of 153 iterantions\n",
      "70 of 153 iterantions\n",
      "71 of 153 iterantions\n",
      "72 of 153 iterantions\n",
      "73 of 153 iterantions\n",
      "74 of 153 iterantions\n",
      "75 of 153 iterantions\n",
      "76 of 153 iterantions\n",
      "77 of 153 iterantions\n",
      "78 of 153 iterantions\n",
      "79 of 153 iterantions\n",
      "80 of 153 iterantions\n",
      "81 of 153 iterantions\n",
      "82 of 153 iterantions\n",
      "83 of 153 iterantions\n",
      "84 of 153 iterantions\n",
      "85 of 153 iterantions\n",
      "86 of 153 iterantions\n",
      "87 of 153 iterantions\n",
      "88 of 153 iterantions\n",
      "89 of 153 iterantions\n",
      "90 of 153 iterantions\n",
      "91 of 153 iterantions\n",
      "92 of 153 iterantions\n",
      "93 of 153 iterantions\n",
      "94 of 153 iterantions\n",
      "95 of 153 iterantions\n",
      "96 of 153 iterantions\n",
      "97 of 153 iterantions\n",
      "98 of 153 iterantions\n",
      "99 of 153 iterantions\n"
     ]
    },
    {
     "name": "stderr",
     "output_type": "stream",
     "text": [
      "/var/folders/5v/mt404vm51mvcpt_t2j5z7dbm0000gn/T/ipykernel_52628/276985217.py:9: PerformanceWarning: DataFrame is highly fragmented.  This is usually the result of calling `frame.insert` many times, which has poor performance.  Consider joining all columns at once using pd.concat(axis=1) instead. To get a de-fragmented frame, use `newframe = frame.copy()`\n",
      "  df[df_test.index[i]] = similarity.detach().numpy().reshape(-1)\n"
     ]
    },
    {
     "name": "stdout",
     "output_type": "stream",
     "text": [
      "100 of 153 iterantions\n"
     ]
    },
    {
     "name": "stderr",
     "output_type": "stream",
     "text": [
      "/var/folders/5v/mt404vm51mvcpt_t2j5z7dbm0000gn/T/ipykernel_52628/276985217.py:9: PerformanceWarning: DataFrame is highly fragmented.  This is usually the result of calling `frame.insert` many times, which has poor performance.  Consider joining all columns at once using pd.concat(axis=1) instead. To get a de-fragmented frame, use `newframe = frame.copy()`\n",
      "  df[df_test.index[i]] = similarity.detach().numpy().reshape(-1)\n"
     ]
    },
    {
     "name": "stdout",
     "output_type": "stream",
     "text": [
      "101 of 153 iterantions\n"
     ]
    },
    {
     "name": "stderr",
     "output_type": "stream",
     "text": [
      "/var/folders/5v/mt404vm51mvcpt_t2j5z7dbm0000gn/T/ipykernel_52628/276985217.py:9: PerformanceWarning: DataFrame is highly fragmented.  This is usually the result of calling `frame.insert` many times, which has poor performance.  Consider joining all columns at once using pd.concat(axis=1) instead. To get a de-fragmented frame, use `newframe = frame.copy()`\n",
      "  df[df_test.index[i]] = similarity.detach().numpy().reshape(-1)\n"
     ]
    },
    {
     "name": "stdout",
     "output_type": "stream",
     "text": [
      "102 of 153 iterantions\n"
     ]
    },
    {
     "name": "stderr",
     "output_type": "stream",
     "text": [
      "/var/folders/5v/mt404vm51mvcpt_t2j5z7dbm0000gn/T/ipykernel_52628/276985217.py:9: PerformanceWarning: DataFrame is highly fragmented.  This is usually the result of calling `frame.insert` many times, which has poor performance.  Consider joining all columns at once using pd.concat(axis=1) instead. To get a de-fragmented frame, use `newframe = frame.copy()`\n",
      "  df[df_test.index[i]] = similarity.detach().numpy().reshape(-1)\n"
     ]
    },
    {
     "name": "stdout",
     "output_type": "stream",
     "text": [
      "103 of 153 iterantions\n"
     ]
    },
    {
     "name": "stderr",
     "output_type": "stream",
     "text": [
      "/var/folders/5v/mt404vm51mvcpt_t2j5z7dbm0000gn/T/ipykernel_52628/276985217.py:9: PerformanceWarning: DataFrame is highly fragmented.  This is usually the result of calling `frame.insert` many times, which has poor performance.  Consider joining all columns at once using pd.concat(axis=1) instead. To get a de-fragmented frame, use `newframe = frame.copy()`\n",
      "  df[df_test.index[i]] = similarity.detach().numpy().reshape(-1)\n"
     ]
    },
    {
     "name": "stdout",
     "output_type": "stream",
     "text": [
      "104 of 153 iterantions\n"
     ]
    },
    {
     "name": "stderr",
     "output_type": "stream",
     "text": [
      "/var/folders/5v/mt404vm51mvcpt_t2j5z7dbm0000gn/T/ipykernel_52628/276985217.py:9: PerformanceWarning: DataFrame is highly fragmented.  This is usually the result of calling `frame.insert` many times, which has poor performance.  Consider joining all columns at once using pd.concat(axis=1) instead. To get a de-fragmented frame, use `newframe = frame.copy()`\n",
      "  df[df_test.index[i]] = similarity.detach().numpy().reshape(-1)\n"
     ]
    },
    {
     "name": "stdout",
     "output_type": "stream",
     "text": [
      "105 of 153 iterantions\n"
     ]
    },
    {
     "name": "stderr",
     "output_type": "stream",
     "text": [
      "/var/folders/5v/mt404vm51mvcpt_t2j5z7dbm0000gn/T/ipykernel_52628/276985217.py:9: PerformanceWarning: DataFrame is highly fragmented.  This is usually the result of calling `frame.insert` many times, which has poor performance.  Consider joining all columns at once using pd.concat(axis=1) instead. To get a de-fragmented frame, use `newframe = frame.copy()`\n",
      "  df[df_test.index[i]] = similarity.detach().numpy().reshape(-1)\n"
     ]
    },
    {
     "name": "stdout",
     "output_type": "stream",
     "text": [
      "106 of 153 iterantions\n"
     ]
    },
    {
     "name": "stderr",
     "output_type": "stream",
     "text": [
      "/var/folders/5v/mt404vm51mvcpt_t2j5z7dbm0000gn/T/ipykernel_52628/276985217.py:9: PerformanceWarning: DataFrame is highly fragmented.  This is usually the result of calling `frame.insert` many times, which has poor performance.  Consider joining all columns at once using pd.concat(axis=1) instead. To get a de-fragmented frame, use `newframe = frame.copy()`\n",
      "  df[df_test.index[i]] = similarity.detach().numpy().reshape(-1)\n"
     ]
    },
    {
     "name": "stdout",
     "output_type": "stream",
     "text": [
      "107 of 153 iterantions\n"
     ]
    },
    {
     "name": "stderr",
     "output_type": "stream",
     "text": [
      "/var/folders/5v/mt404vm51mvcpt_t2j5z7dbm0000gn/T/ipykernel_52628/276985217.py:9: PerformanceWarning: DataFrame is highly fragmented.  This is usually the result of calling `frame.insert` many times, which has poor performance.  Consider joining all columns at once using pd.concat(axis=1) instead. To get a de-fragmented frame, use `newframe = frame.copy()`\n",
      "  df[df_test.index[i]] = similarity.detach().numpy().reshape(-1)\n"
     ]
    },
    {
     "name": "stdout",
     "output_type": "stream",
     "text": [
      "108 of 153 iterantions\n"
     ]
    },
    {
     "name": "stderr",
     "output_type": "stream",
     "text": [
      "/var/folders/5v/mt404vm51mvcpt_t2j5z7dbm0000gn/T/ipykernel_52628/276985217.py:9: PerformanceWarning: DataFrame is highly fragmented.  This is usually the result of calling `frame.insert` many times, which has poor performance.  Consider joining all columns at once using pd.concat(axis=1) instead. To get a de-fragmented frame, use `newframe = frame.copy()`\n",
      "  df[df_test.index[i]] = similarity.detach().numpy().reshape(-1)\n"
     ]
    },
    {
     "name": "stdout",
     "output_type": "stream",
     "text": [
      "109 of 153 iterantions\n"
     ]
    },
    {
     "name": "stderr",
     "output_type": "stream",
     "text": [
      "/var/folders/5v/mt404vm51mvcpt_t2j5z7dbm0000gn/T/ipykernel_52628/276985217.py:9: PerformanceWarning: DataFrame is highly fragmented.  This is usually the result of calling `frame.insert` many times, which has poor performance.  Consider joining all columns at once using pd.concat(axis=1) instead. To get a de-fragmented frame, use `newframe = frame.copy()`\n",
      "  df[df_test.index[i]] = similarity.detach().numpy().reshape(-1)\n"
     ]
    },
    {
     "name": "stdout",
     "output_type": "stream",
     "text": [
      "110 of 153 iterantions\n"
     ]
    },
    {
     "name": "stderr",
     "output_type": "stream",
     "text": [
      "/var/folders/5v/mt404vm51mvcpt_t2j5z7dbm0000gn/T/ipykernel_52628/276985217.py:9: PerformanceWarning: DataFrame is highly fragmented.  This is usually the result of calling `frame.insert` many times, which has poor performance.  Consider joining all columns at once using pd.concat(axis=1) instead. To get a de-fragmented frame, use `newframe = frame.copy()`\n",
      "  df[df_test.index[i]] = similarity.detach().numpy().reshape(-1)\n"
     ]
    },
    {
     "name": "stdout",
     "output_type": "stream",
     "text": [
      "111 of 153 iterantions\n"
     ]
    },
    {
     "name": "stderr",
     "output_type": "stream",
     "text": [
      "/var/folders/5v/mt404vm51mvcpt_t2j5z7dbm0000gn/T/ipykernel_52628/276985217.py:9: PerformanceWarning: DataFrame is highly fragmented.  This is usually the result of calling `frame.insert` many times, which has poor performance.  Consider joining all columns at once using pd.concat(axis=1) instead. To get a de-fragmented frame, use `newframe = frame.copy()`\n",
      "  df[df_test.index[i]] = similarity.detach().numpy().reshape(-1)\n"
     ]
    },
    {
     "name": "stdout",
     "output_type": "stream",
     "text": [
      "112 of 153 iterantions\n"
     ]
    },
    {
     "name": "stderr",
     "output_type": "stream",
     "text": [
      "/var/folders/5v/mt404vm51mvcpt_t2j5z7dbm0000gn/T/ipykernel_52628/276985217.py:9: PerformanceWarning: DataFrame is highly fragmented.  This is usually the result of calling `frame.insert` many times, which has poor performance.  Consider joining all columns at once using pd.concat(axis=1) instead. To get a de-fragmented frame, use `newframe = frame.copy()`\n",
      "  df[df_test.index[i]] = similarity.detach().numpy().reshape(-1)\n"
     ]
    },
    {
     "name": "stdout",
     "output_type": "stream",
     "text": [
      "113 of 153 iterantions\n"
     ]
    },
    {
     "name": "stderr",
     "output_type": "stream",
     "text": [
      "/var/folders/5v/mt404vm51mvcpt_t2j5z7dbm0000gn/T/ipykernel_52628/276985217.py:9: PerformanceWarning: DataFrame is highly fragmented.  This is usually the result of calling `frame.insert` many times, which has poor performance.  Consider joining all columns at once using pd.concat(axis=1) instead. To get a de-fragmented frame, use `newframe = frame.copy()`\n",
      "  df[df_test.index[i]] = similarity.detach().numpy().reshape(-1)\n"
     ]
    },
    {
     "name": "stdout",
     "output_type": "stream",
     "text": [
      "114 of 153 iterantions\n"
     ]
    },
    {
     "name": "stderr",
     "output_type": "stream",
     "text": [
      "/var/folders/5v/mt404vm51mvcpt_t2j5z7dbm0000gn/T/ipykernel_52628/276985217.py:9: PerformanceWarning: DataFrame is highly fragmented.  This is usually the result of calling `frame.insert` many times, which has poor performance.  Consider joining all columns at once using pd.concat(axis=1) instead. To get a de-fragmented frame, use `newframe = frame.copy()`\n",
      "  df[df_test.index[i]] = similarity.detach().numpy().reshape(-1)\n"
     ]
    },
    {
     "name": "stdout",
     "output_type": "stream",
     "text": [
      "115 of 153 iterantions\n"
     ]
    },
    {
     "name": "stderr",
     "output_type": "stream",
     "text": [
      "/var/folders/5v/mt404vm51mvcpt_t2j5z7dbm0000gn/T/ipykernel_52628/276985217.py:9: PerformanceWarning: DataFrame is highly fragmented.  This is usually the result of calling `frame.insert` many times, which has poor performance.  Consider joining all columns at once using pd.concat(axis=1) instead. To get a de-fragmented frame, use `newframe = frame.copy()`\n",
      "  df[df_test.index[i]] = similarity.detach().numpy().reshape(-1)\n"
     ]
    },
    {
     "name": "stdout",
     "output_type": "stream",
     "text": [
      "116 of 153 iterantions\n"
     ]
    },
    {
     "name": "stderr",
     "output_type": "stream",
     "text": [
      "/var/folders/5v/mt404vm51mvcpt_t2j5z7dbm0000gn/T/ipykernel_52628/276985217.py:9: PerformanceWarning: DataFrame is highly fragmented.  This is usually the result of calling `frame.insert` many times, which has poor performance.  Consider joining all columns at once using pd.concat(axis=1) instead. To get a de-fragmented frame, use `newframe = frame.copy()`\n",
      "  df[df_test.index[i]] = similarity.detach().numpy().reshape(-1)\n"
     ]
    },
    {
     "name": "stdout",
     "output_type": "stream",
     "text": [
      "117 of 153 iterantions\n"
     ]
    },
    {
     "name": "stderr",
     "output_type": "stream",
     "text": [
      "/var/folders/5v/mt404vm51mvcpt_t2j5z7dbm0000gn/T/ipykernel_52628/276985217.py:9: PerformanceWarning: DataFrame is highly fragmented.  This is usually the result of calling `frame.insert` many times, which has poor performance.  Consider joining all columns at once using pd.concat(axis=1) instead. To get a de-fragmented frame, use `newframe = frame.copy()`\n",
      "  df[df_test.index[i]] = similarity.detach().numpy().reshape(-1)\n"
     ]
    },
    {
     "name": "stdout",
     "output_type": "stream",
     "text": [
      "118 of 153 iterantions\n"
     ]
    },
    {
     "name": "stderr",
     "output_type": "stream",
     "text": [
      "/var/folders/5v/mt404vm51mvcpt_t2j5z7dbm0000gn/T/ipykernel_52628/276985217.py:9: PerformanceWarning: DataFrame is highly fragmented.  This is usually the result of calling `frame.insert` many times, which has poor performance.  Consider joining all columns at once using pd.concat(axis=1) instead. To get a de-fragmented frame, use `newframe = frame.copy()`\n",
      "  df[df_test.index[i]] = similarity.detach().numpy().reshape(-1)\n"
     ]
    },
    {
     "name": "stdout",
     "output_type": "stream",
     "text": [
      "119 of 153 iterantions\n"
     ]
    },
    {
     "name": "stderr",
     "output_type": "stream",
     "text": [
      "/var/folders/5v/mt404vm51mvcpt_t2j5z7dbm0000gn/T/ipykernel_52628/276985217.py:9: PerformanceWarning: DataFrame is highly fragmented.  This is usually the result of calling `frame.insert` many times, which has poor performance.  Consider joining all columns at once using pd.concat(axis=1) instead. To get a de-fragmented frame, use `newframe = frame.copy()`\n",
      "  df[df_test.index[i]] = similarity.detach().numpy().reshape(-1)\n"
     ]
    },
    {
     "name": "stdout",
     "output_type": "stream",
     "text": [
      "120 of 153 iterantions\n"
     ]
    },
    {
     "name": "stderr",
     "output_type": "stream",
     "text": [
      "/var/folders/5v/mt404vm51mvcpt_t2j5z7dbm0000gn/T/ipykernel_52628/276985217.py:9: PerformanceWarning: DataFrame is highly fragmented.  This is usually the result of calling `frame.insert` many times, which has poor performance.  Consider joining all columns at once using pd.concat(axis=1) instead. To get a de-fragmented frame, use `newframe = frame.copy()`\n",
      "  df[df_test.index[i]] = similarity.detach().numpy().reshape(-1)\n"
     ]
    },
    {
     "name": "stdout",
     "output_type": "stream",
     "text": [
      "121 of 153 iterantions\n"
     ]
    },
    {
     "name": "stderr",
     "output_type": "stream",
     "text": [
      "/var/folders/5v/mt404vm51mvcpt_t2j5z7dbm0000gn/T/ipykernel_52628/276985217.py:9: PerformanceWarning: DataFrame is highly fragmented.  This is usually the result of calling `frame.insert` many times, which has poor performance.  Consider joining all columns at once using pd.concat(axis=1) instead. To get a de-fragmented frame, use `newframe = frame.copy()`\n",
      "  df[df_test.index[i]] = similarity.detach().numpy().reshape(-1)\n"
     ]
    },
    {
     "name": "stdout",
     "output_type": "stream",
     "text": [
      "122 of 153 iterantions\n"
     ]
    },
    {
     "name": "stderr",
     "output_type": "stream",
     "text": [
      "/var/folders/5v/mt404vm51mvcpt_t2j5z7dbm0000gn/T/ipykernel_52628/276985217.py:9: PerformanceWarning: DataFrame is highly fragmented.  This is usually the result of calling `frame.insert` many times, which has poor performance.  Consider joining all columns at once using pd.concat(axis=1) instead. To get a de-fragmented frame, use `newframe = frame.copy()`\n",
      "  df[df_test.index[i]] = similarity.detach().numpy().reshape(-1)\n"
     ]
    },
    {
     "name": "stdout",
     "output_type": "stream",
     "text": [
      "123 of 153 iterantions\n"
     ]
    },
    {
     "name": "stderr",
     "output_type": "stream",
     "text": [
      "/var/folders/5v/mt404vm51mvcpt_t2j5z7dbm0000gn/T/ipykernel_52628/276985217.py:9: PerformanceWarning: DataFrame is highly fragmented.  This is usually the result of calling `frame.insert` many times, which has poor performance.  Consider joining all columns at once using pd.concat(axis=1) instead. To get a de-fragmented frame, use `newframe = frame.copy()`\n",
      "  df[df_test.index[i]] = similarity.detach().numpy().reshape(-1)\n"
     ]
    },
    {
     "name": "stdout",
     "output_type": "stream",
     "text": [
      "124 of 153 iterantions\n"
     ]
    },
    {
     "name": "stderr",
     "output_type": "stream",
     "text": [
      "/var/folders/5v/mt404vm51mvcpt_t2j5z7dbm0000gn/T/ipykernel_52628/276985217.py:9: PerformanceWarning: DataFrame is highly fragmented.  This is usually the result of calling `frame.insert` many times, which has poor performance.  Consider joining all columns at once using pd.concat(axis=1) instead. To get a de-fragmented frame, use `newframe = frame.copy()`\n",
      "  df[df_test.index[i]] = similarity.detach().numpy().reshape(-1)\n"
     ]
    },
    {
     "name": "stdout",
     "output_type": "stream",
     "text": [
      "125 of 153 iterantions\n"
     ]
    },
    {
     "name": "stderr",
     "output_type": "stream",
     "text": [
      "/var/folders/5v/mt404vm51mvcpt_t2j5z7dbm0000gn/T/ipykernel_52628/276985217.py:9: PerformanceWarning: DataFrame is highly fragmented.  This is usually the result of calling `frame.insert` many times, which has poor performance.  Consider joining all columns at once using pd.concat(axis=1) instead. To get a de-fragmented frame, use `newframe = frame.copy()`\n",
      "  df[df_test.index[i]] = similarity.detach().numpy().reshape(-1)\n"
     ]
    },
    {
     "name": "stdout",
     "output_type": "stream",
     "text": [
      "126 of 153 iterantions\n"
     ]
    },
    {
     "name": "stderr",
     "output_type": "stream",
     "text": [
      "/var/folders/5v/mt404vm51mvcpt_t2j5z7dbm0000gn/T/ipykernel_52628/276985217.py:9: PerformanceWarning: DataFrame is highly fragmented.  This is usually the result of calling `frame.insert` many times, which has poor performance.  Consider joining all columns at once using pd.concat(axis=1) instead. To get a de-fragmented frame, use `newframe = frame.copy()`\n",
      "  df[df_test.index[i]] = similarity.detach().numpy().reshape(-1)\n"
     ]
    },
    {
     "name": "stdout",
     "output_type": "stream",
     "text": [
      "127 of 153 iterantions\n"
     ]
    },
    {
     "name": "stderr",
     "output_type": "stream",
     "text": [
      "/var/folders/5v/mt404vm51mvcpt_t2j5z7dbm0000gn/T/ipykernel_52628/276985217.py:9: PerformanceWarning: DataFrame is highly fragmented.  This is usually the result of calling `frame.insert` many times, which has poor performance.  Consider joining all columns at once using pd.concat(axis=1) instead. To get a de-fragmented frame, use `newframe = frame.copy()`\n",
      "  df[df_test.index[i]] = similarity.detach().numpy().reshape(-1)\n"
     ]
    },
    {
     "name": "stdout",
     "output_type": "stream",
     "text": [
      "128 of 153 iterantions\n"
     ]
    },
    {
     "name": "stderr",
     "output_type": "stream",
     "text": [
      "/var/folders/5v/mt404vm51mvcpt_t2j5z7dbm0000gn/T/ipykernel_52628/276985217.py:9: PerformanceWarning: DataFrame is highly fragmented.  This is usually the result of calling `frame.insert` many times, which has poor performance.  Consider joining all columns at once using pd.concat(axis=1) instead. To get a de-fragmented frame, use `newframe = frame.copy()`\n",
      "  df[df_test.index[i]] = similarity.detach().numpy().reshape(-1)\n"
     ]
    },
    {
     "name": "stdout",
     "output_type": "stream",
     "text": [
      "129 of 153 iterantions\n"
     ]
    },
    {
     "name": "stderr",
     "output_type": "stream",
     "text": [
      "/var/folders/5v/mt404vm51mvcpt_t2j5z7dbm0000gn/T/ipykernel_52628/276985217.py:9: PerformanceWarning: DataFrame is highly fragmented.  This is usually the result of calling `frame.insert` many times, which has poor performance.  Consider joining all columns at once using pd.concat(axis=1) instead. To get a de-fragmented frame, use `newframe = frame.copy()`\n",
      "  df[df_test.index[i]] = similarity.detach().numpy().reshape(-1)\n"
     ]
    },
    {
     "name": "stdout",
     "output_type": "stream",
     "text": [
      "130 of 153 iterantions\n"
     ]
    },
    {
     "name": "stderr",
     "output_type": "stream",
     "text": [
      "/var/folders/5v/mt404vm51mvcpt_t2j5z7dbm0000gn/T/ipykernel_52628/276985217.py:9: PerformanceWarning: DataFrame is highly fragmented.  This is usually the result of calling `frame.insert` many times, which has poor performance.  Consider joining all columns at once using pd.concat(axis=1) instead. To get a de-fragmented frame, use `newframe = frame.copy()`\n",
      "  df[df_test.index[i]] = similarity.detach().numpy().reshape(-1)\n"
     ]
    },
    {
     "name": "stdout",
     "output_type": "stream",
     "text": [
      "131 of 153 iterantions\n"
     ]
    },
    {
     "name": "stderr",
     "output_type": "stream",
     "text": [
      "/var/folders/5v/mt404vm51mvcpt_t2j5z7dbm0000gn/T/ipykernel_52628/276985217.py:9: PerformanceWarning: DataFrame is highly fragmented.  This is usually the result of calling `frame.insert` many times, which has poor performance.  Consider joining all columns at once using pd.concat(axis=1) instead. To get a de-fragmented frame, use `newframe = frame.copy()`\n",
      "  df[df_test.index[i]] = similarity.detach().numpy().reshape(-1)\n"
     ]
    },
    {
     "name": "stdout",
     "output_type": "stream",
     "text": [
      "132 of 153 iterantions\n"
     ]
    },
    {
     "name": "stderr",
     "output_type": "stream",
     "text": [
      "/var/folders/5v/mt404vm51mvcpt_t2j5z7dbm0000gn/T/ipykernel_52628/276985217.py:9: PerformanceWarning: DataFrame is highly fragmented.  This is usually the result of calling `frame.insert` many times, which has poor performance.  Consider joining all columns at once using pd.concat(axis=1) instead. To get a de-fragmented frame, use `newframe = frame.copy()`\n",
      "  df[df_test.index[i]] = similarity.detach().numpy().reshape(-1)\n"
     ]
    },
    {
     "name": "stdout",
     "output_type": "stream",
     "text": [
      "133 of 153 iterantions\n"
     ]
    },
    {
     "name": "stderr",
     "output_type": "stream",
     "text": [
      "/var/folders/5v/mt404vm51mvcpt_t2j5z7dbm0000gn/T/ipykernel_52628/276985217.py:9: PerformanceWarning: DataFrame is highly fragmented.  This is usually the result of calling `frame.insert` many times, which has poor performance.  Consider joining all columns at once using pd.concat(axis=1) instead. To get a de-fragmented frame, use `newframe = frame.copy()`\n",
      "  df[df_test.index[i]] = similarity.detach().numpy().reshape(-1)\n"
     ]
    },
    {
     "name": "stdout",
     "output_type": "stream",
     "text": [
      "134 of 153 iterantions\n"
     ]
    },
    {
     "name": "stderr",
     "output_type": "stream",
     "text": [
      "/var/folders/5v/mt404vm51mvcpt_t2j5z7dbm0000gn/T/ipykernel_52628/276985217.py:9: PerformanceWarning: DataFrame is highly fragmented.  This is usually the result of calling `frame.insert` many times, which has poor performance.  Consider joining all columns at once using pd.concat(axis=1) instead. To get a de-fragmented frame, use `newframe = frame.copy()`\n",
      "  df[df_test.index[i]] = similarity.detach().numpy().reshape(-1)\n"
     ]
    },
    {
     "name": "stdout",
     "output_type": "stream",
     "text": [
      "135 of 153 iterantions\n"
     ]
    },
    {
     "name": "stderr",
     "output_type": "stream",
     "text": [
      "/var/folders/5v/mt404vm51mvcpt_t2j5z7dbm0000gn/T/ipykernel_52628/276985217.py:9: PerformanceWarning: DataFrame is highly fragmented.  This is usually the result of calling `frame.insert` many times, which has poor performance.  Consider joining all columns at once using pd.concat(axis=1) instead. To get a de-fragmented frame, use `newframe = frame.copy()`\n",
      "  df[df_test.index[i]] = similarity.detach().numpy().reshape(-1)\n"
     ]
    },
    {
     "name": "stdout",
     "output_type": "stream",
     "text": [
      "136 of 153 iterantions\n"
     ]
    },
    {
     "name": "stderr",
     "output_type": "stream",
     "text": [
      "/var/folders/5v/mt404vm51mvcpt_t2j5z7dbm0000gn/T/ipykernel_52628/276985217.py:9: PerformanceWarning: DataFrame is highly fragmented.  This is usually the result of calling `frame.insert` many times, which has poor performance.  Consider joining all columns at once using pd.concat(axis=1) instead. To get a de-fragmented frame, use `newframe = frame.copy()`\n",
      "  df[df_test.index[i]] = similarity.detach().numpy().reshape(-1)\n"
     ]
    },
    {
     "name": "stdout",
     "output_type": "stream",
     "text": [
      "137 of 153 iterantions\n"
     ]
    },
    {
     "name": "stderr",
     "output_type": "stream",
     "text": [
      "/var/folders/5v/mt404vm51mvcpt_t2j5z7dbm0000gn/T/ipykernel_52628/276985217.py:9: PerformanceWarning: DataFrame is highly fragmented.  This is usually the result of calling `frame.insert` many times, which has poor performance.  Consider joining all columns at once using pd.concat(axis=1) instead. To get a de-fragmented frame, use `newframe = frame.copy()`\n",
      "  df[df_test.index[i]] = similarity.detach().numpy().reshape(-1)\n"
     ]
    },
    {
     "name": "stdout",
     "output_type": "stream",
     "text": [
      "138 of 153 iterantions\n"
     ]
    },
    {
     "name": "stderr",
     "output_type": "stream",
     "text": [
      "/var/folders/5v/mt404vm51mvcpt_t2j5z7dbm0000gn/T/ipykernel_52628/276985217.py:9: PerformanceWarning: DataFrame is highly fragmented.  This is usually the result of calling `frame.insert` many times, which has poor performance.  Consider joining all columns at once using pd.concat(axis=1) instead. To get a de-fragmented frame, use `newframe = frame.copy()`\n",
      "  df[df_test.index[i]] = similarity.detach().numpy().reshape(-1)\n"
     ]
    },
    {
     "name": "stdout",
     "output_type": "stream",
     "text": [
      "139 of 153 iterantions\n"
     ]
    },
    {
     "name": "stderr",
     "output_type": "stream",
     "text": [
      "/var/folders/5v/mt404vm51mvcpt_t2j5z7dbm0000gn/T/ipykernel_52628/276985217.py:9: PerformanceWarning: DataFrame is highly fragmented.  This is usually the result of calling `frame.insert` many times, which has poor performance.  Consider joining all columns at once using pd.concat(axis=1) instead. To get a de-fragmented frame, use `newframe = frame.copy()`\n",
      "  df[df_test.index[i]] = similarity.detach().numpy().reshape(-1)\n"
     ]
    },
    {
     "name": "stdout",
     "output_type": "stream",
     "text": [
      "140 of 153 iterantions\n"
     ]
    },
    {
     "name": "stderr",
     "output_type": "stream",
     "text": [
      "/var/folders/5v/mt404vm51mvcpt_t2j5z7dbm0000gn/T/ipykernel_52628/276985217.py:9: PerformanceWarning: DataFrame is highly fragmented.  This is usually the result of calling `frame.insert` many times, which has poor performance.  Consider joining all columns at once using pd.concat(axis=1) instead. To get a de-fragmented frame, use `newframe = frame.copy()`\n",
      "  df[df_test.index[i]] = similarity.detach().numpy().reshape(-1)\n"
     ]
    },
    {
     "name": "stdout",
     "output_type": "stream",
     "text": [
      "141 of 153 iterantions\n"
     ]
    },
    {
     "name": "stderr",
     "output_type": "stream",
     "text": [
      "/var/folders/5v/mt404vm51mvcpt_t2j5z7dbm0000gn/T/ipykernel_52628/276985217.py:9: PerformanceWarning: DataFrame is highly fragmented.  This is usually the result of calling `frame.insert` many times, which has poor performance.  Consider joining all columns at once using pd.concat(axis=1) instead. To get a de-fragmented frame, use `newframe = frame.copy()`\n",
      "  df[df_test.index[i]] = similarity.detach().numpy().reshape(-1)\n"
     ]
    },
    {
     "name": "stdout",
     "output_type": "stream",
     "text": [
      "142 of 153 iterantions\n"
     ]
    },
    {
     "name": "stderr",
     "output_type": "stream",
     "text": [
      "/var/folders/5v/mt404vm51mvcpt_t2j5z7dbm0000gn/T/ipykernel_52628/276985217.py:9: PerformanceWarning: DataFrame is highly fragmented.  This is usually the result of calling `frame.insert` many times, which has poor performance.  Consider joining all columns at once using pd.concat(axis=1) instead. To get a de-fragmented frame, use `newframe = frame.copy()`\n",
      "  df[df_test.index[i]] = similarity.detach().numpy().reshape(-1)\n"
     ]
    },
    {
     "name": "stdout",
     "output_type": "stream",
     "text": [
      "143 of 153 iterantions\n"
     ]
    },
    {
     "name": "stderr",
     "output_type": "stream",
     "text": [
      "/var/folders/5v/mt404vm51mvcpt_t2j5z7dbm0000gn/T/ipykernel_52628/276985217.py:9: PerformanceWarning: DataFrame is highly fragmented.  This is usually the result of calling `frame.insert` many times, which has poor performance.  Consider joining all columns at once using pd.concat(axis=1) instead. To get a de-fragmented frame, use `newframe = frame.copy()`\n",
      "  df[df_test.index[i]] = similarity.detach().numpy().reshape(-1)\n"
     ]
    },
    {
     "name": "stdout",
     "output_type": "stream",
     "text": [
      "144 of 153 iterantions\n"
     ]
    },
    {
     "name": "stderr",
     "output_type": "stream",
     "text": [
      "/var/folders/5v/mt404vm51mvcpt_t2j5z7dbm0000gn/T/ipykernel_52628/276985217.py:9: PerformanceWarning: DataFrame is highly fragmented.  This is usually the result of calling `frame.insert` many times, which has poor performance.  Consider joining all columns at once using pd.concat(axis=1) instead. To get a de-fragmented frame, use `newframe = frame.copy()`\n",
      "  df[df_test.index[i]] = similarity.detach().numpy().reshape(-1)\n"
     ]
    },
    {
     "name": "stdout",
     "output_type": "stream",
     "text": [
      "145 of 153 iterantions\n"
     ]
    },
    {
     "name": "stderr",
     "output_type": "stream",
     "text": [
      "/var/folders/5v/mt404vm51mvcpt_t2j5z7dbm0000gn/T/ipykernel_52628/276985217.py:9: PerformanceWarning: DataFrame is highly fragmented.  This is usually the result of calling `frame.insert` many times, which has poor performance.  Consider joining all columns at once using pd.concat(axis=1) instead. To get a de-fragmented frame, use `newframe = frame.copy()`\n",
      "  df[df_test.index[i]] = similarity.detach().numpy().reshape(-1)\n"
     ]
    },
    {
     "name": "stdout",
     "output_type": "stream",
     "text": [
      "146 of 153 iterantions\n"
     ]
    },
    {
     "name": "stderr",
     "output_type": "stream",
     "text": [
      "/var/folders/5v/mt404vm51mvcpt_t2j5z7dbm0000gn/T/ipykernel_52628/276985217.py:9: PerformanceWarning: DataFrame is highly fragmented.  This is usually the result of calling `frame.insert` many times, which has poor performance.  Consider joining all columns at once using pd.concat(axis=1) instead. To get a de-fragmented frame, use `newframe = frame.copy()`\n",
      "  df[df_test.index[i]] = similarity.detach().numpy().reshape(-1)\n"
     ]
    },
    {
     "name": "stdout",
     "output_type": "stream",
     "text": [
      "147 of 153 iterantions\n"
     ]
    },
    {
     "name": "stderr",
     "output_type": "stream",
     "text": [
      "/var/folders/5v/mt404vm51mvcpt_t2j5z7dbm0000gn/T/ipykernel_52628/276985217.py:9: PerformanceWarning: DataFrame is highly fragmented.  This is usually the result of calling `frame.insert` many times, which has poor performance.  Consider joining all columns at once using pd.concat(axis=1) instead. To get a de-fragmented frame, use `newframe = frame.copy()`\n",
      "  df[df_test.index[i]] = similarity.detach().numpy().reshape(-1)\n"
     ]
    },
    {
     "name": "stdout",
     "output_type": "stream",
     "text": [
      "148 of 153 iterantions\n"
     ]
    },
    {
     "name": "stderr",
     "output_type": "stream",
     "text": [
      "/var/folders/5v/mt404vm51mvcpt_t2j5z7dbm0000gn/T/ipykernel_52628/276985217.py:9: PerformanceWarning: DataFrame is highly fragmented.  This is usually the result of calling `frame.insert` many times, which has poor performance.  Consider joining all columns at once using pd.concat(axis=1) instead. To get a de-fragmented frame, use `newframe = frame.copy()`\n",
      "  df[df_test.index[i]] = similarity.detach().numpy().reshape(-1)\n"
     ]
    },
    {
     "name": "stdout",
     "output_type": "stream",
     "text": [
      "149 of 153 iterantions\n"
     ]
    },
    {
     "name": "stderr",
     "output_type": "stream",
     "text": [
      "/var/folders/5v/mt404vm51mvcpt_t2j5z7dbm0000gn/T/ipykernel_52628/276985217.py:9: PerformanceWarning: DataFrame is highly fragmented.  This is usually the result of calling `frame.insert` many times, which has poor performance.  Consider joining all columns at once using pd.concat(axis=1) instead. To get a de-fragmented frame, use `newframe = frame.copy()`\n",
      "  df[df_test.index[i]] = similarity.detach().numpy().reshape(-1)\n"
     ]
    },
    {
     "name": "stdout",
     "output_type": "stream",
     "text": [
      "150 of 153 iterantions\n"
     ]
    },
    {
     "name": "stderr",
     "output_type": "stream",
     "text": [
      "/var/folders/5v/mt404vm51mvcpt_t2j5z7dbm0000gn/T/ipykernel_52628/276985217.py:9: PerformanceWarning: DataFrame is highly fragmented.  This is usually the result of calling `frame.insert` many times, which has poor performance.  Consider joining all columns at once using pd.concat(axis=1) instead. To get a de-fragmented frame, use `newframe = frame.copy()`\n",
      "  df[df_test.index[i]] = similarity.detach().numpy().reshape(-1)\n"
     ]
    },
    {
     "name": "stdout",
     "output_type": "stream",
     "text": [
      "151 of 153 iterantions\n"
     ]
    },
    {
     "name": "stderr",
     "output_type": "stream",
     "text": [
      "/var/folders/5v/mt404vm51mvcpt_t2j5z7dbm0000gn/T/ipykernel_52628/276985217.py:9: PerformanceWarning: DataFrame is highly fragmented.  This is usually the result of calling `frame.insert` many times, which has poor performance.  Consider joining all columns at once using pd.concat(axis=1) instead. To get a de-fragmented frame, use `newframe = frame.copy()`\n",
      "  df[df_test.index[i]] = similarity.detach().numpy().reshape(-1)\n"
     ]
    },
    {
     "name": "stdout",
     "output_type": "stream",
     "text": [
      "152 of 153 iterantions\n"
     ]
    },
    {
     "name": "stderr",
     "output_type": "stream",
     "text": [
      "/var/folders/5v/mt404vm51mvcpt_t2j5z7dbm0000gn/T/ipykernel_52628/276985217.py:9: PerformanceWarning: DataFrame is highly fragmented.  This is usually the result of calling `frame.insert` many times, which has poor performance.  Consider joining all columns at once using pd.concat(axis=1) instead. To get a de-fragmented frame, use `newframe = frame.copy()`\n",
      "  df[df_test.index[i]] = similarity.detach().numpy().reshape(-1)\n"
     ]
    }
   ],
   "source": [
    "cos = nn.CosineSimilarity(dim=1, eps=1e-6)\n",
    "tot = enc_ts.shape[0]\n",
    "dv_sim = []\n",
    "dv_sim_ = []\n",
    "df = pd.Series(np.array(eviden.index)).reset_index(name='id').drop(['index'], axis=1)\n",
    "for i in range(tot):\n",
    "    print(f'{i} of {tot} iterantions')\n",
    "    similarity = cos(torch.from_numpy(enc_ev), torch.from_numpy(enc_ts[i]))\n",
    "    df[df_test.index[i]] = similarity.detach().numpy().reshape(-1)"
   ]
  },
  {
   "cell_type": "code",
   "execution_count": 107,
   "metadata": {},
   "outputs": [],
   "source": [
    "df.to_csv('../data/SBERT_2/ts_sim.csv')"
   ]
  },
  {
   "cell_type": "code",
   "execution_count": 157,
   "metadata": {},
   "outputs": [],
   "source": [
    "pr_ev = []\n",
    "for claim in df_test.index:\n",
    "    ds = df.set_index('id').loc[:, [claim]] \n",
    "    ds = ds[ds[claim] >= 0.995]\n",
    "    pr_ev.append(list(ds.index))\n",
    "df_test['evidences'] = pr_ev"
   ]
  },
  {
   "cell_type": "code",
   "execution_count": 158,
   "metadata": {},
   "outputs": [
    {
     "data": {
      "text/plain": [
       "14"
      ]
     },
     "execution_count": 158,
     "metadata": {},
     "output_type": "execute_result"
    }
   ],
   "source": [
    "len([i for i in df_test.evidences if len(i) == 0])"
   ]
  },
  {
   "cell_type": "code",
   "execution_count": 159,
   "metadata": {},
   "outputs": [
    {
     "data": {
      "text/plain": [
       "8660.086330935252"
      ]
     },
     "execution_count": 159,
     "metadata": {},
     "output_type": "execute_result"
    }
   ],
   "source": [
    "np.mean([len(i) for i in df_test.evidences if len(i) != 0])"
   ]
  },
  {
   "cell_type": "code",
   "execution_count": 160,
   "metadata": {},
   "outputs": [],
   "source": [
    "df_test.to_json('evidence_test_2.json')"
   ]
  },
  {
   "cell_type": "code",
   "execution_count": 29,
   "metadata": {},
   "outputs": [],
   "source": [
    "df_test = pd.read_csv('../data/SBERT_2/ts_sim.csv').iloc[:,1:].set_index('id')"
   ]
  },
  {
   "cell_type": "code",
   "execution_count": 30,
   "metadata": {},
   "outputs": [
    {
     "data": {
      "text/html": [
       "<div>\n",
       "<style scoped>\n",
       "    .dataframe tbody tr th:only-of-type {\n",
       "        vertical-align: middle;\n",
       "    }\n",
       "\n",
       "    .dataframe tbody tr th {\n",
       "        vertical-align: top;\n",
       "    }\n",
       "\n",
       "    .dataframe thead th {\n",
       "        text-align: right;\n",
       "    }\n",
       "</style>\n",
       "<table border=\"1\" class=\"dataframe\">\n",
       "  <thead>\n",
       "    <tr style=\"text-align: right;\">\n",
       "      <th></th>\n",
       "      <th>claim-2967</th>\n",
       "      <th>claim-979</th>\n",
       "      <th>claim-1609</th>\n",
       "      <th>claim-1020</th>\n",
       "      <th>claim-2599</th>\n",
       "      <th>claim-2110</th>\n",
       "      <th>claim-1135</th>\n",
       "      <th>claim-712</th>\n",
       "      <th>claim-1307</th>\n",
       "      <th>claim-148</th>\n",
       "      <th>...</th>\n",
       "      <th>claim-2561</th>\n",
       "      <th>claim-2219</th>\n",
       "      <th>claim-1343</th>\n",
       "      <th>claim-1351</th>\n",
       "      <th>claim-2347</th>\n",
       "      <th>claim-293</th>\n",
       "      <th>claim-910</th>\n",
       "      <th>claim-2815</th>\n",
       "      <th>claim-1652</th>\n",
       "      <th>claim-1212</th>\n",
       "    </tr>\n",
       "    <tr>\n",
       "      <th>id</th>\n",
       "      <th></th>\n",
       "      <th></th>\n",
       "      <th></th>\n",
       "      <th></th>\n",
       "      <th></th>\n",
       "      <th></th>\n",
       "      <th></th>\n",
       "      <th></th>\n",
       "      <th></th>\n",
       "      <th></th>\n",
       "      <th></th>\n",
       "      <th></th>\n",
       "      <th></th>\n",
       "      <th></th>\n",
       "      <th></th>\n",
       "      <th></th>\n",
       "      <th></th>\n",
       "      <th></th>\n",
       "      <th></th>\n",
       "      <th></th>\n",
       "      <th></th>\n",
       "    </tr>\n",
       "  </thead>\n",
       "  <tbody>\n",
       "    <tr>\n",
       "      <th>evidence-0</th>\n",
       "      <td>0.627613</td>\n",
       "      <td>0.870339</td>\n",
       "      <td>0.736251</td>\n",
       "      <td>0.628028</td>\n",
       "      <td>0.884439</td>\n",
       "      <td>0.668709</td>\n",
       "      <td>0.736667</td>\n",
       "      <td>0.788236</td>\n",
       "      <td>0.637734</td>\n",
       "      <td>0.599794</td>\n",
       "      <td>...</td>\n",
       "      <td>0.768385</td>\n",
       "      <td>0.827245</td>\n",
       "      <td>0.855369</td>\n",
       "      <td>0.667875</td>\n",
       "      <td>0.024875</td>\n",
       "      <td>0.785118</td>\n",
       "      <td>0.252920</td>\n",
       "      <td>0.709134</td>\n",
       "      <td>0.720328</td>\n",
       "      <td>0.680781</td>\n",
       "    </tr>\n",
       "    <tr>\n",
       "      <th>evidence-1</th>\n",
       "      <td>-0.979156</td>\n",
       "      <td>-0.625295</td>\n",
       "      <td>-0.984467</td>\n",
       "      <td>-0.976793</td>\n",
       "      <td>-0.937164</td>\n",
       "      <td>-0.979159</td>\n",
       "      <td>-0.968642</td>\n",
       "      <td>-0.978169</td>\n",
       "      <td>-0.979338</td>\n",
       "      <td>-0.963999</td>\n",
       "      <td>...</td>\n",
       "      <td>-0.978920</td>\n",
       "      <td>-0.968684</td>\n",
       "      <td>-0.961576</td>\n",
       "      <td>-0.985291</td>\n",
       "      <td>0.649674</td>\n",
       "      <td>-0.399847</td>\n",
       "      <td>-0.732764</td>\n",
       "      <td>-0.986949</td>\n",
       "      <td>-0.983885</td>\n",
       "      <td>-0.915609</td>\n",
       "    </tr>\n",
       "    <tr>\n",
       "      <th>evidence-2</th>\n",
       "      <td>-0.970851</td>\n",
       "      <td>-0.581031</td>\n",
       "      <td>-0.965902</td>\n",
       "      <td>-0.959851</td>\n",
       "      <td>-0.888265</td>\n",
       "      <td>-0.964258</td>\n",
       "      <td>-0.934971</td>\n",
       "      <td>-0.948048</td>\n",
       "      <td>-0.972144</td>\n",
       "      <td>-0.955690</td>\n",
       "      <td>...</td>\n",
       "      <td>-0.957254</td>\n",
       "      <td>-0.906711</td>\n",
       "      <td>-0.922067</td>\n",
       "      <td>-0.973098</td>\n",
       "      <td>0.668876</td>\n",
       "      <td>-0.291831</td>\n",
       "      <td>-0.746744</td>\n",
       "      <td>-0.973211</td>\n",
       "      <td>-0.953172</td>\n",
       "      <td>-0.843352</td>\n",
       "    </tr>\n",
       "    <tr>\n",
       "      <th>evidence-3</th>\n",
       "      <td>0.782212</td>\n",
       "      <td>0.153580</td>\n",
       "      <td>0.697970</td>\n",
       "      <td>0.782112</td>\n",
       "      <td>0.475721</td>\n",
       "      <td>0.757965</td>\n",
       "      <td>0.668966</td>\n",
       "      <td>0.629872</td>\n",
       "      <td>0.775938</td>\n",
       "      <td>0.805014</td>\n",
       "      <td>...</td>\n",
       "      <td>0.654646</td>\n",
       "      <td>0.544315</td>\n",
       "      <td>0.541965</td>\n",
       "      <td>0.749331</td>\n",
       "      <td>-0.844320</td>\n",
       "      <td>-0.144016</td>\n",
       "      <td>0.952427</td>\n",
       "      <td>0.715619</td>\n",
       "      <td>0.710700</td>\n",
       "      <td>0.630063</td>\n",
       "    </tr>\n",
       "    <tr>\n",
       "      <th>evidence-4</th>\n",
       "      <td>-0.911325</td>\n",
       "      <td>-0.363495</td>\n",
       "      <td>-0.873828</td>\n",
       "      <td>-0.920916</td>\n",
       "      <td>-0.750688</td>\n",
       "      <td>-0.896463</td>\n",
       "      <td>-0.868862</td>\n",
       "      <td>-0.847735</td>\n",
       "      <td>-0.905284</td>\n",
       "      <td>-0.897899</td>\n",
       "      <td>...</td>\n",
       "      <td>-0.851997</td>\n",
       "      <td>-0.836273</td>\n",
       "      <td>-0.795675</td>\n",
       "      <td>-0.898676</td>\n",
       "      <td>0.854420</td>\n",
       "      <td>-0.231800</td>\n",
       "      <td>-0.784340</td>\n",
       "      <td>-0.881280</td>\n",
       "      <td>-0.892323</td>\n",
       "      <td>-0.847939</td>\n",
       "    </tr>\n",
       "    <tr>\n",
       "      <th>...</th>\n",
       "      <td>...</td>\n",
       "      <td>...</td>\n",
       "      <td>...</td>\n",
       "      <td>...</td>\n",
       "      <td>...</td>\n",
       "      <td>...</td>\n",
       "      <td>...</td>\n",
       "      <td>...</td>\n",
       "      <td>...</td>\n",
       "      <td>...</td>\n",
       "      <td>...</td>\n",
       "      <td>...</td>\n",
       "      <td>...</td>\n",
       "      <td>...</td>\n",
       "      <td>...</td>\n",
       "      <td>...</td>\n",
       "      <td>...</td>\n",
       "      <td>...</td>\n",
       "      <td>...</td>\n",
       "      <td>...</td>\n",
       "      <td>...</td>\n",
       "    </tr>\n",
       "    <tr>\n",
       "      <th>evidence-1208822</th>\n",
       "      <td>0.672442</td>\n",
       "      <td>0.920382</td>\n",
       "      <td>0.775576</td>\n",
       "      <td>0.677335</td>\n",
       "      <td>0.908907</td>\n",
       "      <td>0.709960</td>\n",
       "      <td>0.793357</td>\n",
       "      <td>0.829109</td>\n",
       "      <td>0.682674</td>\n",
       "      <td>0.648750</td>\n",
       "      <td>...</td>\n",
       "      <td>0.809186</td>\n",
       "      <td>0.862704</td>\n",
       "      <td>0.881917</td>\n",
       "      <td>0.710640</td>\n",
       "      <td>-0.067323</td>\n",
       "      <td>0.858315</td>\n",
       "      <td>0.297407</td>\n",
       "      <td>0.748968</td>\n",
       "      <td>0.755943</td>\n",
       "      <td>0.679915</td>\n",
       "    </tr>\n",
       "    <tr>\n",
       "      <th>evidence-1208823</th>\n",
       "      <td>-0.987012</td>\n",
       "      <td>-0.547793</td>\n",
       "      <td>-0.966987</td>\n",
       "      <td>-0.983601</td>\n",
       "      <td>-0.866985</td>\n",
       "      <td>-0.975248</td>\n",
       "      <td>-0.957053</td>\n",
       "      <td>-0.945702</td>\n",
       "      <td>-0.986289</td>\n",
       "      <td>-0.980811</td>\n",
       "      <td>...</td>\n",
       "      <td>-0.952335</td>\n",
       "      <td>-0.910678</td>\n",
       "      <td>-0.903923</td>\n",
       "      <td>-0.983841</td>\n",
       "      <td>0.758720</td>\n",
       "      <td>-0.289553</td>\n",
       "      <td>-0.805030</td>\n",
       "      <td>-0.976520</td>\n",
       "      <td>-0.964673</td>\n",
       "      <td>-0.873172</td>\n",
       "    </tr>\n",
       "    <tr>\n",
       "      <th>evidence-1208824</th>\n",
       "      <td>-0.976687</td>\n",
       "      <td>-0.481828</td>\n",
       "      <td>-0.947936</td>\n",
       "      <td>-0.975959</td>\n",
       "      <td>-0.834902</td>\n",
       "      <td>-0.965791</td>\n",
       "      <td>-0.927909</td>\n",
       "      <td>-0.922348</td>\n",
       "      <td>-0.974013</td>\n",
       "      <td>-0.964196</td>\n",
       "      <td>...</td>\n",
       "      <td>-0.932068</td>\n",
       "      <td>-0.881242</td>\n",
       "      <td>-0.876113</td>\n",
       "      <td>-0.968149</td>\n",
       "      <td>0.822677</td>\n",
       "      <td>-0.247034</td>\n",
       "      <td>-0.821967</td>\n",
       "      <td>-0.956847</td>\n",
       "      <td>-0.952249</td>\n",
       "      <td>-0.864703</td>\n",
       "    </tr>\n",
       "    <tr>\n",
       "      <th>evidence-1208825</th>\n",
       "      <td>-0.706379</td>\n",
       "      <td>0.053487</td>\n",
       "      <td>-0.609980</td>\n",
       "      <td>-0.702441</td>\n",
       "      <td>-0.377479</td>\n",
       "      <td>-0.670369</td>\n",
       "      <td>-0.590672</td>\n",
       "      <td>-0.537291</td>\n",
       "      <td>-0.699202</td>\n",
       "      <td>-0.711648</td>\n",
       "      <td>...</td>\n",
       "      <td>-0.558113</td>\n",
       "      <td>-0.465572</td>\n",
       "      <td>-0.448564</td>\n",
       "      <td>-0.672181</td>\n",
       "      <td>0.887958</td>\n",
       "      <td>0.315041</td>\n",
       "      <td>-0.786915</td>\n",
       "      <td>-0.634498</td>\n",
       "      <td>-0.624338</td>\n",
       "      <td>-0.617991</td>\n",
       "    </tr>\n",
       "    <tr>\n",
       "      <th>evidence-1208826</th>\n",
       "      <td>0.254968</td>\n",
       "      <td>0.680324</td>\n",
       "      <td>0.371105</td>\n",
       "      <td>0.284116</td>\n",
       "      <td>0.543550</td>\n",
       "      <td>0.301215</td>\n",
       "      <td>0.426656</td>\n",
       "      <td>0.440485</td>\n",
       "      <td>0.262483</td>\n",
       "      <td>0.233470</td>\n",
       "      <td>...</td>\n",
       "      <td>0.408379</td>\n",
       "      <td>0.528058</td>\n",
       "      <td>0.505143</td>\n",
       "      <td>0.291390</td>\n",
       "      <td>0.190004</td>\n",
       "      <td>0.897080</td>\n",
       "      <td>0.003061</td>\n",
       "      <td>0.330022</td>\n",
       "      <td>0.371848</td>\n",
       "      <td>0.369735</td>\n",
       "    </tr>\n",
       "  </tbody>\n",
       "</table>\n",
       "<p>1208827 rows × 153 columns</p>\n",
       "</div>"
      ],
      "text/plain": [
       "                  claim-2967  claim-979  claim-1609  claim-1020  claim-2599  \\\n",
       "id                                                                            \n",
       "evidence-0          0.627613   0.870339    0.736251    0.628028    0.884439   \n",
       "evidence-1         -0.979156  -0.625295   -0.984467   -0.976793   -0.937164   \n",
       "evidence-2         -0.970851  -0.581031   -0.965902   -0.959851   -0.888265   \n",
       "evidence-3          0.782212   0.153580    0.697970    0.782112    0.475721   \n",
       "evidence-4         -0.911325  -0.363495   -0.873828   -0.920916   -0.750688   \n",
       "...                      ...        ...         ...         ...         ...   \n",
       "evidence-1208822    0.672442   0.920382    0.775576    0.677335    0.908907   \n",
       "evidence-1208823   -0.987012  -0.547793   -0.966987   -0.983601   -0.866985   \n",
       "evidence-1208824   -0.976687  -0.481828   -0.947936   -0.975959   -0.834902   \n",
       "evidence-1208825   -0.706379   0.053487   -0.609980   -0.702441   -0.377479   \n",
       "evidence-1208826    0.254968   0.680324    0.371105    0.284116    0.543550   \n",
       "\n",
       "                  claim-2110  claim-1135  claim-712  claim-1307  claim-148  \\\n",
       "id                                                                           \n",
       "evidence-0          0.668709    0.736667   0.788236    0.637734   0.599794   \n",
       "evidence-1         -0.979159   -0.968642  -0.978169   -0.979338  -0.963999   \n",
       "evidence-2         -0.964258   -0.934971  -0.948048   -0.972144  -0.955690   \n",
       "evidence-3          0.757965    0.668966   0.629872    0.775938   0.805014   \n",
       "evidence-4         -0.896463   -0.868862  -0.847735   -0.905284  -0.897899   \n",
       "...                      ...         ...        ...         ...        ...   \n",
       "evidence-1208822    0.709960    0.793357   0.829109    0.682674   0.648750   \n",
       "evidence-1208823   -0.975248   -0.957053  -0.945702   -0.986289  -0.980811   \n",
       "evidence-1208824   -0.965791   -0.927909  -0.922348   -0.974013  -0.964196   \n",
       "evidence-1208825   -0.670369   -0.590672  -0.537291   -0.699202  -0.711648   \n",
       "evidence-1208826    0.301215    0.426656   0.440485    0.262483   0.233470   \n",
       "\n",
       "                  ...  claim-2561  claim-2219  claim-1343  claim-1351  \\\n",
       "id                ...                                                   \n",
       "evidence-0        ...    0.768385    0.827245    0.855369    0.667875   \n",
       "evidence-1        ...   -0.978920   -0.968684   -0.961576   -0.985291   \n",
       "evidence-2        ...   -0.957254   -0.906711   -0.922067   -0.973098   \n",
       "evidence-3        ...    0.654646    0.544315    0.541965    0.749331   \n",
       "evidence-4        ...   -0.851997   -0.836273   -0.795675   -0.898676   \n",
       "...               ...         ...         ...         ...         ...   \n",
       "evidence-1208822  ...    0.809186    0.862704    0.881917    0.710640   \n",
       "evidence-1208823  ...   -0.952335   -0.910678   -0.903923   -0.983841   \n",
       "evidence-1208824  ...   -0.932068   -0.881242   -0.876113   -0.968149   \n",
       "evidence-1208825  ...   -0.558113   -0.465572   -0.448564   -0.672181   \n",
       "evidence-1208826  ...    0.408379    0.528058    0.505143    0.291390   \n",
       "\n",
       "                  claim-2347  claim-293  claim-910  claim-2815  claim-1652  \\\n",
       "id                                                                           \n",
       "evidence-0          0.024875   0.785118   0.252920    0.709134    0.720328   \n",
       "evidence-1          0.649674  -0.399847  -0.732764   -0.986949   -0.983885   \n",
       "evidence-2          0.668876  -0.291831  -0.746744   -0.973211   -0.953172   \n",
       "evidence-3         -0.844320  -0.144016   0.952427    0.715619    0.710700   \n",
       "evidence-4          0.854420  -0.231800  -0.784340   -0.881280   -0.892323   \n",
       "...                      ...        ...        ...         ...         ...   \n",
       "evidence-1208822   -0.067323   0.858315   0.297407    0.748968    0.755943   \n",
       "evidence-1208823    0.758720  -0.289553  -0.805030   -0.976520   -0.964673   \n",
       "evidence-1208824    0.822677  -0.247034  -0.821967   -0.956847   -0.952249   \n",
       "evidence-1208825    0.887958   0.315041  -0.786915   -0.634498   -0.624338   \n",
       "evidence-1208826    0.190004   0.897080   0.003061    0.330022    0.371848   \n",
       "\n",
       "                  claim-1212  \n",
       "id                            \n",
       "evidence-0          0.680781  \n",
       "evidence-1         -0.915609  \n",
       "evidence-2         -0.843352  \n",
       "evidence-3          0.630063  \n",
       "evidence-4         -0.847939  \n",
       "...                      ...  \n",
       "evidence-1208822    0.679915  \n",
       "evidence-1208823   -0.873172  \n",
       "evidence-1208824   -0.864703  \n",
       "evidence-1208825   -0.617991  \n",
       "evidence-1208826    0.369735  \n",
       "\n",
       "[1208827 rows x 153 columns]"
      ]
     },
     "execution_count": 30,
     "metadata": {},
     "output_type": "execute_result"
    }
   ],
   "source": [
    "df_test"
   ]
  },
  {
   "cell_type": "code",
   "execution_count": 34,
   "metadata": {},
   "outputs": [
    {
     "data": {
      "text/plain": [
       "153"
      ]
     },
     "execution_count": 34,
     "metadata": {},
     "output_type": "execute_result"
    }
   ],
   "source": [
    "df_test.shape[1]"
   ]
  },
  {
   "cell_type": "code",
   "execution_count": 39,
   "metadata": {},
   "outputs": [
    {
     "data": {
      "text/plain": [
       "Index(['claim-2967', 'claim-979', 'claim-1609', 'claim-1020', 'claim-2599',\n",
       "       'claim-2110', 'claim-1135', 'claim-712', 'claim-1307', 'claim-148',\n",
       "       ...\n",
       "       'claim-2561', 'claim-2219', 'claim-1343', 'claim-1351', 'claim-2347',\n",
       "       'claim-293', 'claim-910', 'claim-2815', 'claim-1652', 'claim-1212'],\n",
       "      dtype='object', length=153)"
      ]
     },
     "execution_count": 39,
     "metadata": {},
     "output_type": "execute_result"
    }
   ],
   "source": [
    "df_test.columns"
   ]
  },
  {
   "cell_type": "code",
   "execution_count": 58,
   "metadata": {},
   "outputs": [
    {
     "data": {
      "text/plain": [
       "[['evidence-621274',\n",
       "  'evidence-2614',\n",
       "  'evidence-391445',\n",
       "  'evidence-735206',\n",
       "  'evidence-790963'],\n",
       " ['evidence-745671',\n",
       "  'evidence-871283',\n",
       "  'evidence-192245',\n",
       "  'evidence-549805',\n",
       "  'evidence-1119167'],\n",
       " ['evidence-668284',\n",
       "  'evidence-401954',\n",
       "  'evidence-801543',\n",
       "  'evidence-50234',\n",
       "  'evidence-74172'],\n",
       " ['evidence-935347',\n",
       "  'evidence-933850',\n",
       "  'evidence-761412',\n",
       "  'evidence-481774',\n",
       "  'evidence-494254'],\n",
       " ['evidence-490587',\n",
       "  'evidence-988166',\n",
       "  'evidence-528044',\n",
       "  'evidence-85242',\n",
       "  'evidence-1138254'],\n",
       " ['evidence-1035172',\n",
       "  'evidence-907307',\n",
       "  'evidence-959125',\n",
       "  'evidence-829913',\n",
       "  'evidence-18304'],\n",
       " ['evidence-1155224',\n",
       "  'evidence-447483',\n",
       "  'evidence-1060547',\n",
       "  'evidence-1198124',\n",
       "  'evidence-586540'],\n",
       " ['evidence-242575',\n",
       "  'evidence-1001742',\n",
       "  'evidence-395937',\n",
       "  'evidence-293503',\n",
       "  'evidence-641060'],\n",
       " ['evidence-228006',\n",
       "  'evidence-1068590',\n",
       "  'evidence-908051',\n",
       "  'evidence-33636',\n",
       "  'evidence-541555'],\n",
       " ['evidence-1156443',\n",
       "  'evidence-1116299',\n",
       "  'evidence-475975',\n",
       "  'evidence-257735',\n",
       "  'evidence-434372'],\n",
       " ['evidence-1046135',\n",
       "  'evidence-195216',\n",
       "  'evidence-714232',\n",
       "  'evidence-297524',\n",
       "  'evidence-950238'],\n",
       " ['evidence-737544',\n",
       "  'evidence-326722',\n",
       "  'evidence-276697',\n",
       "  'evidence-300957',\n",
       "  'evidence-1087151'],\n",
       " ['evidence-1165029',\n",
       "  'evidence-200881',\n",
       "  'evidence-961035',\n",
       "  'evidence-253244',\n",
       "  'evidence-49800'],\n",
       " ['evidence-1168036',\n",
       "  'evidence-649240',\n",
       "  'evidence-1111876',\n",
       "  'evidence-861490',\n",
       "  'evidence-366450'],\n",
       " ['evidence-286254',\n",
       "  'evidence-172951',\n",
       "  'evidence-880254',\n",
       "  'evidence-598368',\n",
       "  'evidence-776091'],\n",
       " ['evidence-36508',\n",
       "  'evidence-1131715',\n",
       "  'evidence-589261',\n",
       "  'evidence-521648',\n",
       "  'evidence-9145'],\n",
       " ['evidence-607214',\n",
       "  'evidence-754982',\n",
       "  'evidence-588629',\n",
       "  'evidence-291007',\n",
       "  'evidence-707649'],\n",
       " ['evidence-518734',\n",
       "  'evidence-518662',\n",
       "  'evidence-215129',\n",
       "  'evidence-901598',\n",
       "  'evidence-591483'],\n",
       " ['evidence-476665',\n",
       "  'evidence-1012275',\n",
       "  'evidence-1056888',\n",
       "  'evidence-577698',\n",
       "  'evidence-225356'],\n",
       " ['evidence-677529',\n",
       "  'evidence-890810',\n",
       "  'evidence-709401',\n",
       "  'evidence-522835',\n",
       "  'evidence-176861'],\n",
       " ['evidence-987088',\n",
       "  'evidence-431510',\n",
       "  'evidence-775820',\n",
       "  'evidence-785365',\n",
       "  'evidence-1065679'],\n",
       " ['evidence-806671',\n",
       "  'evidence-1026654',\n",
       "  'evidence-532876',\n",
       "  'evidence-863475',\n",
       "  'evidence-639402'],\n",
       " ['evidence-407459',\n",
       "  'evidence-33982',\n",
       "  'evidence-422964',\n",
       "  'evidence-233125',\n",
       "  'evidence-225934'],\n",
       " ['evidence-79772',\n",
       "  'evidence-991908',\n",
       "  'evidence-173383',\n",
       "  'evidence-695604',\n",
       "  'evidence-743311'],\n",
       " ['evidence-450197',\n",
       "  'evidence-470057',\n",
       "  'evidence-578285',\n",
       "  'evidence-249308',\n",
       "  'evidence-906931'],\n",
       " ['evidence-280375',\n",
       "  'evidence-69673',\n",
       "  'evidence-562155',\n",
       "  'evidence-482761',\n",
       "  'evidence-1009687'],\n",
       " ['evidence-293935',\n",
       "  'evidence-993875',\n",
       "  'evidence-1188431',\n",
       "  'evidence-320991',\n",
       "  'evidence-420672'],\n",
       " ['evidence-1040612',\n",
       "  'evidence-443636',\n",
       "  'evidence-660972',\n",
       "  'evidence-984636',\n",
       "  'evidence-419031'],\n",
       " ['evidence-564968',\n",
       "  'evidence-1127057',\n",
       "  'evidence-743249',\n",
       "  'evidence-343348',\n",
       "  'evidence-1202460'],\n",
       " ['evidence-305270',\n",
       "  'evidence-755754',\n",
       "  'evidence-239617',\n",
       "  'evidence-698309',\n",
       "  'evidence-1076835'],\n",
       " ['evidence-43970',\n",
       "  'evidence-698843',\n",
       "  'evidence-803897',\n",
       "  'evidence-1006150',\n",
       "  'evidence-412685'],\n",
       " ['evidence-429694',\n",
       "  'evidence-1184583',\n",
       "  'evidence-530201',\n",
       "  'evidence-891959',\n",
       "  'evidence-140540'],\n",
       " ['evidence-953997',\n",
       "  'evidence-316086',\n",
       "  'evidence-269919',\n",
       "  'evidence-219708',\n",
       "  'evidence-928328'],\n",
       " ['evidence-1093354',\n",
       "  'evidence-447134',\n",
       "  'evidence-956408',\n",
       "  'evidence-1138767',\n",
       "  'evidence-1139415'],\n",
       " ['evidence-1011044',\n",
       "  'evidence-706866',\n",
       "  'evidence-188210',\n",
       "  'evidence-480185',\n",
       "  'evidence-939368'],\n",
       " ['evidence-758101',\n",
       "  'evidence-642970',\n",
       "  'evidence-793211',\n",
       "  'evidence-1032979',\n",
       "  'evidence-23038'],\n",
       " ['evidence-874622',\n",
       "  'evidence-973130',\n",
       "  'evidence-11363',\n",
       "  'evidence-250783',\n",
       "  'evidence-816864'],\n",
       " ['evidence-1091781',\n",
       "  'evidence-153228',\n",
       "  'evidence-498622',\n",
       "  'evidence-806753',\n",
       "  'evidence-1159499'],\n",
       " ['evidence-296909',\n",
       "  'evidence-928233',\n",
       "  'evidence-73371',\n",
       "  'evidence-334703',\n",
       "  'evidence-577291'],\n",
       " ['evidence-1019600',\n",
       "  'evidence-51582',\n",
       "  'evidence-877881',\n",
       "  'evidence-1099184',\n",
       "  'evidence-340647'],\n",
       " ['evidence-536511',\n",
       "  'evidence-312377',\n",
       "  'evidence-372833',\n",
       "  'evidence-1071350',\n",
       "  'evidence-1123157'],\n",
       " ['evidence-518734',\n",
       "  'evidence-518662',\n",
       "  'evidence-215129',\n",
       "  'evidence-901598',\n",
       "  'evidence-591483'],\n",
       " ['evidence-1086456',\n",
       "  'evidence-310531',\n",
       "  'evidence-737836',\n",
       "  'evidence-287738',\n",
       "  'evidence-758213'],\n",
       " ['evidence-942857',\n",
       "  'evidence-239606',\n",
       "  'evidence-1070026',\n",
       "  'evidence-174034',\n",
       "  'evidence-788740'],\n",
       " ['evidence-299739',\n",
       "  'evidence-1151373',\n",
       "  'evidence-167467',\n",
       "  'evidence-268504',\n",
       "  'evidence-199493'],\n",
       " ['evidence-859614',\n",
       "  'evidence-329101',\n",
       "  'evidence-1038776',\n",
       "  'evidence-655508',\n",
       "  'evidence-611506'],\n",
       " ['evidence-1040905',\n",
       "  'evidence-1049928',\n",
       "  'evidence-1184350',\n",
       "  'evidence-270394',\n",
       "  'evidence-291886'],\n",
       " ['evidence-428672',\n",
       "  'evidence-1103579',\n",
       "  'evidence-214534',\n",
       "  'evidence-984234',\n",
       "  'evidence-511418'],\n",
       " ['evidence-29755',\n",
       "  'evidence-868651',\n",
       "  'evidence-786305',\n",
       "  'evidence-402846',\n",
       "  'evidence-461522'],\n",
       " ['evidence-540839',\n",
       "  'evidence-662913',\n",
       "  'evidence-336545',\n",
       "  'evidence-1135439',\n",
       "  'evidence-43083'],\n",
       " ['evidence-1041494',\n",
       "  'evidence-587761',\n",
       "  'evidence-658611',\n",
       "  'evidence-1063113',\n",
       "  'evidence-118537'],\n",
       " ['evidence-517928',\n",
       "  'evidence-223172',\n",
       "  'evidence-145828',\n",
       "  'evidence-1069889',\n",
       "  'evidence-402691'],\n",
       " ['evidence-24687',\n",
       "  'evidence-169051',\n",
       "  'evidence-220586',\n",
       "  'evidence-22788',\n",
       "  'evidence-297466'],\n",
       " ['evidence-855634',\n",
       "  'evidence-374377',\n",
       "  'evidence-289908',\n",
       "  'evidence-723676',\n",
       "  'evidence-1081799'],\n",
       " ['evidence-639914',\n",
       "  'evidence-212354',\n",
       "  'evidence-218170',\n",
       "  'evidence-1014075',\n",
       "  'evidence-948697'],\n",
       " ['evidence-1182250',\n",
       "  'evidence-373855',\n",
       "  'evidence-396628',\n",
       "  'evidence-1084695',\n",
       "  'evidence-887892'],\n",
       " ['evidence-60815',\n",
       "  'evidence-846192',\n",
       "  'evidence-162231',\n",
       "  'evidence-1023489',\n",
       "  'evidence-130662'],\n",
       " ['evidence-1066164',\n",
       "  'evidence-620404',\n",
       "  'evidence-499481',\n",
       "  'evidence-612844',\n",
       "  'evidence-13761'],\n",
       " ['evidence-384274',\n",
       "  'evidence-594005',\n",
       "  'evidence-458959',\n",
       "  'evidence-1122793',\n",
       "  'evidence-1110832'],\n",
       " ['evidence-61978',\n",
       "  'evidence-513641',\n",
       "  'evidence-136852',\n",
       "  'evidence-382216',\n",
       "  'evidence-192338'],\n",
       " ['evidence-131016',\n",
       "  'evidence-113048',\n",
       "  'evidence-1098143',\n",
       "  'evidence-630989',\n",
       "  'evidence-21651'],\n",
       " ['evidence-1056791',\n",
       "  'evidence-1113370',\n",
       "  'evidence-375787',\n",
       "  'evidence-654139',\n",
       "  'evidence-1110513'],\n",
       " ['evidence-175757',\n",
       "  'evidence-734044',\n",
       "  'evidence-572108',\n",
       "  'evidence-923676',\n",
       "  'evidence-38628'],\n",
       " ['evidence-1020920',\n",
       "  'evidence-722800',\n",
       "  'evidence-945495',\n",
       "  'evidence-756206',\n",
       "  'evidence-385750'],\n",
       " ['evidence-753057',\n",
       "  'evidence-457222',\n",
       "  'evidence-726320',\n",
       "  'evidence-502398',\n",
       "  'evidence-964793'],\n",
       " ['evidence-500716',\n",
       "  'evidence-667861',\n",
       "  'evidence-443214',\n",
       "  'evidence-773063',\n",
       "  'evidence-844048'],\n",
       " ['evidence-624771',\n",
       "  'evidence-477857',\n",
       "  'evidence-883543',\n",
       "  'evidence-497968',\n",
       "  'evidence-843626'],\n",
       " ['evidence-484122',\n",
       "  'evidence-597084',\n",
       "  'evidence-1105554',\n",
       "  'evidence-92107',\n",
       "  'evidence-882924'],\n",
       " ['evidence-1135599',\n",
       "  'evidence-742425',\n",
       "  'evidence-880315',\n",
       "  'evidence-459618',\n",
       "  'evidence-1197139'],\n",
       " ['evidence-235043',\n",
       "  'evidence-1191580',\n",
       "  'evidence-264017',\n",
       "  'evidence-521666',\n",
       "  'evidence-972320'],\n",
       " ['evidence-540292',\n",
       "  'evidence-391839',\n",
       "  'evidence-409332',\n",
       "  'evidence-8063',\n",
       "  'evidence-973130'],\n",
       " ['evidence-810653',\n",
       "  'evidence-380227',\n",
       "  'evidence-137385',\n",
       "  'evidence-1198673',\n",
       "  'evidence-899078'],\n",
       " ['evidence-656493',\n",
       "  'evidence-183790',\n",
       "  'evidence-919384',\n",
       "  'evidence-872829',\n",
       "  'evidence-799984'],\n",
       " ['evidence-1035716',\n",
       "  'evidence-1093172',\n",
       "  'evidence-856106',\n",
       "  'evidence-79952',\n",
       "  'evidence-509972'],\n",
       " ['evidence-220754',\n",
       "  'evidence-35432',\n",
       "  'evidence-1158606',\n",
       "  'evidence-1018299',\n",
       "  'evidence-7760'],\n",
       " ['evidence-917435',\n",
       "  'evidence-705706',\n",
       "  'evidence-1017598',\n",
       "  'evidence-47598',\n",
       "  'evidence-1163873'],\n",
       " ['evidence-188110',\n",
       "  'evidence-964861',\n",
       "  'evidence-894521',\n",
       "  'evidence-1127398',\n",
       "  'evidence-829785'],\n",
       " ['evidence-102085',\n",
       "  'evidence-549356',\n",
       "  'evidence-837942',\n",
       "  'evidence-387020',\n",
       "  'evidence-716576'],\n",
       " ['evidence-1051336',\n",
       "  'evidence-1014002',\n",
       "  'evidence-541401',\n",
       "  'evidence-899193',\n",
       "  'evidence-768621'],\n",
       " ['evidence-453229',\n",
       "  'evidence-518008',\n",
       "  'evidence-1119806',\n",
       "  'evidence-591130',\n",
       "  'evidence-1103899'],\n",
       " ['evidence-1031123',\n",
       "  'evidence-693983',\n",
       "  'evidence-1054751',\n",
       "  'evidence-551956',\n",
       "  'evidence-62496'],\n",
       " ['evidence-1092463',\n",
       "  'evidence-307967',\n",
       "  'evidence-365320',\n",
       "  'evidence-223887',\n",
       "  'evidence-445289'],\n",
       " ['evidence-942611',\n",
       "  'evidence-412239',\n",
       "  'evidence-768284',\n",
       "  'evidence-1183942',\n",
       "  'evidence-8016'],\n",
       " ['evidence-1153221',\n",
       "  'evidence-503200',\n",
       "  'evidence-244964',\n",
       "  'evidence-689723',\n",
       "  'evidence-1048246'],\n",
       " ['evidence-1084600',\n",
       "  'evidence-41533',\n",
       "  'evidence-332601',\n",
       "  'evidence-278964',\n",
       "  'evidence-691068'],\n",
       " ['evidence-1047395',\n",
       "  'evidence-505500',\n",
       "  'evidence-1202023',\n",
       "  'evidence-127619',\n",
       "  'evidence-231546'],\n",
       " ['evidence-322188',\n",
       "  'evidence-314878',\n",
       "  'evidence-1175478',\n",
       "  'evidence-406755',\n",
       "  'evidence-30008'],\n",
       " ['evidence-561136',\n",
       "  'evidence-308328',\n",
       "  'evidence-540667',\n",
       "  'evidence-809116',\n",
       "  'evidence-444709'],\n",
       " ['evidence-1042611',\n",
       "  'evidence-1006052',\n",
       "  'evidence-198990',\n",
       "  'evidence-817524',\n",
       "  'evidence-845419'],\n",
       " ['evidence-1099184',\n",
       "  'evidence-996517',\n",
       "  'evidence-62286',\n",
       "  'evidence-324979',\n",
       "  'evidence-1144991'],\n",
       " ['evidence-689951',\n",
       "  'evidence-160292',\n",
       "  'evidence-366511',\n",
       "  'evidence-491938',\n",
       "  'evidence-592757'],\n",
       " ['evidence-1201529',\n",
       "  'evidence-1000789',\n",
       "  'evidence-22191',\n",
       "  'evidence-108449',\n",
       "  'evidence-753011'],\n",
       " ['evidence-331287',\n",
       "  'evidence-421137',\n",
       "  'evidence-282748',\n",
       "  'evidence-226540',\n",
       "  'evidence-1803'],\n",
       " ['evidence-203394',\n",
       "  'evidence-240237',\n",
       "  'evidence-867091',\n",
       "  'evidence-681600',\n",
       "  'evidence-485534'],\n",
       " ['evidence-604597',\n",
       "  'evidence-477424',\n",
       "  'evidence-780478',\n",
       "  'evidence-634699',\n",
       "  'evidence-518907'],\n",
       " ['evidence-392641',\n",
       "  'evidence-38334',\n",
       "  'evidence-881517',\n",
       "  'evidence-302505',\n",
       "  'evidence-401121'],\n",
       " ['evidence-892537',\n",
       "  'evidence-1092560',\n",
       "  'evidence-370544',\n",
       "  'evidence-413461',\n",
       "  'evidence-344145'],\n",
       " ['evidence-255240',\n",
       "  'evidence-241498',\n",
       "  'evidence-846635',\n",
       "  'evidence-1194725',\n",
       "  'evidence-691017'],\n",
       " ['evidence-257137',\n",
       "  'evidence-1047307',\n",
       "  'evidence-150277',\n",
       "  'evidence-856896',\n",
       "  'evidence-794724'],\n",
       " ['evidence-433622',\n",
       "  'evidence-280452',\n",
       "  'evidence-280954',\n",
       "  'evidence-771006',\n",
       "  'evidence-445558'],\n",
       " ['evidence-100264',\n",
       "  'evidence-1008015',\n",
       "  'evidence-798215',\n",
       "  'evidence-549722',\n",
       "  'evidence-178920'],\n",
       " ['evidence-847096',\n",
       "  'evidence-324610',\n",
       "  'evidence-85809',\n",
       "  'evidence-32078',\n",
       "  'evidence-309327'],\n",
       " ['evidence-329253',\n",
       "  'evidence-202569',\n",
       "  'evidence-60252',\n",
       "  'evidence-1025463',\n",
       "  'evidence-170596'],\n",
       " ['evidence-1175280',\n",
       "  'evidence-675693',\n",
       "  'evidence-359101',\n",
       "  'evidence-677627',\n",
       "  'evidence-423643'],\n",
       " ['evidence-1163002',\n",
       "  'evidence-147843',\n",
       "  'evidence-248560',\n",
       "  'evidence-926732',\n",
       "  'evidence-139564'],\n",
       " ['evidence-635281',\n",
       "  'evidence-1138974',\n",
       "  'evidence-1025792',\n",
       "  'evidence-719602',\n",
       "  'evidence-980655'],\n",
       " ['evidence-507074',\n",
       "  'evidence-678063',\n",
       "  'evidence-771006',\n",
       "  'evidence-540896',\n",
       "  'evidence-1115403'],\n",
       " ['evidence-597084',\n",
       "  'evidence-920882',\n",
       "  'evidence-768984',\n",
       "  'evidence-56196',\n",
       "  'evidence-1095288'],\n",
       " ['evidence-814790',\n",
       "  'evidence-1008839',\n",
       "  'evidence-931093',\n",
       "  'evidence-1099922',\n",
       "  'evidence-95782'],\n",
       " ['evidence-475975',\n",
       "  'evidence-67949',\n",
       "  'evidence-365357',\n",
       "  'evidence-1066236',\n",
       "  'evidence-697140'],\n",
       " ['evidence-855683',\n",
       "  'evidence-684641',\n",
       "  'evidence-1134905',\n",
       "  'evidence-432878',\n",
       "  'evidence-12763'],\n",
       " ['evidence-686100',\n",
       "  'evidence-1141747',\n",
       "  'evidence-1152662',\n",
       "  'evidence-93951',\n",
       "  'evidence-244827'],\n",
       " ['evidence-821999',\n",
       "  'evidence-1155131',\n",
       "  'evidence-109565',\n",
       "  'evidence-762586',\n",
       "  'evidence-367988'],\n",
       " ['evidence-463341',\n",
       "  'evidence-187781',\n",
       "  'evidence-1142571',\n",
       "  'evidence-296160',\n",
       "  'evidence-541919'],\n",
       " ['evidence-249342',\n",
       "  'evidence-1023486',\n",
       "  'evidence-514530',\n",
       "  'evidence-355987',\n",
       "  'evidence-258826'],\n",
       " ['evidence-835142',\n",
       "  'evidence-355221',\n",
       "  'evidence-247852',\n",
       "  'evidence-133139',\n",
       "  'evidence-1009422'],\n",
       " ['evidence-1023466',\n",
       "  'evidence-115631',\n",
       "  'evidence-1183942',\n",
       "  'evidence-978133',\n",
       "  'evidence-460253'],\n",
       " ['evidence-1184120',\n",
       "  'evidence-752115',\n",
       "  'evidence-757378',\n",
       "  'evidence-813817',\n",
       "  'evidence-68942'],\n",
       " ['evidence-429536',\n",
       "  'evidence-936060',\n",
       "  'evidence-164516',\n",
       "  'evidence-332737',\n",
       "  'evidence-882646'],\n",
       " ['evidence-392964',\n",
       "  'evidence-970011',\n",
       "  'evidence-758254',\n",
       "  'evidence-481566',\n",
       "  'evidence-97646'],\n",
       " ['evidence-926107',\n",
       "  'evidence-15429',\n",
       "  'evidence-520308',\n",
       "  'evidence-111881',\n",
       "  'evidence-66438'],\n",
       " ['evidence-1143397',\n",
       "  'evidence-250420',\n",
       "  'evidence-270085',\n",
       "  'evidence-595170',\n",
       "  'evidence-604437'],\n",
       " ['evidence-1117597',\n",
       "  'evidence-829999',\n",
       "  'evidence-126835',\n",
       "  'evidence-586588',\n",
       "  'evidence-111080'],\n",
       " ['evidence-64214',\n",
       "  'evidence-908603',\n",
       "  'evidence-732747',\n",
       "  'evidence-136588',\n",
       "  'evidence-384115'],\n",
       " ['evidence-1163499',\n",
       "  'evidence-786383',\n",
       "  'evidence-314464',\n",
       "  'evidence-1114286',\n",
       "  'evidence-1094357'],\n",
       " ['evidence-277195',\n",
       "  'evidence-162969',\n",
       "  'evidence-1066182',\n",
       "  'evidence-952733',\n",
       "  'evidence-883548'],\n",
       " ['evidence-534304',\n",
       "  'evidence-685091',\n",
       "  'evidence-459287',\n",
       "  'evidence-664023',\n",
       "  'evidence-1001780'],\n",
       " ['evidence-107506',\n",
       "  'evidence-806753',\n",
       "  'evidence-216461',\n",
       "  'evidence-302339',\n",
       "  'evidence-173323'],\n",
       " ['evidence-968599',\n",
       "  'evidence-717806',\n",
       "  'evidence-874950',\n",
       "  'evidence-753507',\n",
       "  'evidence-1031822'],\n",
       " ['evidence-286254',\n",
       "  'evidence-172951',\n",
       "  'evidence-776091',\n",
       "  'evidence-598368',\n",
       "  'evidence-1207337'],\n",
       " ['evidence-198963',\n",
       "  'evidence-513057',\n",
       "  'evidence-669520',\n",
       "  'evidence-120972',\n",
       "  'evidence-509467'],\n",
       " ['evidence-141833',\n",
       "  'evidence-1170729',\n",
       "  'evidence-337932',\n",
       "  'evidence-458281',\n",
       "  'evidence-341905'],\n",
       " ['evidence-220586',\n",
       "  'evidence-22788',\n",
       "  'evidence-169051',\n",
       "  'evidence-24687',\n",
       "  'evidence-297466'],\n",
       " ['evidence-245847',\n",
       "  'evidence-1039123',\n",
       "  'evidence-603375',\n",
       "  'evidence-47501',\n",
       "  'evidence-961646'],\n",
       " ['evidence-455406',\n",
       "  'evidence-657026',\n",
       "  'evidence-909747',\n",
       "  'evidence-954785',\n",
       "  'evidence-152327'],\n",
       " ['evidence-953004',\n",
       "  'evidence-437694',\n",
       "  'evidence-269808',\n",
       "  'evidence-823554',\n",
       "  'evidence-708432'],\n",
       " ['evidence-1188771',\n",
       "  'evidence-384458',\n",
       "  'evidence-689521',\n",
       "  'evidence-314903',\n",
       "  'evidence-828297'],\n",
       " ['evidence-256947',\n",
       "  'evidence-885560',\n",
       "  'evidence-631663',\n",
       "  'evidence-949060',\n",
       "  'evidence-355497'],\n",
       " ['evidence-1014177',\n",
       "  'evidence-413909',\n",
       "  'evidence-873986',\n",
       "  'evidence-712098',\n",
       "  'evidence-991198'],\n",
       " ['evidence-383274',\n",
       "  'evidence-487317',\n",
       "  'evidence-293073',\n",
       "  'evidence-600314',\n",
       "  'evidence-222070'],\n",
       " ['evidence-959171',\n",
       "  'evidence-1039969',\n",
       "  'evidence-141679',\n",
       "  'evidence-641889',\n",
       "  'evidence-1174422'],\n",
       " ['evidence-715250',\n",
       "  'evidence-369192',\n",
       "  'evidence-512497',\n",
       "  'evidence-787921',\n",
       "  'evidence-655484'],\n",
       " ['evidence-1166291',\n",
       "  'evidence-919905',\n",
       "  'evidence-813800',\n",
       "  'evidence-733916',\n",
       "  'evidence-964627'],\n",
       " ['evidence-1205416',\n",
       "  'evidence-276290',\n",
       "  'evidence-256064',\n",
       "  'evidence-371897',\n",
       "  'evidence-209902'],\n",
       " ['evidence-888559',\n",
       "  'evidence-457411',\n",
       "  'evidence-76888',\n",
       "  'evidence-493289',\n",
       "  'evidence-198464'],\n",
       " ['evidence-205577',\n",
       "  'evidence-210381',\n",
       "  'evidence-1010907',\n",
       "  'evidence-331115',\n",
       "  'evidence-988323'],\n",
       " ['evidence-735048',\n",
       "  'evidence-663998',\n",
       "  'evidence-557203',\n",
       "  'evidence-305033',\n",
       "  'evidence-425764'],\n",
       " ['evidence-474080',\n",
       "  'evidence-727479',\n",
       "  'evidence-1194408',\n",
       "  'evidence-84669',\n",
       "  'evidence-1035920'],\n",
       " ['evidence-706442',\n",
       "  'evidence-1056825',\n",
       "  'evidence-1182919',\n",
       "  'evidence-1141778',\n",
       "  'evidence-60152'],\n",
       " ['evidence-878699',\n",
       "  'evidence-773868',\n",
       "  'evidence-706339',\n",
       "  'evidence-1074949',\n",
       "  'evidence-635616'],\n",
       " ['evidence-185218',\n",
       "  'evidence-531856',\n",
       "  'evidence-108394',\n",
       "  'evidence-412540',\n",
       "  'evidence-491579'],\n",
       " ['evidence-159430',\n",
       "  'evidence-874144',\n",
       "  'evidence-182285',\n",
       "  'evidence-32852',\n",
       "  'evidence-870092'],\n",
       " ['evidence-361320',\n",
       "  'evidence-444706',\n",
       "  'evidence-1203187',\n",
       "  'evidence-201524',\n",
       "  'evidence-640474']]"
      ]
     },
     "execution_count": 58,
     "metadata": {},
     "output_type": "execute_result"
    }
   ],
   "source": [
    "sim = []\n",
    "for i in df_test.columns:\n",
    "    sim.append(df_test.loc[:,[i]].sort_values(i, ascending=False)[:5].index.values.tolist())\n",
    "sim"
   ]
  },
  {
   "cell_type": "code",
   "execution_count": 78,
   "metadata": {},
   "outputs": [],
   "source": [
    "import random\n",
    "# Read test claims\n",
    "with open('../data/test-claims-unlabelled.json', 'r') as f:\n",
    "    df_test = pd.DataFrame(json.load(f)).transpose()\n",
    "unq = df_dev['claim_label'].unique()\n",
    "df_test['claim_label'] = [random.choice(unq) for i in range(df_test.shape[0])]\n",
    "df_test['evidences'] = sim"
   ]
  },
  {
   "cell_type": "code",
   "execution_count": 110,
   "metadata": {},
   "outputs": [],
   "source": [
    "ts_dct = df_test.to_dict(orient='index')\n",
    "with open('../Models/Test files/test-output.json', 'w') as f:\n",
    "    json.dump(ts_dct, f)"
   ]
  },
  {
   "cell_type": "code",
   "execution_count": 108,
   "metadata": {},
   "outputs": [
    {
     "data": {
      "text/plain": [
       "{'claim-2967': {'claim_text': 'The contribution of waste heat to the global climate is 0.028 W/m2.',\n",
       "  'claim_label': 'REFUTES',\n",
       "  'evidences': ['evidence-621274',\n",
       "   'evidence-2614',\n",
       "   'evidence-391445',\n",
       "   'evidence-735206',\n",
       "   'evidence-790963']},\n",
       " 'claim-979': {'claim_text': '“Warm weather worsened the most recent five-year drought, which included the driest four-year period on record in terms of statewide precipitation.',\n",
       "  'claim_label': 'REFUTES',\n",
       "  'evidences': ['evidence-745671',\n",
       "   'evidence-871283',\n",
       "   'evidence-192245',\n",
       "   'evidence-549805',\n",
       "   'evidence-1119167']},\n",
       " 'claim-1609': {'claim_text': 'Greenland has only lost a tiny fraction of its ice mass.',\n",
       "  'claim_label': 'DISPUTED',\n",
       "  'evidences': ['evidence-668284',\n",
       "   'evidence-401954',\n",
       "   'evidence-801543',\n",
       "   'evidence-50234',\n",
       "   'evidence-74172']},\n",
       " 'claim-1020': {'claim_text': '“The global reef crisis does not necessarily mean extinction for coral species.',\n",
       "  'claim_label': 'REFUTES',\n",
       "  'evidences': ['evidence-935347',\n",
       "   'evidence-933850',\n",
       "   'evidence-761412',\n",
       "   'evidence-481774',\n",
       "   'evidence-494254']},\n",
       " 'claim-2599': {'claim_text': 'Small amounts of very active substances can cause large effects.',\n",
       "  'claim_label': 'NOT_ENOUGH_INFO',\n",
       "  'evidences': ['evidence-490587',\n",
       "   'evidence-988166',\n",
       "   'evidence-528044',\n",
       "   'evidence-85242',\n",
       "   'evidence-1138254']},\n",
       " 'claim-2110': {'claim_text': \"They changed the name from 'global warming' to 'climate change'\",\n",
       "  'claim_label': 'REFUTES',\n",
       "  'evidences': ['evidence-1035172',\n",
       "   'evidence-907307',\n",
       "   'evidence-959125',\n",
       "   'evidence-829913',\n",
       "   'evidence-18304']},\n",
       " 'claim-1135': {'claim_text': 'Scientists confirm a mass bleaching event on the Great Barrier Reef this year has killed more corals than ever before, with more than two thirds destroyed across large swathes of the biodiverse site.',\n",
       "  'claim_label': 'DISPUTED',\n",
       "  'evidences': ['evidence-1155224',\n",
       "   'evidence-447483',\n",
       "   'evidence-1060547',\n",
       "   'evidence-1198124',\n",
       "   'evidence-586540']},\n",
       " 'claim-712': {'claim_text': '“Instead of a three-foot increase in ocean levels by the end of the century, six feet was more likely, according to DeConto and Pollard’s findings.',\n",
       "  'claim_label': 'DISPUTED',\n",
       "  'evidences': ['evidence-242575',\n",
       "   'evidence-1001742',\n",
       "   'evidence-395937',\n",
       "   'evidence-293503',\n",
       "   'evidence-641060']},\n",
       " 'claim-1307': {'claim_text': 'a new study by scientists at the Australian Research Council finds that the ongoing bleaching event is mainly due to human-caused global warming, and that if global warming proceeds as currently expected, “large parts” of the Great Barrier Reef could die by the mid-2030s.',\n",
       "  'claim_label': 'REFUTES',\n",
       "  'evidences': ['evidence-228006',\n",
       "   'evidence-1068590',\n",
       "   'evidence-908051',\n",
       "   'evidence-33636',\n",
       "   'evidence-541555']},\n",
       " 'claim-148': {'claim_text': 'Previous IPCC reports tended to assume that clouds would have a neutral impact because the warming and cooling feedbacks would cancel each other out.',\n",
       "  'claim_label': 'DISPUTED',\n",
       "  'evidences': ['evidence-1156443',\n",
       "   'evidence-1116299',\n",
       "   'evidence-475975',\n",
       "   'evidence-257735',\n",
       "   'evidence-434372']},\n",
       " 'claim-903': {'claim_text': 'Growers regularly pump CO2 into greenhouses, raising levels to three times that of the natural environment, to produce stronger, greener, healthier plants.”',\n",
       "  'claim_label': 'REFUTES',\n",
       "  'evidences': ['evidence-1046135',\n",
       "   'evidence-195216',\n",
       "   'evidence-714232',\n",
       "   'evidence-297524',\n",
       "   'evidence-950238']},\n",
       " 'claim-2942': {'claim_text': 'It’s usually taken to be the fact that as carbon dioxide concentrations in the atmosphere increase, the 1 per cent of CO2 that’s the heavier carbon isotope ratio c13 declines in proportion.',\n",
       "  'claim_label': 'NOT_ENOUGH_INFO',\n",
       "  'evidences': ['evidence-737544',\n",
       "   'evidence-326722',\n",
       "   'evidence-276697',\n",
       "   'evidence-300957',\n",
       "   'evidence-1087151']},\n",
       " 'claim-1001': {'claim_text': '‘This study goes beyond statistical correlations and explores a specific process that can plausibly explain how enhanced high-latitude warming trends may trigger remote weather impacts,’ he said.',\n",
       "  'claim_label': 'REFUTES',\n",
       "  'evidences': ['evidence-1165029',\n",
       "   'evidence-200881',\n",
       "   'evidence-961035',\n",
       "   'evidence-253244',\n",
       "   'evidence-49800']},\n",
       " 'claim-1034': {'claim_text': 'Your odds of correctly guessing the outcome of a flipped coin are 1 in 2, but your odds of guessing correctly twice in a row are only 1 in 4 —',\n",
       "  'claim_label': 'DISPUTED',\n",
       "  'evidences': ['evidence-1168036',\n",
       "   'evidence-649240',\n",
       "   'evidence-1111876',\n",
       "   'evidence-861490',\n",
       "   'evidence-366450']},\n",
       " 'claim-1009': {'claim_text': '‘Arctic ice conditions have been tracking at record low conditions since October, persisting for six consecutive months’',\n",
       "  'claim_label': 'SUPPORTS',\n",
       "  'evidences': ['evidence-286254',\n",
       "   'evidence-172951',\n",
       "   'evidence-880254',\n",
       "   'evidence-598368',\n",
       "   'evidence-776091']},\n",
       " 'claim-770': {'claim_text': '[CO2] has increased 43 percent above the pre-industrial level so far',\n",
       "  'claim_label': 'REFUTES',\n",
       "  'evidences': ['evidence-36508',\n",
       "   'evidence-1131715',\n",
       "   'evidence-589261',\n",
       "   'evidence-521648',\n",
       "   'evidence-9145']},\n",
       " 'claim-3074': {'claim_text': 'Fourth Assessment Report (AR4), in which the likely range is given as 2.0°C to 4.5°C, with a best estimate of 3.0°C\" (Pat Michaels)',\n",
       "  'claim_label': 'NOT_ENOUGH_INFO',\n",
       "  'evidences': ['evidence-607214',\n",
       "   'evidence-754982',\n",
       "   'evidence-588629',\n",
       "   'evidence-291007',\n",
       "   'evidence-707649']},\n",
       " 'claim-1761': {'claim_text': 'Multiple lines of evidence make it very clear that the rise in atmospheric CO2 is due to human emissions.',\n",
       "  'claim_label': 'NOT_ENOUGH_INFO',\n",
       "  'evidences': ['evidence-518734',\n",
       "   'evidence-518662',\n",
       "   'evidence-215129',\n",
       "   'evidence-901598',\n",
       "   'evidence-591483']},\n",
       " 'claim-1475': {'claim_text': \"More than 500 scientists and professionals in climate and related fields have sent a 'European Climate Declaration' to the Secretary-General of the United Nations.\",\n",
       "  'claim_label': 'REFUTES',\n",
       "  'evidences': ['evidence-476665',\n",
       "   'evidence-1012275',\n",
       "   'evidence-1056888',\n",
       "   'evidence-577698',\n",
       "   'evidence-225356']},\n",
       " 'claim-477': {'claim_text': 'Scientists say halting deforestation ‘just as urgent’ as reducing emissions',\n",
       "  'claim_label': 'DISPUTED',\n",
       "  'evidences': ['evidence-677529',\n",
       "   'evidence-890810',\n",
       "   'evidence-709401',\n",
       "   'evidence-522835',\n",
       "   'evidence-176861']},\n",
       " 'claim-1378': {'claim_text': 'Antarctica is gaining land-based ice, according to a new study by NASA scientists published in the Journal of Glaciology',\n",
       "  'claim_label': 'NOT_ENOUGH_INFO',\n",
       "  'evidences': ['evidence-987088',\n",
       "   'evidence-431510',\n",
       "   'evidence-775820',\n",
       "   'evidence-785365',\n",
       "   'evidence-1065679']},\n",
       " 'claim-503': {'claim_text': '“During the sunless winter, a heatwave raised concerns that the polar vortex may be eroding.',\n",
       "  'claim_label': 'DISPUTED',\n",
       "  'evidences': ['evidence-806671',\n",
       "   'evidence-1026654',\n",
       "   'evidence-532876',\n",
       "   'evidence-863475',\n",
       "   'evidence-639402']},\n",
       " 'claim-2751': {'claim_text': 'The argument that solving the global warming problem by reducing human greenhouse gas emissions is \"too hard\" generally stems from the belief that (i) our technology is not sufficiently advanced to achieve significant emissions reductions,',\n",
       "  'claim_label': 'REFUTES',\n",
       "  'evidences': ['evidence-407459',\n",
       "   'evidence-33982',\n",
       "   'evidence-422964',\n",
       "   'evidence-233125',\n",
       "   'evidence-225934']},\n",
       " 'claim-2575': {'claim_text': 'Over the last 30-40 years 80% of coral in the Caribbean have been destroyed and 50% in Indonesia and the Pacific.',\n",
       "  'claim_label': 'DISPUTED',\n",
       "  'evidences': ['evidence-79772',\n",
       "   'evidence-991908',\n",
       "   'evidence-173383',\n",
       "   'evidence-695604',\n",
       "   'evidence-743311']},\n",
       " 'claim-30': {'claim_text': \"the bushfires [in Australia] were caused by arsonists and a series of lightning strikes, not 'climate change'\",\n",
       "  'claim_label': 'DISPUTED',\n",
       "  'evidences': ['evidence-450197',\n",
       "   'evidence-470057',\n",
       "   'evidence-578285',\n",
       "   'evidence-249308',\n",
       "   'evidence-906931']},\n",
       " 'claim-2994': {'claim_text': \"'Mauna Loa has been producing a readout which supports Manning's predetermined goal by showing steady growth in atmospheric CO2 concentrations since 1959.\",\n",
       "  'claim_label': 'SUPPORTS',\n",
       "  'evidences': ['evidence-280375',\n",
       "   'evidence-69673',\n",
       "   'evidence-562155',\n",
       "   'evidence-482761',\n",
       "   'evidence-1009687']},\n",
       " 'claim-55': {'claim_text': '[T]he raw data, the actual thermometer data[...] shows that the US has been cooling for 80 to 90 years.',\n",
       "  'claim_label': 'DISPUTED',\n",
       "  'evidences': ['evidence-293935',\n",
       "   'evidence-993875',\n",
       "   'evidence-1188431',\n",
       "   'evidence-320991',\n",
       "   'evidence-420672']},\n",
       " 'claim-1271': {'claim_text': 'Greenland ice sheet … would balloon sea levels by around 7m should it disintegrate',\n",
       "  'claim_label': 'SUPPORTS',\n",
       "  'evidences': ['evidence-1040612',\n",
       "   'evidence-443636',\n",
       "   'evidence-660972',\n",
       "   'evidence-984636',\n",
       "   'evidence-419031']},\n",
       " 'claim-2248': {'claim_text': 'Climate sensitivity can be calculated empirically by comparing past temperature change to natural forcings at the time.',\n",
       "  'claim_label': 'REFUTES',\n",
       "  'evidences': ['evidence-564968',\n",
       "   'evidence-1127057',\n",
       "   'evidence-743249',\n",
       "   'evidence-343348',\n",
       "   'evidence-1202460']},\n",
       " 'claim-532': {'claim_text': 'Never mind that the emissions of carbon dioxide to make and maintain a wind or solar industrial complex are far greater than they will ever save.',\n",
       "  'claim_label': 'DISPUTED',\n",
       "  'evidences': ['evidence-305270',\n",
       "   'evidence-755754',\n",
       "   'evidence-239617',\n",
       "   'evidence-698309',\n",
       "   'evidence-1076835']},\n",
       " 'claim-556': {'claim_text': 'The April low temperatures here are now about 6 degrees Fahrenheit warmer than they used to be.',\n",
       "  'claim_label': 'NOT_ENOUGH_INFO',\n",
       "  'evidences': ['evidence-43970',\n",
       "   'evidence-698843',\n",
       "   'evidence-803897',\n",
       "   'evidence-1006150',\n",
       "   'evidence-412685']},\n",
       " 'claim-1173': {'claim_text': '[…]until we develop a practical, cost-competitive alternative to fossil fuels, it is unlikely that renewable energy will ever make up more than 15-20% of global energy requirements.',\n",
       "  'claim_label': 'NOT_ENOUGH_INFO',\n",
       "  'evidences': ['evidence-429694',\n",
       "   'evidence-1184583',\n",
       "   'evidence-530201',\n",
       "   'evidence-891959',\n",
       "   'evidence-140540']},\n",
       " 'claim-539': {'claim_text': 'We note that the Earth has never in its history had a quasi-stable state that is around 2C warmer than the preindustrial and suggest that there is substantial risk that the system, itself, will ‘want’ to continue warming because of all of these other processes – even if we stop emissions,” she said.',\n",
       "  'claim_label': 'REFUTES',\n",
       "  'evidences': ['evidence-953997',\n",
       "   'evidence-316086',\n",
       "   'evidence-269919',\n",
       "   'evidence-219708',\n",
       "   'evidence-928328']},\n",
       " 'claim-893': {'claim_text': 'While France and other G7 countries lamented the U.S. exit from the Paris climate accord, America’s air is already cleaner than that of any other country in the G7, except Canada with its scant population.',\n",
       "  'claim_label': 'REFUTES',\n",
       "  'evidences': ['evidence-1093354',\n",
       "   'evidence-447134',\n",
       "   'evidence-956408',\n",
       "   'evidence-1138767',\n",
       "   'evidence-1139415']},\n",
       " 'claim-2857': {'claim_text': 'Weather is chaotic because air is light, it has low friction and viscosity, it expands strongly when in contact with hot surfaces and it conducts heat poorly.',\n",
       "  'claim_label': 'NOT_ENOUGH_INFO',\n",
       "  'evidences': ['evidence-1011044',\n",
       "   'evidence-706866',\n",
       "   'evidence-188210',\n",
       "   'evidence-480185',\n",
       "   'evidence-939368']},\n",
       " 'claim-109': {'claim_text': 'Local and regional sea levels continue to exhibit typical natural variability—in some places rising and in others falling.',\n",
       "  'claim_label': 'NOT_ENOUGH_INFO',\n",
       "  'evidences': ['evidence-758101',\n",
       "   'evidence-642970',\n",
       "   'evidence-793211',\n",
       "   'evidence-1032979',\n",
       "   'evidence-23038']},\n",
       " 'claim-2476': {'claim_text': \"The global dimming trend reversed around 1990 - 15 years after the global warming trend began in the mid 1970's.\",\n",
       "  'claim_label': 'NOT_ENOUGH_INFO',\n",
       "  'evidences': ['evidence-874622',\n",
       "   'evidence-973130',\n",
       "   'evidence-11363',\n",
       "   'evidence-250783',\n",
       "   'evidence-816864']},\n",
       " 'claim-3038': {'claim_text': 'Clearly, other factors besides atmospheric carbon influence earth temperatures and global warming.\"',\n",
       "  'claim_label': 'DISPUTED',\n",
       "  'evidences': ['evidence-1091781',\n",
       "   'evidence-153228',\n",
       "   'evidence-498622',\n",
       "   'evidence-806753',\n",
       "   'evidence-1159499']},\n",
       " 'claim-3127': {'claim_text': '\"Skeptics hope that Postma’s alternative thermal model will lead  to the birth of a new climatology, one that actually follows the laws of  physics and properly physical modeling techniques...',\n",
       "  'claim_label': 'NOT_ENOUGH_INFO',\n",
       "  'evidences': ['evidence-296909',\n",
       "   'evidence-928233',\n",
       "   'evidence-73371',\n",
       "   'evidence-334703',\n",
       "   'evidence-577291']},\n",
       " 'claim-474': {'claim_text': 'Sea ice continued its declining trend, both in the Arctic and Antarctic.',\n",
       "  'claim_label': 'REFUTES',\n",
       "  'evidences': ['evidence-1019600',\n",
       "   'evidence-51582',\n",
       "   'evidence-877881',\n",
       "   'evidence-1099184',\n",
       "   'evidence-340647']},\n",
       " 'claim-2464': {'claim_text': 'While natural forcings can account for much of the early 20th Century warming, humans played a role as well.',\n",
       "  'claim_label': 'REFUTES',\n",
       "  'evidences': ['evidence-536511',\n",
       "   'evidence-312377',\n",
       "   'evidence-372833',\n",
       "   'evidence-1071350',\n",
       "   'evidence-1123157']},\n",
       " 'claim-2427': {'claim_text': 'By that time CO2 emissions had already risen from the expanded use  of coal that had powered the industrial revolution, and emissions only  increased slowly from 3.5gigatonnes in 1910 to under 4gigatonnes by the  end of the Second World War.',\n",
       "  'claim_label': 'DISPUTED',\n",
       "  'evidences': ['evidence-518734',\n",
       "   'evidence-518662',\n",
       "   'evidence-215129',\n",
       "   'evidence-901598',\n",
       "   'evidence-591483']},\n",
       " 'claim-2167': {'claim_text': 'Royal Society embraces skepticism',\n",
       "  'claim_label': 'REFUTES',\n",
       "  'evidences': ['evidence-1086456',\n",
       "   'evidence-310531',\n",
       "   'evidence-737836',\n",
       "   'evidence-287738',\n",
       "   'evidence-758213']},\n",
       " 'claim-812': {'claim_text': 'The human contribution can be up to 30 percent or so of the total rainfall coming out of the storm',\n",
       "  'claim_label': 'NOT_ENOUGH_INFO',\n",
       "  'evidences': ['evidence-942857',\n",
       "   'evidence-239606',\n",
       "   'evidence-1070026',\n",
       "   'evidence-174034',\n",
       "   'evidence-788740']},\n",
       " 'claim-2590': {'claim_text': \"This argument originates from Angstrom's work in 1901.\",\n",
       "  'claim_label': 'REFUTES',\n",
       "  'evidences': ['evidence-299739',\n",
       "   'evidence-1151373',\n",
       "   'evidence-167467',\n",
       "   'evidence-268504',\n",
       "   'evidence-199493']},\n",
       " 'claim-404': {'claim_text': 'Actual weather records over the past 100 years show no correlation between rising carbon dioxide levels and local temperatures.',\n",
       "  'claim_label': 'REFUTES',\n",
       "  'evidences': ['evidence-859614',\n",
       "   'evidence-329101',\n",
       "   'evidence-1038776',\n",
       "   'evidence-655508',\n",
       "   'evidence-611506']},\n",
       " 'claim-2977': {'claim_text': 'According to the study, as carbon levels have risen, the cold air at high altitudes over the tropics has actually grown colder.',\n",
       "  'claim_label': 'DISPUTED',\n",
       "  'evidences': ['evidence-1040905',\n",
       "   'evidence-1049928',\n",
       "   'evidence-1184350',\n",
       "   'evidence-270394',\n",
       "   'evidence-291886']},\n",
       " 'claim-2673': {'claim_text': 'They changed the name from “global warming” to “climate change” after the term global warming just wasn’t working (it was too cold)!',\n",
       "  'claim_label': 'NOT_ENOUGH_INFO',\n",
       "  'evidences': ['evidence-428672',\n",
       "   'evidence-1103579',\n",
       "   'evidence-214534',\n",
       "   'evidence-984234',\n",
       "   'evidence-511418']},\n",
       " 'claim-2509': {'claim_text': 'In 1905, PDO switched to a warm phase.',\n",
       "  'claim_label': 'REFUTES',\n",
       "  'evidences': ['evidence-29755',\n",
       "   'evidence-868651',\n",
       "   'evidence-786305',\n",
       "   'evidence-402846',\n",
       "   'evidence-461522']},\n",
       " 'claim-138': {'claim_text': 'As a result, half of the people surveyed around the world last year said they thought climate change would make humanity extinct.',\n",
       "  'claim_label': 'DISPUTED',\n",
       "  'evidences': ['evidence-540839',\n",
       "   'evidence-662913',\n",
       "   'evidence-336545',\n",
       "   'evidence-1135439',\n",
       "   'evidence-43083']},\n",
       " 'claim-952': {'claim_text': 'The Alaskan tundra is warming so quickly it has become a net emitter of carbon dioxide ahead of schedule, a new study finds',\n",
       "  'claim_label': 'NOT_ENOUGH_INFO',\n",
       "  'evidences': ['evidence-1041494',\n",
       "   'evidence-587761',\n",
       "   'evidence-658611',\n",
       "   'evidence-1063113',\n",
       "   'evidence-118537']},\n",
       " 'claim-1691': {'claim_text': 'Sea level rise is now increasing faster than predicted due to unexpectedly rapid ice melting.',\n",
       "  'claim_label': 'SUPPORTS',\n",
       "  'evidences': ['evidence-517928',\n",
       "   'evidence-223172',\n",
       "   'evidence-145828',\n",
       "   'evidence-1069889',\n",
       "   'evidence-402691']},\n",
       " 'claim-1741': {'claim_text': 'Volcanoes have had no warming effect in recent global warming - if anything, a cooling effect.',\n",
       "  'claim_label': 'REFUTES',\n",
       "  'evidences': ['evidence-24687',\n",
       "   'evidence-169051',\n",
       "   'evidence-220586',\n",
       "   'evidence-22788',\n",
       "   'evidence-297466']},\n",
       " 'claim-1202': {'claim_text': '\\xa0The discrepancy between model-predicted warming and (lower) real-world observations has inspired new respect for natural climate variability relative to greenhouse-gas forcing.\\xa0',\n",
       "  'claim_label': 'SUPPORTS',\n",
       "  'evidences': ['evidence-855634',\n",
       "   'evidence-374377',\n",
       "   'evidence-289908',\n",
       "   'evidence-723676',\n",
       "   'evidence-1081799']},\n",
       " 'claim-1028': {'claim_text': 'A second coat of paint has much less of an effect, while adding a third or fourth coat has almost no impact at all.”',\n",
       "  'claim_label': 'SUPPORTS',\n",
       "  'evidences': ['evidence-639914',\n",
       "   'evidence-212354',\n",
       "   'evidence-218170',\n",
       "   'evidence-1014075',\n",
       "   'evidence-948697']},\n",
       " 'claim-28': {'claim_text': 'Volcanoes Melting West Antarctic Glaciers, Not Global Warming',\n",
       "  'claim_label': 'SUPPORTS',\n",
       "  'evidences': ['evidence-1182250',\n",
       "   'evidence-373855',\n",
       "   'evidence-396628',\n",
       "   'evidence-1084695',\n",
       "   'evidence-887892']},\n",
       " 'claim-275': {'claim_text': 'until temperature increases began to slow down after 1998 and remained relatively stable for a period of 15 years',\n",
       "  'claim_label': 'SUPPORTS',\n",
       "  'evidences': ['evidence-60815',\n",
       "   'evidence-846192',\n",
       "   'evidence-162231',\n",
       "   'evidence-1023489',\n",
       "   'evidence-130662']},\n",
       " 'claim-350': {'claim_text': 'Since 1965, more parts of the U.S. have seen a decrease in flooding than have seen an increase.',\n",
       "  'claim_label': 'REFUTES',\n",
       "  'evidences': ['evidence-1066164',\n",
       "   'evidence-620404',\n",
       "   'evidence-499481',\n",
       "   'evidence-612844',\n",
       "   'evidence-13761']},\n",
       " 'claim-2204': {'claim_text': 'All the indicators show that global warming is still happening.',\n",
       "  'claim_label': 'REFUTES',\n",
       "  'evidences': ['evidence-384274',\n",
       "   'evidence-594005',\n",
       "   'evidence-458959',\n",
       "   'evidence-1122793',\n",
       "   'evidence-1110832']},\n",
       " 'claim-1604': {'claim_text': 'CO2 increase is natural, not human-caused.',\n",
       "  'claim_label': 'SUPPORTS',\n",
       "  'evidences': ['evidence-61978',\n",
       "   'evidence-513641',\n",
       "   'evidence-136852',\n",
       "   'evidence-382216',\n",
       "   'evidence-192338']},\n",
       " 'claim-3119': {'claim_text': 'CO2 constitutes 80% of the non-condensing greenhouse gas forcing.',\n",
       "  'claim_label': 'DISPUTED',\n",
       "  'evidences': ['evidence-131016',\n",
       "   'evidence-113048',\n",
       "   'evidence-1098143',\n",
       "   'evidence-630989',\n",
       "   'evidence-21651']},\n",
       " 'claim-2150': {'claim_text': 'Adapting to global warming is cheaper than preventing it',\n",
       "  'claim_label': 'NOT_ENOUGH_INFO',\n",
       "  'evidences': ['evidence-1056791',\n",
       "   'evidence-1113370',\n",
       "   'evidence-375787',\n",
       "   'evidence-654139',\n",
       "   'evidence-1110513']},\n",
       " 'claim-21': {'claim_text': 'Sea level rise has been slow and a constant, pre-dating industrialization',\n",
       "  'claim_label': 'SUPPORTS',\n",
       "  'evidences': ['evidence-175757',\n",
       "   'evidence-734044',\n",
       "   'evidence-572108',\n",
       "   'evidence-923676',\n",
       "   'evidence-38628']},\n",
       " 'claim-2013': {'claim_text': 'U.S. Sen. Ron Johnson voted to let oil and gas companies emit \"unlimited carbon pollution into our air\"',\n",
       "  'claim_label': 'SUPPORTS',\n",
       "  'evidences': ['evidence-1020920',\n",
       "   'evidence-722800',\n",
       "   'evidence-945495',\n",
       "   'evidence-756206',\n",
       "   'evidence-385750']},\n",
       " 'claim-467': {'claim_text': 'This is the South Pole ice, 90% of Earth’s ice, and it’s getting thicker.',\n",
       "  'claim_label': 'DISPUTED',\n",
       "  'evidences': ['evidence-753057',\n",
       "   'evidence-457222',\n",
       "   'evidence-726320',\n",
       "   'evidence-502398',\n",
       "   'evidence-964793']},\n",
       " 'claim-2754': {'claim_text': '\"There are many urgent priorities that need the attention of Congress, and it is not for me as an invited guest in your country to say what they are.',\n",
       "  'claim_label': 'SUPPORTS',\n",
       "  'evidences': ['evidence-500716',\n",
       "   'evidence-667861',\n",
       "   'evidence-443214',\n",
       "   'evidence-773063',\n",
       "   'evidence-844048']},\n",
       " 'claim-2797': {'claim_text': 'Global brightening is caused by changes in cloud cover, reflective aerosols and absorbing aerosols.',\n",
       "  'claim_label': 'NOT_ENOUGH_INFO',\n",
       "  'evidences': ['evidence-624771',\n",
       "   'evidence-477857',\n",
       "   'evidence-883543',\n",
       "   'evidence-497968',\n",
       "   'evidence-843626']},\n",
       " 'claim-1771': {'claim_text': 'Peer-reviewed research, physics, and math all tell us that a grand solar minimum would have no more than a 0.3°C cooling effect, barely enough to put a dent in human-caused global warming.',\n",
       "  'claim_label': 'DISPUTED',\n",
       "  'evidences': ['evidence-484122',\n",
       "   'evidence-597084',\n",
       "   'evidence-1105554',\n",
       "   'evidence-92107',\n",
       "   'evidence-882924']},\n",
       " 'claim-1908': {'claim_text': 'In reality, gas produced by fracking is worse for the climate than coal.',\n",
       "  'claim_label': 'DISPUTED',\n",
       "  'evidences': ['evidence-1135599',\n",
       "   'evidence-742425',\n",
       "   'evidence-880315',\n",
       "   'evidence-459618',\n",
       "   'evidence-1197139']},\n",
       " 'claim-2000': {'claim_text': 'There is not a single candidate in the Republican primary that thinks we should do anything about climate change.',\n",
       "  'claim_label': 'DISPUTED',\n",
       "  'evidences': ['evidence-235043',\n",
       "   'evidence-1191580',\n",
       "   'evidence-264017',\n",
       "   'evidence-521666',\n",
       "   'evidence-972320']},\n",
       " 'claim-2084': {'claim_text': \"Hurricanes aren't linked to global warming\",\n",
       "  'claim_label': 'REFUTES',\n",
       "  'evidences': ['evidence-540292',\n",
       "   'evidence-391839',\n",
       "   'evidence-409332',\n",
       "   'evidence-8063',\n",
       "   'evidence-973130']},\n",
       " 'claim-1237': {'claim_text': 'the last sea-level high point, … occurred between the last two ice ages, about 125,000 years ago.',\n",
       "  'claim_label': 'DISPUTED',\n",
       "  'evidences': ['evidence-810653',\n",
       "   'evidence-380227',\n",
       "   'evidence-137385',\n",
       "   'evidence-1198673',\n",
       "   'evidence-899078']},\n",
       " 'claim-400': {'claim_text': 'The idea that climate change is producing heat records across the Earth is among the most egregious manipulations of data in the absurd global warming debate.',\n",
       "  'claim_label': 'NOT_ENOUGH_INFO',\n",
       "  'evidences': ['evidence-656493',\n",
       "   'evidence-183790',\n",
       "   'evidence-919384',\n",
       "   'evidence-872829',\n",
       "   'evidence-799984']},\n",
       " 'claim-1508': {'claim_text': 'global warming ceased around the end of the twentieth century and was followed (since 1997) by 19 years of stable temperature.',\n",
       "  'claim_label': 'SUPPORTS',\n",
       "  'evidences': ['evidence-1035716',\n",
       "   'evidence-1093172',\n",
       "   'evidence-856106',\n",
       "   'evidence-79952',\n",
       "   'evidence-509972']},\n",
       " 'claim-520': {'claim_text': 'Just 1.25 per cent of the carbon dioxide in the atmosphere-ocean system has been released by \\xadhumans in the past 250 years.',\n",
       "  'claim_label': 'REFUTES',\n",
       "  'evidences': ['evidence-220754',\n",
       "   'evidence-35432',\n",
       "   'evidence-1158606',\n",
       "   'evidence-1018299',\n",
       "   'evidence-7760']},\n",
       " 'claim-3064': {'claim_text': 'No warming since at least 1995, no melting glaciers and now no rising sea levels.',\n",
       "  'claim_label': 'DISPUTED',\n",
       "  'evidences': ['evidence-917435',\n",
       "   'evidence-705706',\n",
       "   'evidence-1017598',\n",
       "   'evidence-47598',\n",
       "   'evidence-1163873']},\n",
       " 'claim-1588': {'claim_text': \"Melting ice isn't warming the Arctic.\",\n",
       "  'claim_label': 'REFUTES',\n",
       "  'evidences': ['evidence-188110',\n",
       "   'evidence-964861',\n",
       "   'evidence-894521',\n",
       "   'evidence-1127398',\n",
       "   'evidence-829785']},\n",
       " 'claim-1488': {'claim_text': 'New Study Confirms EVs Considerably Worse For Climate Than Diesel Cars.',\n",
       "  'claim_label': 'REFUTES',\n",
       "  'evidences': ['evidence-102085',\n",
       "   'evidence-549356',\n",
       "   'evidence-837942',\n",
       "   'evidence-387020',\n",
       "   'evidence-716576']},\n",
       " 'claim-2733': {'claim_text': 'A number of independent studies using near-global satellite data find positive feedback and high climate sensitivity.',\n",
       "  'claim_label': 'DISPUTED',\n",
       "  'evidences': ['evidence-1051336',\n",
       "   'evidence-1014002',\n",
       "   'evidence-541401',\n",
       "   'evidence-899193',\n",
       "   'evidence-768621']},\n",
       " 'claim-809': {'claim_text': 'In the early 20th century, state and federal governments began aggressively fighting wildfires and trying to keep them as small as possible.',\n",
       "  'claim_label': 'REFUTES',\n",
       "  'evidences': ['evidence-453229',\n",
       "   'evidence-518008',\n",
       "   'evidence-1119806',\n",
       "   'evidence-591130',\n",
       "   'evidence-1103899']},\n",
       " 'claim-763': {'claim_text': 'And some plants – like algae which use carbon for photosynthesis – may even benefit.',\n",
       "  'claim_label': 'REFUTES',\n",
       "  'evidences': ['evidence-1031123',\n",
       "   'evidence-693983',\n",
       "   'evidence-1054751',\n",
       "   'evidence-551956',\n",
       "   'evidence-62496']},\n",
       " 'claim-454': {'claim_text': 'Man-made greenhouse gases play only an insignificant role.”',\n",
       "  'claim_label': 'SUPPORTS',\n",
       "  'evidences': ['evidence-1092463',\n",
       "   'evidence-307967',\n",
       "   'evidence-365320',\n",
       "   'evidence-223887',\n",
       "   'evidence-445289']},\n",
       " 'claim-1853': {'claim_text': 'Barack Obama supports proposals \"to devote billions of dollars annually to state game and fish agencies and federal land management agencies to help them ensure that fish and wildlife survive the impacts of climate change.\"',\n",
       "  'claim_label': 'DISPUTED',\n",
       "  'evidences': ['evidence-942611',\n",
       "   'evidence-412239',\n",
       "   'evidence-768284',\n",
       "   'evidence-1183942',\n",
       "   'evidence-8016']},\n",
       " 'claim-2838': {'claim_text': \"The data is being reported by the University of Illinois's Arctic Climate Research Center, and is derived from satellite observations of the Northern and Southern hemisphere polar regions (Daily Tech).\",\n",
       "  'claim_label': 'NOT_ENOUGH_INFO',\n",
       "  'evidences': ['evidence-1153221',\n",
       "   'evidence-503200',\n",
       "   'evidence-244964',\n",
       "   'evidence-689723',\n",
       "   'evidence-1048246']},\n",
       " 'claim-2028': {'claim_text': 'cutting speed limits could slow climate change',\n",
       "  'claim_label': 'REFUTES',\n",
       "  'evidences': ['evidence-1084600',\n",
       "   'evidence-41533',\n",
       "   'evidence-332601',\n",
       "   'evidence-278964',\n",
       "   'evidence-691068']},\n",
       " 'claim-2434': {'claim_text': 'The IPCC blames human emissions of carbon dioxide for the last  warming.',\n",
       "  'claim_label': 'SUPPORTS',\n",
       "  'evidences': ['evidence-1047395',\n",
       "   'evidence-505500',\n",
       "   'evidence-1202023',\n",
       "   'evidence-127619',\n",
       "   'evidence-231546']},\n",
       " 'claim-298': {'claim_text': 'Only very few peer-reviewed papers even go so far as to say that recent warming is chiefly anthropogenic.',\n",
       "  'claim_label': 'NOT_ENOUGH_INFO',\n",
       "  'evidences': ['evidence-322188',\n",
       "   'evidence-314878',\n",
       "   'evidence-1175478',\n",
       "   'evidence-406755',\n",
       "   'evidence-30008']},\n",
       " 'claim-338': {'claim_text': 'Rapid assessment of average temperatures in France between 26-28 June showed a “substantial” increase in the likelihood of the heatwave happening as a result of human-caused global warming, experts at the World Weather Attribution group said.',\n",
       "  'claim_label': 'REFUTES',\n",
       "  'evidences': ['evidence-561136',\n",
       "   'evidence-308328',\n",
       "   'evidence-540667',\n",
       "   'evidence-809116',\n",
       "   'evidence-444709']},\n",
       " 'claim-1672': {'claim_text': 'Global temperature is still rising and 2010 was the hottest recorded.',\n",
       "  'claim_label': 'SUPPORTS',\n",
       "  'evidences': ['evidence-1042611',\n",
       "   'evidence-1006052',\n",
       "   'evidence-198990',\n",
       "   'evidence-817524',\n",
       "   'evidence-845419']},\n",
       " 'claim-2840': {'claim_text': 'Arctic sea ice is also falling at an accelerated rate.',\n",
       "  'claim_label': 'SUPPORTS',\n",
       "  'evidences': ['evidence-1099184',\n",
       "   'evidence-996517',\n",
       "   'evidence-62286',\n",
       "   'evidence-324979',\n",
       "   'evidence-1144991']},\n",
       " 'claim-1425': {'claim_text': 'Each year sees the disappearance of thousands of plant and animal species which we will never know, which our children will never see, because they have been lost for ever.',\n",
       "  'claim_label': 'REFUTES',\n",
       "  'evidences': ['evidence-689951',\n",
       "   'evidence-160292',\n",
       "   'evidence-366511',\n",
       "   'evidence-491938',\n",
       "   'evidence-592757']},\n",
       " 'claim-1985': {'claim_text': 'The North Pole is melting \"a bit\" but the South Pole is getting bigger.',\n",
       "  'claim_label': 'DISPUTED',\n",
       "  'evidences': ['evidence-1201529',\n",
       "   'evidence-1000789',\n",
       "   'evidence-22191',\n",
       "   'evidence-108449',\n",
       "   'evidence-753011']},\n",
       " 'claim-1156': {'claim_text': 'The costs of emissions regulations, which will be paid by everyone, will be punishingly high and will provide no benefits to most people anywhere in the world.',\n",
       "  'claim_label': 'SUPPORTS',\n",
       "  'evidences': ['evidence-331287',\n",
       "   'evidence-421137',\n",
       "   'evidence-282748',\n",
       "   'evidence-226540',\n",
       "   'evidence-1803']},\n",
       " 'claim-2870': {'claim_text': \"Ironically, it's those who are mispresenting Hulme's paper that are the ones being misleading.\",\n",
       "  'claim_label': 'DISPUTED',\n",
       "  'evidences': ['evidence-203394',\n",
       "   'evidence-240237',\n",
       "   'evidence-867091',\n",
       "   'evidence-681600',\n",
       "   'evidence-485534']},\n",
       " 'claim-2898': {'claim_text': 'The report suggests significantly smaller overall  ice-mass losses than previous estimates.',\n",
       "  'claim_label': 'DISPUTED',\n",
       "  'evidences': ['evidence-604597',\n",
       "   'evidence-477424',\n",
       "   'evidence-780478',\n",
       "   'evidence-634699',\n",
       "   'evidence-518907']},\n",
       " 'claim-2329': {'claim_text': 'We know the Northwest Passage had been open before.\"',\n",
       "  'claim_label': 'REFUTES',\n",
       "  'evidences': ['evidence-392641',\n",
       "   'evidence-38334',\n",
       "   'evidence-881517',\n",
       "   'evidence-302505',\n",
       "   'evidence-401121']},\n",
       " 'claim-1998': {'claim_text': 'There is a link between climate change and the NSW bushfires.',\n",
       "  'claim_label': 'SUPPORTS',\n",
       "  'evidences': ['evidence-892537',\n",
       "   'evidence-1092560',\n",
       "   'evidence-370544',\n",
       "   'evidence-413461',\n",
       "   'evidence-344145']},\n",
       " 'claim-2209': {'claim_text': 'Surface temperatures can show short-term cooling when heat is exchanged between the atmosphere and the ocean, which has a much greater heat capacity than the air.',\n",
       "  'claim_label': 'DISPUTED',\n",
       "  'evidences': ['evidence-255240',\n",
       "   'evidence-241498',\n",
       "   'evidence-846635',\n",
       "   'evidence-1194725',\n",
       "   'evidence-691017']},\n",
       " 'claim-1582': {'claim_text': \"Tuvalu sea level isn't rising.\",\n",
       "  'claim_label': 'DISPUTED',\n",
       "  'evidences': ['evidence-257137',\n",
       "   'evidence-1047307',\n",
       "   'evidence-150277',\n",
       "   'evidence-856896',\n",
       "   'evidence-794724']},\n",
       " 'claim-3072': {'claim_text': '\"a paper...in Science magazine concludes that the climate sensitivity—how much the earth’s average temperature will rise as a result of a doubling of the atmospheric concentration of carbon dioxide—likely (that is, with a 66% probability) lies in the range 1.7°C to 2.6°C, with a median value of 2.3°C.',\n",
       "  'claim_label': 'REFUTES',\n",
       "  'evidences': ['evidence-433622',\n",
       "   'evidence-280452',\n",
       "   'evidence-280954',\n",
       "   'evidence-771006',\n",
       "   'evidence-445558']},\n",
       " 'claim-381': {'claim_text': '[subsidies for wind and solar] add to emissions because coal-fired elec\\xadtricity needs to be on standby for when there is no wind or sunshine.',\n",
       "  'claim_label': 'NOT_ENOUGH_INFO',\n",
       "  'evidences': ['evidence-100264',\n",
       "   'evidence-1008015',\n",
       "   'evidence-798215',\n",
       "   'evidence-549722',\n",
       "   'evidence-178920']},\n",
       " 'claim-398': {'claim_text': 'nothing we can do to stop the Earth’s naturally occurring climate cycles.',\n",
       "  'claim_label': 'NOT_ENOUGH_INFO',\n",
       "  'evidences': ['evidence-847096',\n",
       "   'evidence-324610',\n",
       "   'evidence-85809',\n",
       "   'evidence-32078',\n",
       "   'evidence-309327']},\n",
       " 'claim-1560': {'claim_text': 'Sea level rise predictions are exaggerated.',\n",
       "  'claim_label': 'NOT_ENOUGH_INFO',\n",
       "  'evidences': ['evidence-329253',\n",
       "   'evidence-202569',\n",
       "   'evidence-60252',\n",
       "   'evidence-1025463',\n",
       "   'evidence-170596']},\n",
       " 'claim-2246': {'claim_text': '\"His [Dr Spencer\\'s] latest research demonstrates that – in the short term, at any rate –  the temperature feedbacks that the IPCC imagines will greatly amplify  any initial warming caused by CO2 are net-negative, attenuating the  warming they are supposed to enhance.',\n",
       "  'claim_label': 'SUPPORTS',\n",
       "  'evidences': ['evidence-1175280',\n",
       "   'evidence-675693',\n",
       "   'evidence-359101',\n",
       "   'evidence-677627',\n",
       "   'evidence-423643']},\n",
       " 'claim-2774': {'claim_text': 'Actual reconstructions \"diverge\" from the instrumental series in the last part of 20th century.',\n",
       "  'claim_label': 'REFUTES',\n",
       "  'evidences': ['evidence-1163002',\n",
       "   'evidence-147843',\n",
       "   'evidence-248560',\n",
       "   'evidence-926732',\n",
       "   'evidence-139564']},\n",
       " 'claim-972': {'claim_text': '“Arctic land stores about twice as much carbon as the atmosphere.',\n",
       "  'claim_label': 'DISPUTED',\n",
       "  'evidences': ['evidence-635281',\n",
       "   'evidence-1138974',\n",
       "   'evidence-1025792',\n",
       "   'evidence-719602',\n",
       "   'evidence-980655']},\n",
       " 'claim-1531': {'claim_text': 'Earth’s climate is now changing faster than at any point in the history of modern civilization, primarily as a result of human activities.',\n",
       "  'claim_label': 'NOT_ENOUGH_INFO',\n",
       "  'evidences': ['evidence-507074',\n",
       "   'evidence-678063',\n",
       "   'evidence-771006',\n",
       "   'evidence-540896',\n",
       "   'evidence-1115403']},\n",
       " 'claim-2592': {'claim_text': '\"A July 6, 2007 study published in the journal Science about Greenland by an international team of scientists found DNA “evidence that suggests the frozen shield covering the immense island survived the Earth’s last period of global warming,” according to a Boston Globe Article. \\xa0...',\n",
       "  'claim_label': 'NOT_ENOUGH_INFO',\n",
       "  'evidences': ['evidence-597084',\n",
       "   'evidence-920882',\n",
       "   'evidence-768984',\n",
       "   'evidence-56196',\n",
       "   'evidence-1095288']},\n",
       " 'claim-2468': {'claim_text': '\"Satellite measurements indicate an absence of significant global warming since 1979, the very period that human carbon dioxide emissions have been increasing rapidly.',\n",
       "  'claim_label': 'REFUTES',\n",
       "  'evidences': ['evidence-814790',\n",
       "   'evidence-1008839',\n",
       "   'evidence-931093',\n",
       "   'evidence-1099922',\n",
       "   'evidence-95782']},\n",
       " 'claim-463': {'claim_text': '“So now we’re able to explain from natural factors how we’ve had the 20th Century warming.',\n",
       "  'claim_label': 'SUPPORTS',\n",
       "  'evidences': ['evidence-475975',\n",
       "   'evidence-67949',\n",
       "   'evidence-365357',\n",
       "   'evidence-1066236',\n",
       "   'evidence-697140']},\n",
       " 'claim-616': {'claim_text': 'The effect of long-term warming is to make it harder to count on snowmelt runoff in wet times',\n",
       "  'claim_label': 'DISPUTED',\n",
       "  'evidences': ['evidence-855683',\n",
       "   'evidence-684641',\n",
       "   'evidence-1134905',\n",
       "   'evidence-432878',\n",
       "   'evidence-12763']},\n",
       " 'claim-1240': {'claim_text': '“Ice-free means the central basin of the Arctic will be ice-free',\n",
       "  'claim_label': 'REFUTES',\n",
       "  'evidences': ['evidence-686100',\n",
       "   'evidence-1141747',\n",
       "   'evidence-1152662',\n",
       "   'evidence-93951',\n",
       "   'evidence-244827']},\n",
       " 'claim-2951': {'claim_text': 'The two most cited composites are PMOD and ACRIM.',\n",
       "  'claim_label': 'SUPPORTS',\n",
       "  'evidences': ['evidence-821999',\n",
       "   'evidence-1155131',\n",
       "   'evidence-109565',\n",
       "   'evidence-762586',\n",
       "   'evidence-367988']},\n",
       " 'claim-1977': {'claim_text': 'The climate-change agreement between the United States and China \"requires the Chinese to do nothing at all for 16 years.\"',\n",
       "  'claim_label': 'DISPUTED',\n",
       "  'evidences': ['evidence-463341',\n",
       "   'evidence-187781',\n",
       "   'evidence-1142571',\n",
       "   'evidence-296160',\n",
       "   'evidence-541919']},\n",
       " 'claim-942': {'claim_text': '‘We could be decades too fast, or decades too slow,’said one of them, Robert M. DeConto of the University of Massachusetts, Amherst.',\n",
       "  'claim_label': 'REFUTES',\n",
       "  'evidences': ['evidence-249342',\n",
       "   'evidence-1023486',\n",
       "   'evidence-514530',\n",
       "   'evidence-355987',\n",
       "   'evidence-258826']},\n",
       " 'claim-2755': {'claim_text': 'Global warming is an increasingly urgent problem.',\n",
       "  'claim_label': 'NOT_ENOUGH_INFO',\n",
       "  'evidences': ['evidence-835142',\n",
       "   'evidence-355221',\n",
       "   'evidence-247852',\n",
       "   'evidence-133139',\n",
       "   'evidence-1009422']},\n",
       " 'claim-1230': {'claim_text': 'On the Pacific Coast, a climate pattern that had pushed billions of gallons of water toward Asia is now ending, so that in coming decades the sea is likely to rise quickly off states like Oregon and California.',\n",
       "  'claim_label': 'REFUTES',\n",
       "  'evidences': ['evidence-1023466',\n",
       "   'evidence-115631',\n",
       "   'evidence-1183942',\n",
       "   'evidence-978133',\n",
       "   'evidence-460253']},\n",
       " 'claim-3123': {'claim_text': 'Given that a doubling of carbon dioxide would change the surface heat flux by only two watts per square meter, it is evident that a small change in cloud cover can strongly affect the response to carbon dioxide.\"',\n",
       "  'claim_label': 'NOT_ENOUGH_INFO',\n",
       "  'evidences': ['evidence-1184120',\n",
       "   'evidence-752115',\n",
       "   'evidence-757378',\n",
       "   'evidence-813817',\n",
       "   'evidence-68942']},\n",
       " 'claim-1684': {'claim_text': 'The 2nd law of thermodynamics is consistent with the greenhouse effect which is directly observed.',\n",
       "  'claim_label': 'REFUTES',\n",
       "  'evidences': ['evidence-429536',\n",
       "   'evidence-936060',\n",
       "   'evidence-164516',\n",
       "   'evidence-332737',\n",
       "   'evidence-882646']},\n",
       " 'claim-839': {'claim_text': '“Even if we meet the Paris goals of two degrees warming, cities like Karachi and Kolkata will become close to uninhabitable, annually encountering deadly heat waves like those that crippled them in 2015.',\n",
       "  'claim_label': 'NOT_ENOUGH_INFO',\n",
       "  'evidences': ['evidence-392964',\n",
       "   'evidence-970011',\n",
       "   'evidence-758254',\n",
       "   'evidence-481566',\n",
       "   'evidence-97646']},\n",
       " 'claim-2423': {'claim_text': 'Arctic sea ice has been steadily thinning, even in the last few years while the surface ice (eg - sea ice extent) increased slightly.',\n",
       "  'claim_label': 'DISPUTED',\n",
       "  'evidences': ['evidence-926107',\n",
       "   'evidence-15429',\n",
       "   'evidence-520308',\n",
       "   'evidence-111881',\n",
       "   'evidence-66438']},\n",
       " 'claim-1243': {'claim_text': 'by that I mean the central Arctic will be ice-free.',\n",
       "  'claim_label': 'REFUTES',\n",
       "  'evidences': ['evidence-1143397',\n",
       "   'evidence-250420',\n",
       "   'evidence-270085',\n",
       "   'evidence-595170',\n",
       "   'evidence-604437']},\n",
       " 'claim-494': {'claim_text': 'The Massachusetts Bay Colony in 1635 experienced a Category 3 or 4 storm, with up to a 20-foot storm surge.',\n",
       "  'claim_label': 'NOT_ENOUGH_INFO',\n",
       "  'evidences': ['evidence-1117597',\n",
       "   'evidence-829999',\n",
       "   'evidence-126835',\n",
       "   'evidence-586588',\n",
       "   'evidence-111080']},\n",
       " 'claim-1458': {'claim_text': 'Glaciers are retreating almost everywhere around the world — including in the Alps, Himalayas, Andes, Rockies, Alaska and Africa.',\n",
       "  'claim_label': 'DISPUTED',\n",
       "  'evidences': ['evidence-64214',\n",
       "   'evidence-908603',\n",
       "   'evidence-732747',\n",
       "   'evidence-136588',\n",
       "   'evidence-384115']},\n",
       " 'claim-461': {'claim_text': 'Temperatures cooled from about 1940 to 1975, and then they rose from about ’75 to about 2005 or so, and since then they’ve been flat or cooling.',\n",
       "  'claim_label': 'SUPPORTS',\n",
       "  'evidences': ['evidence-1163499',\n",
       "   'evidence-786383',\n",
       "   'evidence-314464',\n",
       "   'evidence-1114286',\n",
       "   'evidence-1094357']},\n",
       " 'claim-1304': {'claim_text': 'in a letter to The Times from Lord Krebs and company, essentially telling the newspaper to stop reporting less-than-negative climate stories.',\n",
       "  'claim_label': 'DISPUTED',\n",
       "  'evidences': ['evidence-277195',\n",
       "   'evidence-162969',\n",
       "   'evidence-1066182',\n",
       "   'evidence-952733',\n",
       "   'evidence-883548']},\n",
       " 'claim-2564': {'claim_text': 'This small warming is  likely a result of the natural alterations in global ocean currents  which are driven by ocean salinity variations.',\n",
       "  'claim_label': 'REFUTES',\n",
       "  'evidences': ['evidence-534304',\n",
       "   'evidence-685091',\n",
       "   'evidence-459287',\n",
       "   'evidence-664023',\n",
       "   'evidence-1001780']},\n",
       " 'claim-2121': {'claim_text': 'Infrared Iris will reduce global warming',\n",
       "  'claim_label': 'SUPPORTS',\n",
       "  'evidences': ['evidence-107506',\n",
       "   'evidence-806753',\n",
       "   'evidence-216461',\n",
       "   'evidence-302339',\n",
       "   'evidence-173323']},\n",
       " 'claim-2631': {'claim_text': 'The temperatures are expected to change by as much as 10 Fahrenheit degrees at different places of the globe.',\n",
       "  'claim_label': 'NOT_ENOUGH_INFO',\n",
       "  'evidences': ['evidence-968599',\n",
       "   'evidence-717806',\n",
       "   'evidence-874950',\n",
       "   'evidence-753507',\n",
       "   'evidence-1031822']},\n",
       " 'claim-1141': {'claim_text': '“While record low sea ice is nothing new in the Arctic, this is a surprising turn of events for the Antarctic.',\n",
       "  'claim_label': 'SUPPORTS',\n",
       "  'evidences': ['evidence-286254',\n",
       "   'evidence-172951',\n",
       "   'evidence-776091',\n",
       "   'evidence-598368',\n",
       "   'evidence-1207337']},\n",
       " 'claim-2398': {'claim_text': 'While there are direct ways in which CO2 is a pollutant (acidification of the ocean), its primary impact is its greenhouse warming effect.',\n",
       "  'claim_label': 'NOT_ENOUGH_INFO',\n",
       "  'evidences': ['evidence-198963',\n",
       "   'evidence-513057',\n",
       "   'evidence-669520',\n",
       "   'evidence-120972',\n",
       "   'evidence-509467']},\n",
       " 'claim-1048': {'claim_text': 'While transient weather variability is playing a key role here, the widespread record warmth across the U.S. so far this year is part of a long-term trend toward more warm temperature records versus cold ones.',\n",
       "  'claim_label': 'DISPUTED',\n",
       "  'evidences': ['evidence-141833',\n",
       "   'evidence-1170729',\n",
       "   'evidence-337932',\n",
       "   'evidence-458281',\n",
       "   'evidence-341905']},\n",
       " 'claim-2783': {'claim_text': 'The study indicates far less future global warming will occur than United Nations computer models have predicted, and supports prior studies indicating increases in atmospheric carbon dioxide trap far less heat than alarmists have claimed.',\n",
       "  'claim_label': 'DISPUTED',\n",
       "  'evidences': ['evidence-220586',\n",
       "   'evidence-22788',\n",
       "   'evidence-169051',\n",
       "   'evidence-24687',\n",
       "   'evidence-297466']},\n",
       " 'claim-1003': {'claim_text': 'A recent study in Nature Geoscience, for instance, called into question whether the Arctic’s melting, and in particular its sea ice loss, has been causing winter cooling over Eurasia, another idea that has been swept up in the debate over the jet stream and weather extremes.”',\n",
       "  'claim_label': 'SUPPORTS',\n",
       "  'evidences': ['evidence-245847',\n",
       "   'evidence-1039123',\n",
       "   'evidence-603375',\n",
       "   'evidence-47501',\n",
       "   'evidence-961646']},\n",
       " 'claim-1872': {'claim_text': 'Donald Trump claims Global Warming is a hoax',\n",
       "  'claim_label': 'REFUTES',\n",
       "  'evidences': ['evidence-455406',\n",
       "   'evidence-657026',\n",
       "   'evidence-909747',\n",
       "   'evidence-954785',\n",
       "   'evidence-152327']},\n",
       " 'claim-1842': {'claim_text': 'A video shows Koko the gorilla spontaneously using sign language to issue a warning about climate change.',\n",
       "  'claim_label': 'REFUTES',\n",
       "  'evidences': ['evidence-953004',\n",
       "   'evidence-437694',\n",
       "   'evidence-269808',\n",
       "   'evidence-823554',\n",
       "   'evidence-708432']},\n",
       " 'claim-2411': {'claim_text': 'Note that computer models are just concatenations of calculations you could do on a hand-held calculator, so they are theoretical and cannot be part of any evidence.\"',\n",
       "  'claim_label': 'NOT_ENOUGH_INFO',\n",
       "  'evidences': ['evidence-1188771',\n",
       "   'evidence-384458',\n",
       "   'evidence-689521',\n",
       "   'evidence-314903',\n",
       "   'evidence-828297']},\n",
       " 'claim-2428': {'claim_text': 'It was the post war  industrialization that caused the rapid rise in global CO2 emissions,  but by 1945 when this began, the Earth was already in a cooling phase  that started around 1942 and continued until 1975.',\n",
       "  'claim_label': 'REFUTES',\n",
       "  'evidences': ['evidence-256947',\n",
       "   'evidence-885560',\n",
       "   'evidence-631663',\n",
       "   'evidence-949060',\n",
       "   'evidence-355497']},\n",
       " 'claim-1198': {'claim_text': '” ‘You see, gas in America is incredibly cheap, because of fracking,’ he says.',\n",
       "  'claim_label': 'SUPPORTS',\n",
       "  'evidences': ['evidence-1014177',\n",
       "   'evidence-413909',\n",
       "   'evidence-873986',\n",
       "   'evidence-712098',\n",
       "   'evidence-991198']},\n",
       " 'claim-678': {'claim_text': 'In the process, the cows will emit much greenhouse gas, and they will consume far more calories in beans than they will yield in meat, meaning far more clearcutting of forests to farm cattle feed than would be necessary if the beans above were simply eaten by people.”',\n",
       "  'claim_label': 'REFUTES',\n",
       "  'evidences': ['evidence-383274',\n",
       "   'evidence-487317',\n",
       "   'evidence-293073',\n",
       "   'evidence-600314',\n",
       "   'evidence-222070']},\n",
       " 'claim-2105': {'claim_text': 'Excess CO2 from human emissions has a long residence time of over 100 years',\n",
       "  'claim_label': 'SUPPORTS',\n",
       "  'evidences': ['evidence-959171',\n",
       "   'evidence-1039969',\n",
       "   'evidence-141679',\n",
       "   'evidence-641889',\n",
       "   'evidence-1174422']},\n",
       " 'claim-648': {'claim_text': '‘there will not be enough nitrogen available to sustain the high carbon uptake scenarios.’',\n",
       "  'claim_label': 'NOT_ENOUGH_INFO',\n",
       "  'evidences': ['evidence-715250',\n",
       "   'evidence-369192',\n",
       "   'evidence-512497',\n",
       "   'evidence-787921',\n",
       "   'evidence-655484']},\n",
       " 'claim-822': {'claim_text': 'Climate policy must compete with other long-term threats for always-scarce resources.”',\n",
       "  'claim_label': 'NOT_ENOUGH_INFO',\n",
       "  'evidences': ['evidence-1166291',\n",
       "   'evidence-919905',\n",
       "   'evidence-813800',\n",
       "   'evidence-733916',\n",
       "   'evidence-964627']},\n",
       " 'claim-2561': {'claim_text': 'Observed sea levels are actually tracking at the upper range of the IPCC projections.',\n",
       "  'claim_label': 'SUPPORTS',\n",
       "  'evidences': ['evidence-1205416',\n",
       "   'evidence-276290',\n",
       "   'evidence-256064',\n",
       "   'evidence-371897',\n",
       "   'evidence-209902']},\n",
       " 'claim-2219': {'claim_text': 'The increase in temperatures since 1975 is a consistent feature of all reconstructions.',\n",
       "  'claim_label': 'REFUTES',\n",
       "  'evidences': ['evidence-888559',\n",
       "   'evidence-457411',\n",
       "   'evidence-76888',\n",
       "   'evidence-493289',\n",
       "   'evidence-198464']},\n",
       " 'claim-1343': {'claim_text': 'roughly three-quarters of the tidal flood days now occurring in towns along the East Coast would not be happening in the absence of the rise in the sea level caused by human emissions.',\n",
       "  'claim_label': 'DISPUTED',\n",
       "  'evidences': ['evidence-205577',\n",
       "   'evidence-210381',\n",
       "   'evidence-1010907',\n",
       "   'evidence-331115',\n",
       "   'evidence-988323']},\n",
       " 'claim-1351': {'claim_text': 'a marginally significant warming trend in the data over the past several years, erasing the temperature plateau that vexed climate alarmists have found difficult to explain.',\n",
       "  'claim_label': 'DISPUTED',\n",
       "  'evidences': ['evidence-735048',\n",
       "   'evidence-663998',\n",
       "   'evidence-557203',\n",
       "   'evidence-305033',\n",
       "   'evidence-425764']},\n",
       " 'claim-2347': {'claim_text': 'In truth, the overwhelming majority of climate-research funding comes from the federal government and left-wing foundations.',\n",
       "  'claim_label': 'SUPPORTS',\n",
       "  'evidences': ['evidence-474080',\n",
       "   'evidence-727479',\n",
       "   'evidence-1194408',\n",
       "   'evidence-84669',\n",
       "   'evidence-1035920']},\n",
       " 'claim-293': {'claim_text': 'When the measuring equipment gets old and needs replacing, it often requires re-calibration.',\n",
       "  'claim_label': 'DISPUTED',\n",
       "  'evidences': ['evidence-706442',\n",
       "   'evidence-1056825',\n",
       "   'evidence-1182919',\n",
       "   'evidence-1141778',\n",
       "   'evidence-60152']},\n",
       " 'claim-910': {'claim_text': 'The cement, iron and steel, and petroleum refining industries could see their production cut by 21% 19%, and 11% respectively.”',\n",
       "  'claim_label': 'DISPUTED',\n",
       "  'evidences': ['evidence-878699',\n",
       "   'evidence-773868',\n",
       "   'evidence-706339',\n",
       "   'evidence-1074949',\n",
       "   'evidence-635616']},\n",
       " 'claim-2815': {'claim_text': 'A new peer-reviewed study on Surface Warming and the Solar Cycle found that times of high solar activity are on average 0.2°C warmer than times of low solar activity, and that there is a polar amplification of the warming.',\n",
       "  'claim_label': 'DISPUTED',\n",
       "  'evidences': ['evidence-185218',\n",
       "   'evidence-531856',\n",
       "   'evidence-108394',\n",
       "   'evidence-412540',\n",
       "   'evidence-491579']},\n",
       " 'claim-1652': {'claim_text': 'The strong CO2 effect has been observed by many different measurements.',\n",
       "  'claim_label': 'DISPUTED',\n",
       "  'evidences': ['evidence-159430',\n",
       "   'evidence-874144',\n",
       "   'evidence-182285',\n",
       "   'evidence-32852',\n",
       "   'evidence-870092']},\n",
       " 'claim-1212': {'claim_text': '(In technical lingo, the so-called social cost of carbon would be negative.)”',\n",
       "  'claim_label': 'SUPPORTS',\n",
       "  'evidences': ['evidence-361320',\n",
       "   'evidence-444706',\n",
       "   'evidence-1203187',\n",
       "   'evidence-201524',\n",
       "   'evidence-640474']}}"
      ]
     },
     "execution_count": 108,
     "metadata": {},
     "output_type": "execute_result"
    }
   ],
   "source": []
  },
  {
   "cell_type": "code",
   "execution_count": null,
   "metadata": {},
   "outputs": [],
   "source": []
  }
 ],
 "metadata": {
  "kernelspec": {
   "display_name": "venv",
   "language": "python",
   "name": "python3"
  },
  "language_info": {
   "codemirror_mode": {
    "name": "ipython",
    "version": 3
   },
   "file_extension": ".py",
   "mimetype": "text/x-python",
   "name": "python",
   "nbconvert_exporter": "python",
   "pygments_lexer": "ipython3",
   "version": "3.9.6"
  },
  "orig_nbformat": 4
 },
 "nbformat": 4,
 "nbformat_minor": 2
}
