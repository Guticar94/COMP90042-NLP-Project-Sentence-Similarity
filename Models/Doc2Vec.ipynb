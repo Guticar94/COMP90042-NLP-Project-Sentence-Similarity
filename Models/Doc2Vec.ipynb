{
  "cells": [
    {
      "cell_type": "code",
      "execution_count": 1,
      "metadata": {},
      "outputs": [],
      "source": [
        "import json\n",
        "import torch\n",
        "import torch.nn as nn\n",
        "import torch.optim as optim\n",
        "from torch.utils.data import DataLoader, TensorDataset\n",
        "from torchtext.data.utils import get_tokenizer\n",
        "from torchtext.vocab import build_vocab_from_iterator\n",
        "\n",
        "import re"
      ]
    },
    {
      "cell_type": "code",
      "execution_count": 2,
      "metadata": {},
      "outputs": [],
      "source": [
        "class Doc2VecModel(nn.Module):\n",
        "    def __init__(self, num_docs, vocab_size, vector_size):\n",
        "        super(Doc2VecModel, self).__init__()\n",
        "        self.num_docs = num_docs\n",
        "        self.vocab_size = vocab_size\n",
        "        self.vector_size = vector_size\n",
        "        \n",
        "        # Embeddings for words and documents\n",
        "        self.word_embeddings = nn.Embedding(vocab_size, vector_size)\n",
        "        self.doc_embeddings = nn.Embedding(num_docs, vector_size)\n",
        "        \n",
        "        # Decoder layer to predict the words\n",
        "        self.decoder = nn.Linear(vector_size, vocab_size)\n",
        "\n",
        "    def forward(self, doc_ids, context_word_ids):\n",
        "        # Average the context words embeddings\n",
        "        word_embeds = self.word_embeddings(context_word_ids)\n",
        "        context_vector = torch.mean(word_embeds, dim=1)\n",
        "        \n",
        "        # Add document vector\n",
        "        doc_embeds = self.doc_embeddings(doc_ids)\n",
        "        combined_vector = (context_vector + doc_embeds) / 2\n",
        "\n",
        "        # Predict words\n",
        "        logits = self.decoder(combined_vector)\n",
        "        return logits\n",
        "\n",
        "def train(model, data_loader, epochs, learning_rate=0.01):\n",
        "    criterion = nn.CrossEntropyLoss()\n",
        "    optimizer = optim.SGD(model.parameters(), lr=learning_rate)\n",
        "    \n",
        "    model.train()\n",
        "    for epoch in range(epochs):\n",
        "        total_loss = 0\n",
        "        for doc_ids, context_word_ids, target_word_ids in data_loader:\n",
        "            optimizer.zero_grad()\n",
        "            logits = model(doc_ids, context_word_ids)\n",
        "            loss = criterion(logits, target_word_ids)\n",
        "            loss.backward()\n",
        "            optimizer.step()\n",
        "            total_loss += loss.item()\n",
        "        \n",
        "        print(f\"Epoch {epoch+1}, Loss: {total_loss / len(data_loader)}\")"
      ]
    },
    {
      "cell_type": "markdown",
      "metadata": {},
      "source": [
        "## Loading Data"
      ]
    },
    {
      "cell_type": "code",
      "execution_count": 3,
      "metadata": {},
      "outputs": [],
      "source": [
        "# Read train claims\n",
        "with open('../data/train-claims.json', 'r') as f:\n",
        "    claims = json.load(f)"
      ]
    },
    {
      "cell_type": "code",
      "execution_count": 4,
      "metadata": {},
      "outputs": [
        {
          "data": {
            "text/plain": [
              "1228"
            ]
          },
          "execution_count": 4,
          "metadata": {},
          "output_type": "execute_result"
        }
      ],
      "source": [
        "len(claims)"
      ]
    },
    {
      "cell_type": "code",
      "execution_count": 5,
      "metadata": {},
      "outputs": [
        {
          "name": "stdout",
          "output_type": "stream",
          "text": [
            "Not only is there no scientific evidence that CO2 is a pollutant, higher CO2 concentrations actually help ecosystems support more plant and animal life.\n",
            "['evidence-442946', 'evidence-1194317', 'evidence-12171']\n"
          ]
        }
      ],
      "source": [
        "print(claims['claim-1937']['claim_text'])\n",
        "print(claims['claim-1937']['evidences'])"
      ]
    },
    {
      "cell_type": "code",
      "execution_count": 6,
      "metadata": {},
      "outputs": [],
      "source": [
        "# Read evidence\n",
        "with open('../data/evidence.json', 'r') as f:\n",
        "    evidences = json.load(f)\n",
        "evidences = {i: str.lower(j) for i,j in evidences.items()}"
      ]
    },
    {
      "cell_type": "code",
      "execution_count": 7,
      "metadata": {},
      "outputs": [
        {
          "data": {
            "text/plain": [
              "1208827"
            ]
          },
          "execution_count": 7,
          "metadata": {},
          "output_type": "execute_result"
        }
      ],
      "source": [
        "len(evidences)"
      ]
    },
    {
      "cell_type": "code",
      "execution_count": 8,
      "metadata": {},
      "outputs": [
        {
          "data": {
            "text/plain": [
              "'at very high concentrations (100 times atmospheric concentration, or greater), carbon dioxide can be toxic to animal life, so raising the concentration to 10,000 ppm (1%) or higher for several hours will eliminate pests such as whiteflies and spider mites in a greenhouse.'"
            ]
          },
          "execution_count": 8,
          "metadata": {},
          "output_type": "execute_result"
        }
      ],
      "source": [
        "evidences['evidence-442946']"
      ]
    },
    {
      "cell_type": "code",
      "execution_count": 9,
      "metadata": {},
      "outputs": [],
      "source": [
        "# Calculate vocabulary size\n",
        "# Collect all texts from claims and evidences\n",
        "corpus = []\n",
        "for claim in claims.values():\n",
        "    corpus.append(str.lower(claim['claim_text']))  # Add claim text\n",
        "\n",
        "for evidence_id, evidence_text in evidences.items():\n",
        "    corpus.append(evidence_text)  # Add evidence text"
      ]
    },
    {
      "cell_type": "code",
      "execution_count": 10,
      "metadata": {},
      "outputs": [
        {
          "name": "stderr",
          "output_type": "stream",
          "text": [
            "1210055lines [00:18, 66415.19lines/s]\n"
          ]
        },
        {
          "name": "stdout",
          "output_type": "stream",
          "text": [
            "The vocabulary size is: 730578\n"
          ]
        }
      ],
      "source": [
        "# Define tokenizer - here we use a basic English tokenizer\n",
        "tokenizer = get_tokenizer('basic_english')\n",
        "\n",
        "# Tokenize the data\n",
        "def yield_tokens(data_iter):\n",
        "    for text in data_iter:\n",
        "        yield tokenizer(text)\n",
        "\n",
        "# Build vocabulary\n",
        "vocab = build_vocab_from_iterator(yield_tokens(corpus))\n",
        "\n",
        "# Get the size of the vocabulary\n",
        "print(f\"The vocabulary size is: {len(vocab)}\")"
      ]
    },
    {
      "cell_type": "code",
      "execution_count": 11,
      "metadata": {},
      "outputs": [],
      "source": [
        "# Tokenize the corpus into a list of word indices\n",
        "tokenized_corpus = [[vocab[token] for token in tokenizer(doc)] for doc in corpus]\n",
        "\n",
        "# Parameters for context window size\n",
        "window_size = 2  # Context window size: 2 words to the left and 2 to the right\n",
        "\n",
        "# Prepare data for training\n",
        "doc_ids = []\n",
        "context_word_ids = []\n",
        "target_word_ids = []\n",
        "\n",
        "for doc_id, words in enumerate(tokenized_corpus):\n",
        "    for i in range(len(words)):\n",
        "        start = max(0, i - window_size)\n",
        "        end = min(len(words), i + window_size + 1)\n",
        "\n",
        "        # Prepare the context indices and the target word\n",
        "        context_indices = [words[j] for j in range(start, end) if j != i]\n",
        "        target_index = words[i]\n",
        "\n",
        "        # Append each context with the same target to the dataset\n",
        "        for ctx_id in context_indices:\n",
        "            doc_ids.append(doc_id)\n",
        "            context_word_ids.append(ctx_id)\n",
        "            target_word_ids.append(target_index)\n",
        "\n",
        "# Convert lists to PyTorch tensors if needed\n",
        "doc_ids = torch.tensor(doc_ids)\n",
        "context_word_ids = torch.tensor(context_word_ids)\n",
        "target_word_ids = torch.tensor(target_word_ids)"
      ]
    },
    {
      "cell_type": "code",
      "execution_count": 12,
      "metadata": {},
      "outputs": [],
      "source": [
        "# Create the model\n",
        "num_docs = len(doc_ids)\n",
        "vocab_size = len(vocab)\n",
        "vector_size = 50\n",
        "\n",
        "model = Doc2VecModel(num_docs, vocab_size, vector_size)"
      ]
    },
    {
      "cell_type": "code",
      "execution_count": 13,
      "metadata": {},
      "outputs": [],
      "source": [
        "dataset = TensorDataset(doc_ids, context_word_ids, target_word_ids)\n",
        "data_loader = DataLoader(dataset, batch_size=1, shuffle=True)"
      ]
    },
    {
      "cell_type": "code",
      "execution_count": 54,
      "metadata": {},
      "outputs": [],
      "source": [
        "# Train the model\n",
        "train(model, data_loader, epochs=10)"
      ]
    },
    {
      "cell_type": "code",
      "execution_count": null,
      "metadata": {},
      "outputs": [],
      "source": [
        "# To get document vectors\n",
        "document_vectors = model.doc_embeddings.weight.data\n",
        "print(document_vectors)"
      ]
    }
  ],
  "metadata": {
    "colab": {
      "provenance": [],
      "toc_visible": true
    },
    "kernelspec": {
      "display_name": "Python 3",
      "name": "python3"
    },
    "language_info": {
      "codemirror_mode": {
        "name": "ipython",
        "version": 3
      },
      "file_extension": ".py",
      "mimetype": "text/x-python",
      "name": "python",
      "nbconvert_exporter": "python",
      "pygments_lexer": "ipython3",
      "version": "3.8.18"
    }
  },
  "nbformat": 4,
  "nbformat_minor": 0
}
